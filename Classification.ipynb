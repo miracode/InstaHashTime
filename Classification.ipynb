{
 "metadata": {
  "name": "",
  "signature": "sha256:1f6f4382d0c355f004b57cd35a48d01336a5af1fd8161ddae8c0ce7cdf87eaa0"
 },
 "nbformat": 3,
 "nbformat_minor": 0,
 "worksheets": [
  {
   "cells": [
    {
     "cell_type": "code",
     "collapsed": false,
     "input": [
      "import graphlab\n",
      "import datetime\n",
      "from unidecode import unidecode\n",
      "%load_ext autoreload\n",
      "%autoreload 2\n",
      "graphlab.canvas.set_target('ipynb')"
     ],
     "language": "python",
     "metadata": {},
     "outputs": [
      {
       "output_type": "stream",
       "stream": "stdout",
       "text": [
        "The autoreload extension is already loaded. To reload it, use:\n",
        "  %reload_ext autoreload\n"
       ]
      }
     ],
     "prompt_number": 26
    },
    {
     "cell_type": "markdown",
     "metadata": {},
     "source": [
      "#Clean the data"
     ]
    },
    {
     "cell_type": "code",
     "collapsed": false,
     "input": [
      "insta_data = graphlab.SFrame.read_csv('marks_hashtag_data5.csv', delimiter=';', column_type_hints=[list, int, str, int, int, int])"
     ],
     "language": "python",
     "metadata": {},
     "outputs": [
      {
       "output_type": "stream",
       "stream": "stderr",
       "text": [
        "[INFO] This non-commercial license of GraphLab Create is assigned to rascatim@gmail.com and will expire on November 08, 2016. For commercial licensing options, visit https://dato.com/buy/.\n",
        "\n"
       ]
      },
      {
       "output_type": "stream",
       "stream": "stderr",
       "text": [
        "[INFO] Start server at: ipc:///tmp/graphlab_server-7730 - Server binary: /Users/Michelle/.virtualenvs/hashtime/lib/python2.7/site-packages/graphlab/unity_server - Server log: /tmp/graphlab_server_1447808324.log\n"
       ]
      },
      {
       "output_type": "stream",
       "stream": "stderr",
       "text": [
        "[INFO] GraphLab Server Version: 1.6.1\n"
       ]
      },
      {
       "html": [
        "<pre>PROGRESS: Finished parsing file /Users/Michelle/projects/hashtime/marks_hashtag_data5.csv</pre>"
       ],
       "metadata": {},
       "output_type": "display_data",
       "text": [
        "PROGRESS: Finished parsing file /Users/Michelle/projects/hashtime/marks_hashtag_data5.csv"
       ]
      },
      {
       "html": [
        "<pre>PROGRESS: Parsing completed. Parsed 10920 lines in 0.327338 secs.</pre>"
       ],
       "metadata": {},
       "output_type": "display_data",
       "text": [
        "PROGRESS: Parsing completed. Parsed 10920 lines in 0.327338 secs."
       ]
      }
     ],
     "prompt_number": 3
    },
    {
     "cell_type": "code",
     "collapsed": false,
     "input": [
      "insta_data.head(2)"
     ],
     "language": "python",
     "metadata": {},
     "outputs": [
      {
       "html": [
        "<div style=\"max-height:1000px;max-width:1500px;overflow:auto;\"><table frame=\"box\" rules=\"cols\">\n",
        "    <tr>\n",
        "        <th style=\"padding-left: 1em; padding-right: 1em; text-align: center\">hashtags</th>\n",
        "        <th style=\"padding-left: 1em; padding-right: 1em; text-align: center\">timestamp</th>\n",
        "        <th style=\"padding-left: 1em; padding-right: 1em; text-align: center\">type</th>\n",
        "        <th style=\"padding-left: 1em; padding-right: 1em; text-align: center\">users_in_photo</th>\n",
        "        <th style=\"padding-left: 1em; padding-right: 1em; text-align: center\">user_id</th>\n",
        "        <th style=\"padding-left: 1em; padding-right: 1em; text-align: center\">likes</th>\n",
        "    </tr>\n",
        "    <tr>\n",
        "        <td style=\"padding-left: 1em; padding-right: 1em; text-align: center; vertical-align: top\">[u'climbing', u'running',<br>u'trees'] ...</td>\n",
        "        <td style=\"padding-left: 1em; padding-right: 1em; text-align: center; vertical-align: top\">1447708386</td>\n",
        "        <td style=\"padding-left: 1em; padding-right: 1em; text-align: center; vertical-align: top\">image</td>\n",
        "        <td style=\"padding-left: 1em; padding-right: 1em; text-align: center; vertical-align: top\">0</td>\n",
        "        <td style=\"padding-left: 1em; padding-right: 1em; text-align: center; vertical-align: top\">355460706</td>\n",
        "        <td style=\"padding-left: 1em; padding-right: 1em; text-align: center; vertical-align: top\">0</td>\n",
        "    </tr>\n",
        "    <tr>\n",
        "        <td style=\"padding-left: 1em; padding-right: 1em; text-align: center; vertical-align: top\">[u'jarecki', u'climbing',<br>u'wspin'] ...</td>\n",
        "        <td style=\"padding-left: 1em; padding-right: 1em; text-align: center; vertical-align: top\">1447708318</td>\n",
        "        <td style=\"padding-left: 1em; padding-right: 1em; text-align: center; vertical-align: top\">image</td>\n",
        "        <td style=\"padding-left: 1em; padding-right: 1em; text-align: center; vertical-align: top\">0</td>\n",
        "        <td style=\"padding-left: 1em; padding-right: 1em; text-align: center; vertical-align: top\">1970141976</td>\n",
        "        <td style=\"padding-left: 1em; padding-right: 1em; text-align: center; vertical-align: top\">2</td>\n",
        "    </tr>\n",
        "</table>\n",
        "[2 rows x 6 columns]<br/>\n",
        "</div>"
       ],
       "metadata": {},
       "output_type": "pyout",
       "prompt_number": 59,
       "text": [
        "Columns:\n",
        "\thashtags\tlist\n",
        "\ttimestamp\tint\n",
        "\ttype\tstr\n",
        "\tusers_in_photo\tint\n",
        "\tuser_id\tint\n",
        "\tlikes\tint\n",
        "\n",
        "Rows: 2\n",
        "\n",
        "Data:\n",
        "+-------------------------------+------------+-------+----------------+\n",
        "|            hashtags           | timestamp  |  type | users_in_photo |\n",
        "+-------------------------------+------------+-------+----------------+\n",
        "| [u'climbing', u'running', ... | 1447708386 | image |       0        |\n",
        "| [u'jarecki', u'climbing', ... | 1447708318 | image |       0        |\n",
        "+-------------------------------+------------+-------+----------------+\n",
        "+------------+-------+\n",
        "|  user_id   | likes |\n",
        "+------------+-------+\n",
        "| 355460706  |   0   |\n",
        "| 1970141976 |   2   |\n",
        "+------------+-------+\n",
        "[2 rows x 6 columns]"
       ]
      }
     ],
     "prompt_number": 59
    },
    {
     "cell_type": "code",
     "collapsed": false,
     "input": [
      "user_followers = graphlab.SFrame.read_csv('user_followers.csv', delimiter=';')"
     ],
     "language": "python",
     "metadata": {},
     "outputs": [
      {
       "html": [
        "<pre>PROGRESS: Finished parsing file /Users/Michelle/projects/hashtime/user_followers.csv</pre>"
       ],
       "metadata": {},
       "output_type": "display_data",
       "text": [
        "PROGRESS: Finished parsing file /Users/Michelle/projects/hashtime/user_followers.csv"
       ]
      },
      {
       "html": [
        "<pre>PROGRESS: Parsing completed. Parsed 100 lines in 0.050249 secs.</pre>"
       ],
       "metadata": {},
       "output_type": "display_data",
       "text": [
        "PROGRESS: Parsing completed. Parsed 100 lines in 0.050249 secs."
       ]
      },
      {
       "output_type": "stream",
       "stream": "stdout",
       "text": [
        "------------------------------------------------------"
       ]
      },
      {
       "html": [
        "<pre>PROGRESS: Unable to parse line \"user_id;followers\"</pre>"
       ],
       "metadata": {},
       "output_type": "display_data",
       "text": [
        "PROGRESS: Unable to parse line \"user_id;followers\""
       ]
      },
      {
       "html": [
        "<pre>PROGRESS: 1 lines failed to parse correctly</pre>"
       ],
       "metadata": {},
       "output_type": "display_data",
       "text": [
        "PROGRESS: 1 lines failed to parse correctly"
       ]
      },
      {
       "html": [
        "<pre>PROGRESS: Finished parsing file /Users/Michelle/projects/hashtime/user_followers.csv</pre>"
       ],
       "metadata": {},
       "output_type": "display_data",
       "text": [
        "PROGRESS: Finished parsing file /Users/Michelle/projects/hashtime/user_followers.csv"
       ]
      },
      {
       "html": [
        "<pre>PROGRESS: Parsing completed. Parsed 9232 lines in 0.05946 secs.</pre>"
       ],
       "metadata": {},
       "output_type": "display_data",
       "text": [
        "PROGRESS: Parsing completed. Parsed 9232 lines in 0.05946 secs."
       ]
      },
      {
       "output_type": "stream",
       "stream": "stdout",
       "text": [
        "\n",
        "Inferred types from first line of file as \n",
        "column_type_hints=[int,int]\n",
        "If parsing fails due to incorrect types, you can correct\n",
        "the inferred type list above and pass it to read_csv in\n",
        "the column_type_hints argument\n",
        "------------------------------------------------------\n"
       ]
      }
     ],
     "prompt_number": 4
    },
    {
     "cell_type": "code",
     "collapsed": false,
     "input": [
      "user_followers.head(2)"
     ],
     "language": "python",
     "metadata": {},
     "outputs": [
      {
       "html": [
        "<div style=\"max-height:1000px;max-width:1500px;overflow:auto;\"><table frame=\"box\" rules=\"cols\">\n",
        "    <tr>\n",
        "        <th style=\"padding-left: 1em; padding-right: 1em; text-align: center\">user_id</th>\n",
        "        <th style=\"padding-left: 1em; padding-right: 1em; text-align: center\">followers</th>\n",
        "    </tr>\n",
        "    <tr>\n",
        "        <td style=\"padding-left: 1em; padding-right: 1em; text-align: center; vertical-align: top\">145904773</td>\n",
        "        <td style=\"padding-left: 1em; padding-right: 1em; text-align: center; vertical-align: top\">129</td>\n",
        "    </tr>\n",
        "    <tr>\n",
        "        <td style=\"padding-left: 1em; padding-right: 1em; text-align: center; vertical-align: top\">269503168</td>\n",
        "        <td style=\"padding-left: 1em; padding-right: 1em; text-align: center; vertical-align: top\">331</td>\n",
        "    </tr>\n",
        "</table>\n",
        "[2 rows x 2 columns]<br/>\n",
        "</div>"
       ],
       "metadata": {},
       "output_type": "pyout",
       "prompt_number": 4,
       "text": [
        "Columns:\n",
        "\tuser_id\tint\n",
        "\tfollowers\tint\n",
        "\n",
        "Rows: 2\n",
        "\n",
        "Data:\n",
        "+-----------+-----------+\n",
        "|  user_id  | followers |\n",
        "+-----------+-----------+\n",
        "| 145904773 |    129    |\n",
        "| 269503168 |    331    |\n",
        "+-----------+-----------+\n",
        "[2 rows x 2 columns]"
       ]
      }
     ],
     "prompt_number": 4
    },
    {
     "cell_type": "code",
     "collapsed": false,
     "input": [
      "insta_data = insta_data.join(user_followers, on='user_id', how='left')"
     ],
     "language": "python",
     "metadata": {},
     "outputs": [],
     "prompt_number": 5
    },
    {
     "cell_type": "code",
     "collapsed": false,
     "input": [
      "insta_data = insta_data[insta_data['followers'] != None]"
     ],
     "language": "python",
     "metadata": {},
     "outputs": [],
     "prompt_number": 6
    },
    {
     "cell_type": "code",
     "collapsed": false,
     "input": [
      "insta_data.head(2)"
     ],
     "language": "python",
     "metadata": {},
     "outputs": [
      {
       "html": [
        "<div style=\"max-height:1000px;max-width:1500px;overflow:auto;\"><table frame=\"box\" rules=\"cols\">\n",
        "    <tr>\n",
        "        <th style=\"padding-left: 1em; padding-right: 1em; text-align: center\">hashtags</th>\n",
        "        <th style=\"padding-left: 1em; padding-right: 1em; text-align: center\">timestamp</th>\n",
        "        <th style=\"padding-left: 1em; padding-right: 1em; text-align: center\">type</th>\n",
        "        <th style=\"padding-left: 1em; padding-right: 1em; text-align: center\">users_in_photo</th>\n",
        "        <th style=\"padding-left: 1em; padding-right: 1em; text-align: center\">user_id</th>\n",
        "        <th style=\"padding-left: 1em; padding-right: 1em; text-align: center\">likes</th>\n",
        "        <th style=\"padding-left: 1em; padding-right: 1em; text-align: center\">followers</th>\n",
        "    </tr>\n",
        "    <tr>\n",
        "        <td style=\"padding-left: 1em; padding-right: 1em; text-align: center; vertical-align: top\">[u'climbing', u'running',<br>u'trees'] ...</td>\n",
        "        <td style=\"padding-left: 1em; padding-right: 1em; text-align: center; vertical-align: top\">1447708386</td>\n",
        "        <td style=\"padding-left: 1em; padding-right: 1em; text-align: center; vertical-align: top\">image</td>\n",
        "        <td style=\"padding-left: 1em; padding-right: 1em; text-align: center; vertical-align: top\">0</td>\n",
        "        <td style=\"padding-left: 1em; padding-right: 1em; text-align: center; vertical-align: top\">355460706</td>\n",
        "        <td style=\"padding-left: 1em; padding-right: 1em; text-align: center; vertical-align: top\">0</td>\n",
        "        <td style=\"padding-left: 1em; padding-right: 1em; text-align: center; vertical-align: top\">71</td>\n",
        "    </tr>\n",
        "    <tr>\n",
        "        <td style=\"padding-left: 1em; padding-right: 1em; text-align: center; vertical-align: top\">[u'jarecki', u'climbing',<br>u'wspin'] ...</td>\n",
        "        <td style=\"padding-left: 1em; padding-right: 1em; text-align: center; vertical-align: top\">1447708318</td>\n",
        "        <td style=\"padding-left: 1em; padding-right: 1em; text-align: center; vertical-align: top\">image</td>\n",
        "        <td style=\"padding-left: 1em; padding-right: 1em; text-align: center; vertical-align: top\">0</td>\n",
        "        <td style=\"padding-left: 1em; padding-right: 1em; text-align: center; vertical-align: top\">1970141976</td>\n",
        "        <td style=\"padding-left: 1em; padding-right: 1em; text-align: center; vertical-align: top\">2</td>\n",
        "        <td style=\"padding-left: 1em; padding-right: 1em; text-align: center; vertical-align: top\">60</td>\n",
        "    </tr>\n",
        "</table>\n",
        "[2 rows x 7 columns]<br/>\n",
        "</div>"
       ],
       "metadata": {},
       "output_type": "pyout",
       "prompt_number": 7,
       "text": [
        "Columns:\n",
        "\thashtags\tlist\n",
        "\ttimestamp\tint\n",
        "\ttype\tstr\n",
        "\tusers_in_photo\tint\n",
        "\tuser_id\tint\n",
        "\tlikes\tint\n",
        "\tfollowers\tint\n",
        "\n",
        "Rows: 2\n",
        "\n",
        "Data:\n",
        "+-------------------------------+------------+-------+----------------+\n",
        "|            hashtags           | timestamp  |  type | users_in_photo |\n",
        "+-------------------------------+------------+-------+----------------+\n",
        "| [u'climbing', u'running', ... | 1447708386 | image |       0        |\n",
        "| [u'jarecki', u'climbing', ... | 1447708318 | image |       0        |\n",
        "+-------------------------------+------------+-------+----------------+\n",
        "+------------+-------+-----------+\n",
        "|  user_id   | likes | followers |\n",
        "+------------+-------+-----------+\n",
        "| 355460706  |   0   |     71    |\n",
        "| 1970141976 |   2   |     60    |\n",
        "+------------+-------+-----------+\n",
        "[2 rows x 7 columns]"
       ]
      }
     ],
     "prompt_number": 7
    },
    {
     "cell_type": "markdown",
     "metadata": {},
     "source": [
      "The hashtags are like \"u'hashtag'\", lets fix that"
     ]
    },
    {
     "cell_type": "code",
     "collapsed": false,
     "input": [
      "insta_data['hashtags'] = insta_data['hashtags'].apply(lambda x: [unidecode(u'' + ht.replace(\"u'\", '').replace(\"'\", \"\")) for ht in x])"
     ],
     "language": "python",
     "metadata": {},
     "outputs": [],
     "prompt_number": 8
    },
    {
     "cell_type": "code",
     "collapsed": false,
     "input": [
      "insta_data.head(2)"
     ],
     "language": "python",
     "metadata": {},
     "outputs": [
      {
       "html": [
        "<div style=\"max-height:1000px;max-width:1500px;overflow:auto;\"><table frame=\"box\" rules=\"cols\">\n",
        "    <tr>\n",
        "        <th style=\"padding-left: 1em; padding-right: 1em; text-align: center\">hashtags</th>\n",
        "        <th style=\"padding-left: 1em; padding-right: 1em; text-align: center\">timestamp</th>\n",
        "        <th style=\"padding-left: 1em; padding-right: 1em; text-align: center\">type</th>\n",
        "        <th style=\"padding-left: 1em; padding-right: 1em; text-align: center\">users_in_photo</th>\n",
        "        <th style=\"padding-left: 1em; padding-right: 1em; text-align: center\">user_id</th>\n",
        "        <th style=\"padding-left: 1em; padding-right: 1em; text-align: center\">likes</th>\n",
        "        <th style=\"padding-left: 1em; padding-right: 1em; text-align: center\">followers</th>\n",
        "    </tr>\n",
        "    <tr>\n",
        "        <td style=\"padding-left: 1em; padding-right: 1em; text-align: center; vertical-align: top\">[climbing, running,<br>trees] ...</td>\n",
        "        <td style=\"padding-left: 1em; padding-right: 1em; text-align: center; vertical-align: top\">1447708386</td>\n",
        "        <td style=\"padding-left: 1em; padding-right: 1em; text-align: center; vertical-align: top\">image</td>\n",
        "        <td style=\"padding-left: 1em; padding-right: 1em; text-align: center; vertical-align: top\">0</td>\n",
        "        <td style=\"padding-left: 1em; padding-right: 1em; text-align: center; vertical-align: top\">355460706</td>\n",
        "        <td style=\"padding-left: 1em; padding-right: 1em; text-align: center; vertical-align: top\">0</td>\n",
        "        <td style=\"padding-left: 1em; padding-right: 1em; text-align: center; vertical-align: top\">71</td>\n",
        "    </tr>\n",
        "    <tr>\n",
        "        <td style=\"padding-left: 1em; padding-right: 1em; text-align: center; vertical-align: top\">[jarecki, climbing,<br>wspin] ...</td>\n",
        "        <td style=\"padding-left: 1em; padding-right: 1em; text-align: center; vertical-align: top\">1447708318</td>\n",
        "        <td style=\"padding-left: 1em; padding-right: 1em; text-align: center; vertical-align: top\">image</td>\n",
        "        <td style=\"padding-left: 1em; padding-right: 1em; text-align: center; vertical-align: top\">0</td>\n",
        "        <td style=\"padding-left: 1em; padding-right: 1em; text-align: center; vertical-align: top\">1970141976</td>\n",
        "        <td style=\"padding-left: 1em; padding-right: 1em; text-align: center; vertical-align: top\">2</td>\n",
        "        <td style=\"padding-left: 1em; padding-right: 1em; text-align: center; vertical-align: top\">60</td>\n",
        "    </tr>\n",
        "</table>\n",
        "[2 rows x 7 columns]<br/>\n",
        "</div>"
       ],
       "metadata": {},
       "output_type": "pyout",
       "prompt_number": 9,
       "text": [
        "Columns:\n",
        "\thashtags\tlist\n",
        "\ttimestamp\tint\n",
        "\ttype\tstr\n",
        "\tusers_in_photo\tint\n",
        "\tuser_id\tint\n",
        "\tlikes\tint\n",
        "\tfollowers\tint\n",
        "\n",
        "Rows: 2\n",
        "\n",
        "Data:\n",
        "+----------------------------+------------+-------+----------------+------------+\n",
        "|          hashtags          | timestamp  |  type | users_in_photo |  user_id   |\n",
        "+----------------------------+------------+-------+----------------+------------+\n",
        "| [climbing, running, trees] | 1447708386 | image |       0        | 355460706  |\n",
        "| [jarecki, climbing, wspin] | 1447708318 | image |       0        | 1970141976 |\n",
        "+----------------------------+------------+-------+----------------+------------+\n",
        "+-------+-----------+\n",
        "| likes | followers |\n",
        "+-------+-----------+\n",
        "|   0   |     71    |\n",
        "|   2   |     60    |\n",
        "+-------+-----------+\n",
        "[2 rows x 7 columns]"
       ]
      }
     ],
     "prompt_number": 9
    },
    {
     "cell_type": "markdown",
     "metadata": {},
     "source": [
      "###Make hashtags we're interested in into their own column"
     ]
    },
    {
     "cell_type": "code",
     "collapsed": false,
     "input": [
      "my_hashtags = ['climbing', 'rockclimbing', 'rockclimb',\n",
      "               'climbing_pictures_of_instagram', 'bouldering', 'escalada',\n",
      "               'justgoclimb', 'chalkmatters', 'outdoors', 'frictionlabs',\n",
      "               'climbyourimpossible', 'sendage']"
     ],
     "language": "python",
     "metadata": {},
     "outputs": [],
     "prompt_number": 10
    },
    {
     "cell_type": "code",
     "collapsed": false,
     "input": [
      "for ht in my_hashtags:\n",
      "    insta_data[ht] = insta_data['hashtags'].apply(lambda x: ht in x)"
     ],
     "language": "python",
     "metadata": {},
     "outputs": [],
     "prompt_number": 11
    },
    {
     "cell_type": "markdown",
     "metadata": {},
     "source": [
      "###Add likes ranges for easier classification"
     ]
    },
    {
     "cell_type": "code",
     "collapsed": false,
     "input": [
      "insta_data['likes'].show(view=\"Numeric\")"
     ],
     "language": "python",
     "metadata": {},
     "outputs": [
      {
       "javascript": [
        "$(\"head\").append($(\"<link/>\").attr({\n",
        "  rel:  \"stylesheet\",\n",
        "  type: \"text/css\",\n",
        "  href: \"//cdnjs.cloudflare.com/ajax/libs/font-awesome/4.1.0/css/font-awesome.min.css\"\n",
        "}));\n",
        "$(\"head\").append($(\"<link/>\").attr({\n",
        "  rel:  \"stylesheet\",\n",
        "  type: \"text/css\",\n",
        "  href: \"//dato.com/files/canvas/1.6.1/css/canvas.css\"\n",
        "}));\n",
        "\n",
        "            (function(){\n",
        "\n",
        "                var e = null;\n",
        "                if (typeof element == 'undefined') {\n",
        "                    var scripts = document.getElementsByTagName('script');\n",
        "                    var thisScriptTag = scripts[scripts.length-1];\n",
        "                    var parentDiv = thisScriptTag.parentNode;\n",
        "                    e = document.createElement('div');\n",
        "                    parentDiv.appendChild(e);\n",
        "                } else {\n",
        "                    e = element[0];\n",
        "                }\n",
        "\n",
        "                if (typeof requirejs !== 'undefined') {\n",
        "                    // disable load timeout; ipython_app.js is large and can take a while to load.\n",
        "                    requirejs.config({waitSeconds: 0});\n",
        "                }\n",
        "\n",
        "                require(['//dato.com/files/canvas/1.6.1/js/ipython_app.js'], function(IPythonApp){\n",
        "                    var app = new IPythonApp();\n",
        "                    app.attachView('sarray','Numeric', {\"ipython\": true, \"sketch\": {\"std\": 302.7474647423353, \"complete\": true, \"min\": 0.0, \"max\": 42296.0, \"quantile\": [0.0, 4.0, 5.0, 7.0, 7.0, 8.0, 9.0, 9.0, 10.0, 11.0, 11.0, 12.0, 12.0, 13.0, 13.0, 14.0, 14.0, 14.0, 15.0, 15.0, 15.0, 16.0, 16.0, 17.0, 17.0, 17.0, 18.0, 18.0, 19.0, 19.0, 19.0, 20.0, 20.0, 21.0, 21.0, 21.0, 22.0, 22.0, 23.0, 23.0, 24.0, 24.0, 25.0, 25.0, 26.0, 27.0, 27.0, 28.0, 28.0, 29.0, 29.0, 30.0, 31.0, 31.0, 32.0, 33.0, 34.0, 35.0, 36.0, 37.0, 38.0, 39.0, 40.0, 41.0, 42.0, 43.0, 45.0, 46.0, 47.0, 48.0, 49.0, 51.0, 52.0, 53.0, 55.0, 56.0, 58.0, 60.0, 61.0, 63.0, 65.0, 67.0, 70.0, 72.0, 75.0, 79.0, 82.0, 87.0, 92.0, 97.0, 101.0, 107.0, 114.0, 122.0, 130.0, 143.0, 160.0, 186.0, 224.0, 433.0, 42296.0], \"median\": 29.0, \"numeric\": true, \"num_unique\": 473, \"num_undefined\": 0, \"var\": 91656.02740791155, \"progress\": 1.0, \"size\": 22811, \"frequent_items\": {\"0\": {\"frequency\": 13, \"value\": 0}, \"1\": {\"frequency\": 23, \"value\": 1}, \"2\": {\"frequency\": 38, \"value\": 2}, \"3\": {\"frequency\": 73, \"value\": 3}, \"4\": {\"frequency\": 130, \"value\": 4}, \"5\": {\"frequency\": 215, \"value\": 5}, \"6\": {\"frequency\": 191, \"value\": 6}, \"7\": {\"frequency\": 311, \"value\": 7}, \"8\": {\"frequency\": 266, \"value\": 8}, \"9\": {\"frequency\": 388, \"value\": 9}, \"10\": {\"frequency\": 363, \"value\": 10}, \"11\": {\"frequency\": 439, \"value\": 11}, \"12\": {\"frequency\": 385, \"value\": 12}, \"13\": {\"frequency\": 557, \"value\": 13}, \"14\": {\"frequency\": 644, \"value\": 14}, \"15\": {\"frequency\": 630, \"value\": 15}, \"16\": {\"frequency\": 577, \"value\": 16}, \"17\": {\"frequency\": 610, \"value\": 17}, \"18\": {\"frequency\": 497, \"value\": 18}, \"19\": {\"frequency\": 570, \"value\": 19}, \"20\": {\"frequency\": 585, \"value\": 20}, \"21\": {\"frequency\": 548, \"value\": 21}, \"22\": {\"frequency\": 495, \"value\": 22}, \"23\": {\"frequency\": 491, \"value\": 23}, \"24\": {\"frequency\": 446, \"value\": 24}, \"25\": {\"frequency\": 373, \"value\": 25}, \"26\": {\"frequency\": 356, \"value\": 26}, \"27\": {\"frequency\": 501, \"value\": 27}, \"28\": {\"frequency\": 359, \"value\": 28}, \"29\": {\"frequency\": 401, \"value\": 29}, \"30\": {\"frequency\": 336, \"value\": 30}, \"31\": {\"frequency\": 321, \"value\": 31}, \"32\": {\"frequency\": 286, \"value\": 32}, \"33\": {\"frequency\": 264, \"value\": 33}, \"34\": {\"frequency\": 272, \"value\": 34}, \"35\": {\"frequency\": 259, \"value\": 35}, \"36\": {\"frequency\": 209, \"value\": 36}, \"37\": {\"frequency\": 205, \"value\": 37}, \"38\": {\"frequency\": 234, \"value\": 38}, \"39\": {\"frequency\": 223, \"value\": 39}, \"40\": {\"frequency\": 187, \"value\": 40}, \"41\": {\"frequency\": 195, \"value\": 41}, \"42\": {\"frequency\": 200, \"value\": 42}, \"43\": {\"frequency\": 203, \"value\": 43}, \"44\": {\"frequency\": 173, \"value\": 44}, \"45\": {\"frequency\": 223, \"value\": 45}, \"46\": {\"frequency\": 206, \"value\": 46}, \"47\": {\"frequency\": 223, \"value\": 47}, \"48\": {\"frequency\": 152, \"value\": 48}, \"49\": {\"frequency\": 145, \"value\": 49}, \"50\": {\"frequency\": 208, \"value\": 50}, \"51\": {\"frequency\": 140, \"value\": 51}, \"52\": {\"frequency\": 192, \"value\": 52}, \"53\": {\"frequency\": 178, \"value\": 53}, \"54\": {\"frequency\": 155, \"value\": 54}, \"55\": {\"frequency\": 193, \"value\": 55}, \"56\": {\"frequency\": 112, \"value\": 56}, \"57\": {\"frequency\": 163, \"value\": 57}, \"58\": {\"frequency\": 113, \"value\": 58}, \"59\": {\"frequency\": 117, \"value\": 59}, \"60\": {\"frequency\": 148, \"value\": 60}, \"61\": {\"frequency\": 109, \"value\": 61}, \"62\": {\"frequency\": 132, \"value\": 62}, \"63\": {\"frequency\": 111, \"value\": 63}, \"64\": {\"frequency\": 140, \"value\": 64}, \"65\": {\"frequency\": 87, \"value\": 65}, \"66\": {\"frequency\": 104, \"value\": 66}, \"67\": {\"frequency\": 123, \"value\": 67}, \"68\": {\"frequency\": 100, \"value\": 68}, \"69\": {\"frequency\": 78, \"value\": 69}, \"70\": {\"frequency\": 79, \"value\": 70}, \"71\": {\"frequency\": 73, \"value\": 71}, \"72\": {\"frequency\": 105, \"value\": 72}, \"73\": {\"frequency\": 121, \"value\": 73}, \"74\": {\"frequency\": 70, \"value\": 74}, \"75\": {\"frequency\": 73, \"value\": 75}, \"76\": {\"frequency\": 55, \"value\": 76}, \"77\": {\"frequency\": 55, \"value\": 77}, \"78\": {\"frequency\": 33, \"value\": 78}, \"79\": {\"frequency\": 108, \"value\": 79}, \"80\": {\"frequency\": 40, \"value\": 80}, \"81\": {\"frequency\": 106, \"value\": 81}, \"82\": {\"frequency\": 84, \"value\": 82}, \"83\": {\"frequency\": 57, \"value\": 83}, \"84\": {\"frequency\": 27, \"value\": 84}, \"85\": {\"frequency\": 30, \"value\": 85}, \"86\": {\"frequency\": 18, \"value\": 86}, \"87\": {\"frequency\": 45, \"value\": 87}, \"88\": {\"frequency\": 56, \"value\": 88}, \"89\": {\"frequency\": 43, \"value\": 89}, \"90\": {\"frequency\": 22, \"value\": 90}, \"91\": {\"frequency\": 21, \"value\": 91}, \"92\": {\"frequency\": 75, \"value\": 92}, \"93\": {\"frequency\": 22, \"value\": 93}, \"94\": {\"frequency\": 62, \"value\": 94}, \"95\": {\"frequency\": 67, \"value\": 95}, \"96\": {\"frequency\": 46, \"value\": 96}, \"97\": {\"frequency\": 59, \"value\": 97}, \"98\": {\"frequency\": 39, \"value\": 98}, \"99\": {\"frequency\": 65, \"value\": 99}, \"100\": {\"frequency\": 45, \"value\": 100}, \"101\": {\"frequency\": 103, \"value\": 101}, \"102\": {\"frequency\": 27, \"value\": 102}, \"103\": {\"frequency\": 46, \"value\": 103}, \"104\": {\"frequency\": 59, \"value\": 104}, \"105\": {\"frequency\": 17, \"value\": 105}, \"106\": {\"frequency\": 15, \"value\": 106}, \"107\": {\"frequency\": 18, \"value\": 107}, \"108\": {\"frequency\": 29, \"value\": 108}, \"109\": {\"frequency\": 20, \"value\": 109}, \"110\": {\"frequency\": 12, \"value\": 110}, \"111\": {\"frequency\": 85, \"value\": 111}, \"112\": {\"frequency\": 30, \"value\": 112}, \"113\": {\"frequency\": 12, \"value\": 113}, \"114\": {\"frequency\": 12, \"value\": 114}, \"115\": {\"frequency\": 45, \"value\": 115}, \"116\": {\"frequency\": 11, \"value\": 116}, \"117\": {\"frequency\": 14, \"value\": 117}, \"118\": {\"frequency\": 15, \"value\": 118}, \"119\": {\"frequency\": 22, \"value\": 119}, \"120\": {\"frequency\": 48, \"value\": 120}, \"121\": {\"frequency\": 67, \"value\": 121}, \"122\": {\"frequency\": 38, \"value\": 122}, \"123\": {\"frequency\": 21, \"value\": 123}, \"124\": {\"frequency\": 36, \"value\": 124}, \"125\": {\"frequency\": 37, \"value\": 125}, \"126\": {\"frequency\": 10, \"value\": 126}, \"127\": {\"frequency\": 6, \"value\": 127}, \"128\": {\"frequency\": 61, \"value\": 128}, \"129\": {\"frequency\": 13, \"value\": 129}, \"130\": {\"frequency\": 36, \"value\": 130}, \"131\": {\"frequency\": 16, \"value\": 131}, \"132\": {\"frequency\": 4, \"value\": 132}, \"133\": {\"frequency\": 15, \"value\": 133}, \"134\": {\"frequency\": 7, \"value\": 134}, \"135\": {\"frequency\": 45, \"value\": 135}, \"136\": {\"frequency\": 13, \"value\": 136}, \"137\": {\"frequency\": 12, \"value\": 137}, \"138\": {\"frequency\": 25, \"value\": 138}, \"139\": {\"frequency\": 10, \"value\": 139}, \"140\": {\"frequency\": 41, \"value\": 140}, \"141\": {\"frequency\": 8, \"value\": 141}, \"142\": {\"frequency\": 13, \"value\": 142}, \"143\": {\"frequency\": 17, \"value\": 143}, \"144\": {\"frequency\": 23, \"value\": 144}, \"145\": {\"frequency\": 7, \"value\": 145}, \"146\": {\"frequency\": 11, \"value\": 146}, \"147\": {\"frequency\": 33, \"value\": 147}, \"148\": {\"frequency\": 10, \"value\": 148}, \"149\": {\"frequency\": 11, \"value\": 149}, \"150\": {\"frequency\": 7, \"value\": 150}, \"151\": {\"frequency\": 12, \"value\": 151}, \"152\": {\"frequency\": 29, \"value\": 152}, \"153\": {\"frequency\": 3, \"value\": 153}, \"154\": {\"frequency\": 17, \"value\": 154}, \"155\": {\"frequency\": 6, \"value\": 155}, \"156\": {\"frequency\": 24, \"value\": 156}, \"157\": {\"frequency\": 3, \"value\": 157}, \"158\": {\"frequency\": 25, \"value\": 158}, \"159\": {\"frequency\": 3, \"value\": 159}, \"160\": {\"frequency\": 14, \"value\": 160}, \"161\": {\"frequency\": 8, \"value\": 161}, \"162\": {\"frequency\": 10, \"value\": 162}, \"163\": {\"frequency\": 9, \"value\": 163}, \"164\": {\"frequency\": 8, \"value\": 164}, \"165\": {\"frequency\": 19, \"value\": 165}, \"166\": {\"frequency\": 6, \"value\": 166}, \"167\": {\"frequency\": 8, \"value\": 167}, \"168\": {\"frequency\": 4, \"value\": 168}, \"169\": {\"frequency\": 4, \"value\": 169}, \"170\": {\"frequency\": 5, \"value\": 170}, \"171\": {\"frequency\": 3, \"value\": 171}, \"172\": {\"frequency\": 5, \"value\": 172}, \"173\": {\"frequency\": 3, \"value\": 173}, \"174\": {\"frequency\": 14, \"value\": 174}, \"175\": {\"frequency\": 2, \"value\": 175}, \"176\": {\"frequency\": 6, \"value\": 176}, \"177\": {\"frequency\": 33, \"value\": 177}, \"178\": {\"frequency\": 4, \"value\": 178}, \"179\": {\"frequency\": 5, \"value\": 179}, \"180\": {\"frequency\": 4, \"value\": 180}, \"181\": {\"frequency\": 4, \"value\": 181}, \"182\": {\"frequency\": 4, \"value\": 182}, \"183\": {\"frequency\": 2, \"value\": 183}, \"184\": {\"frequency\": 7, \"value\": 184}, \"185\": {\"frequency\": 11, \"value\": 185}, \"186\": {\"frequency\": 15, \"value\": 186}, \"187\": {\"frequency\": 13, \"value\": 187}, \"188\": {\"frequency\": 4, \"value\": 188}, \"189\": {\"frequency\": 4, \"value\": 189}, \"191\": {\"frequency\": 8, \"value\": 191}, \"192\": {\"frequency\": 10, \"value\": 192}, \"193\": {\"frequency\": 3, \"value\": 193}, \"194\": {\"frequency\": 7, \"value\": 194}, \"195\": {\"frequency\": 4, \"value\": 195}, \"196\": {\"frequency\": 7, \"value\": 196}, \"197\": {\"frequency\": 4, \"value\": 197}, \"198\": {\"frequency\": 3, \"value\": 198}, \"199\": {\"frequency\": 10, \"value\": 199}, \"200\": {\"frequency\": 8, \"value\": 200}, \"201\": {\"frequency\": 12, \"value\": 201}, \"202\": {\"frequency\": 8, \"value\": 202}, \"203\": {\"frequency\": 3, \"value\": 203}, \"204\": {\"frequency\": 6, \"value\": 204}, \"205\": {\"frequency\": 2, \"value\": 205}, \"2254\": {\"frequency\": 1, \"value\": 2254}, \"2255\": {\"frequency\": 2, \"value\": 2255}, \"208\": {\"frequency\": 1, \"value\": 208}, \"209\": {\"frequency\": 3, \"value\": 209}, \"210\": {\"frequency\": 4, \"value\": 210}, \"211\": {\"frequency\": 4, \"value\": 211}, \"212\": {\"frequency\": 11, \"value\": 212}, \"213\": {\"frequency\": 5, \"value\": 213}, \"215\": {\"frequency\": 13, \"value\": 215}, \"216\": {\"frequency\": 2, \"value\": 216}, \"217\": {\"frequency\": 1, \"value\": 217}, \"218\": {\"frequency\": 1, \"value\": 218}, \"219\": {\"frequency\": 4, \"value\": 219}, \"220\": {\"frequency\": 6, \"value\": 220}, \"221\": {\"frequency\": 5, \"value\": 221}, \"222\": {\"frequency\": 2, \"value\": 222}, \"223\": {\"frequency\": 1, \"value\": 223}, \"224\": {\"frequency\": 3, \"value\": 224}, \"226\": {\"frequency\": 1, \"value\": 226}, \"227\": {\"frequency\": 4, \"value\": 227}, \"228\": {\"frequency\": 1, \"value\": 228}, \"229\": {\"frequency\": 1, \"value\": 229}, \"230\": {\"frequency\": 3, \"value\": 230}, \"232\": {\"frequency\": 3, \"value\": 232}, \"233\": {\"frequency\": 9, \"value\": 233}, \"2282\": {\"frequency\": 1, \"value\": 2282}, \"236\": {\"frequency\": 1, \"value\": 236}, \"237\": {\"frequency\": 5, \"value\": 237}, \"238\": {\"frequency\": 1, \"value\": 238}, \"239\": {\"frequency\": 1, \"value\": 239}, \"240\": {\"frequency\": 8, \"value\": 240}, \"241\": {\"frequency\": 1, \"value\": 241}, \"2290\": {\"frequency\": 1, \"value\": 2290}, \"244\": {\"frequency\": 2, \"value\": 244}, \"245\": {\"frequency\": 4, \"value\": 245}, \"246\": {\"frequency\": 2, \"value\": 246}, \"248\": {\"frequency\": 1, \"value\": 248}, \"249\": {\"frequency\": 2, \"value\": 249}, \"250\": {\"frequency\": 1, \"value\": 250}, \"251\": {\"frequency\": 8, \"value\": 251}, \"252\": {\"frequency\": 1, \"value\": 252}, \"253\": {\"frequency\": 2, \"value\": 253}, \"255\": {\"frequency\": 1, \"value\": 255}, \"256\": {\"frequency\": 4, \"value\": 256}, \"257\": {\"frequency\": 4, \"value\": 257}, \"258\": {\"frequency\": 1, \"value\": 258}, \"2091\": {\"frequency\": 1, \"value\": 2091}, \"260\": {\"frequency\": 5, \"value\": 260}, \"262\": {\"frequency\": 1, \"value\": 262}, \"264\": {\"frequency\": 1, \"value\": 264}, \"266\": {\"frequency\": 2, \"value\": 266}, \"267\": {\"frequency\": 1, \"value\": 267}, \"2316\": {\"frequency\": 1, \"value\": 2316}, \"270\": {\"frequency\": 5, \"value\": 270}, \"271\": {\"frequency\": 1, \"value\": 271}, \"272\": {\"frequency\": 1, \"value\": 272}, \"273\": {\"frequency\": 2, \"value\": 273}, \"274\": {\"frequency\": 1, \"value\": 274}, \"275\": {\"frequency\": 4, \"value\": 275}, \"276\": {\"frequency\": 2, \"value\": 276}, \"277\": {\"frequency\": 1, \"value\": 277}, \"278\": {\"frequency\": 7, \"value\": 278}, \"279\": {\"frequency\": 2, \"value\": 279}, \"280\": {\"frequency\": 5, \"value\": 280}, \"281\": {\"frequency\": 1, \"value\": 281}, \"282\": {\"frequency\": 1, \"value\": 282}, \"283\": {\"frequency\": 3, \"value\": 283}, \"284\": {\"frequency\": 1, \"value\": 284}, \"285\": {\"frequency\": 6, \"value\": 285}, \"286\": {\"frequency\": 3, \"value\": 286}, \"289\": {\"frequency\": 1, \"value\": 289}, \"290\": {\"frequency\": 4, \"value\": 290}, \"291\": {\"frequency\": 1, \"value\": 291}, \"292\": {\"frequency\": 2, \"value\": 292}, \"297\": {\"frequency\": 2, \"value\": 297}, \"298\": {\"frequency\": 2, \"value\": 298}, \"299\": {\"frequency\": 2, \"value\": 299}, \"300\": {\"frequency\": 2, \"value\": 300}, \"301\": {\"frequency\": 3, \"value\": 301}, \"302\": {\"frequency\": 3, \"value\": 302}, \"306\": {\"frequency\": 1, \"value\": 306}, \"307\": {\"frequency\": 1, \"value\": 307}, \"309\": {\"frequency\": 2, \"value\": 309}, \"310\": {\"frequency\": 1, \"value\": 310}, \"311\": {\"frequency\": 1, \"value\": 311}, \"312\": {\"frequency\": 1, \"value\": 312}, \"315\": {\"frequency\": 3, \"value\": 315}, \"316\": {\"frequency\": 1, \"value\": 316}, \"318\": {\"frequency\": 2, \"value\": 318}, \"319\": {\"frequency\": 1, \"value\": 319}, \"321\": {\"frequency\": 1, \"value\": 321}, \"322\": {\"frequency\": 3, \"value\": 322}, \"325\": {\"frequency\": 5, \"value\": 325}, \"326\": {\"frequency\": 2, \"value\": 326}, \"327\": {\"frequency\": 1, \"value\": 327}, \"328\": {\"frequency\": 1, \"value\": 328}, \"333\": {\"frequency\": 4, \"value\": 333}, \"337\": {\"frequency\": 2, \"value\": 337}, \"339\": {\"frequency\": 1, \"value\": 339}, \"340\": {\"frequency\": 1, \"value\": 340}, \"343\": {\"frequency\": 3, \"value\": 343}, \"345\": {\"frequency\": 1, \"value\": 345}, \"346\": {\"frequency\": 2, \"value\": 346}, \"347\": {\"frequency\": 2, \"value\": 347}, \"349\": {\"frequency\": 1, \"value\": 349}, \"350\": {\"frequency\": 2, \"value\": 350}, \"351\": {\"frequency\": 1, \"value\": 351}, \"353\": {\"frequency\": 2, \"value\": 353}, \"355\": {\"frequency\": 4, \"value\": 355}, \"356\": {\"frequency\": 2, \"value\": 356}, \"358\": {\"frequency\": 2, \"value\": 358}, \"359\": {\"frequency\": 3, \"value\": 359}, \"367\": {\"frequency\": 1, \"value\": 367}, \"370\": {\"frequency\": 1, \"value\": 370}, \"374\": {\"frequency\": 2, \"value\": 374}, \"379\": {\"frequency\": 3, \"value\": 379}, \"380\": {\"frequency\": 2, \"value\": 380}, \"381\": {\"frequency\": 1, \"value\": 381}, \"384\": {\"frequency\": 2, \"value\": 384}, \"385\": {\"frequency\": 1, \"value\": 385}, \"396\": {\"frequency\": 1, \"value\": 396}, \"405\": {\"frequency\": 1, \"value\": 405}, \"408\": {\"frequency\": 1, \"value\": 408}, \"410\": {\"frequency\": 2, \"value\": 410}, \"412\": {\"frequency\": 3, \"value\": 412}, \"420\": {\"frequency\": 1, \"value\": 420}, \"421\": {\"frequency\": 3, \"value\": 421}, \"425\": {\"frequency\": 2, \"value\": 425}, \"426\": {\"frequency\": 1, \"value\": 426}, \"428\": {\"frequency\": 1, \"value\": 428}, \"431\": {\"frequency\": 1, \"value\": 431}, \"433\": {\"frequency\": 2, \"value\": 433}, \"436\": {\"frequency\": 2, \"value\": 436}, \"441\": {\"frequency\": 4, \"value\": 441}, \"443\": {\"frequency\": 2, \"value\": 443}, \"445\": {\"frequency\": 1, \"value\": 445}, \"450\": {\"frequency\": 1, \"value\": 450}, \"452\": {\"frequency\": 1, \"value\": 452}, \"453\": {\"frequency\": 2, \"value\": 453}, \"454\": {\"frequency\": 5, \"value\": 454}, \"460\": {\"frequency\": 3, \"value\": 460}, \"461\": {\"frequency\": 1, \"value\": 461}, \"462\": {\"frequency\": 1, \"value\": 462}, \"463\": {\"frequency\": 1, \"value\": 463}, \"466\": {\"frequency\": 1, \"value\": 466}, \"468\": {\"frequency\": 1, \"value\": 468}, \"469\": {\"frequency\": 1, \"value\": 469}, \"474\": {\"frequency\": 2, \"value\": 474}, \"476\": {\"frequency\": 3, \"value\": 476}, \"482\": {\"frequency\": 2, \"value\": 482}, \"483\": {\"frequency\": 1, \"value\": 483}, \"485\": {\"frequency\": 1, \"value\": 485}, \"486\": {\"frequency\": 1, \"value\": 486}, \"492\": {\"frequency\": 1, \"value\": 492}, \"493\": {\"frequency\": 3, \"value\": 493}, \"500\": {\"frequency\": 1, \"value\": 500}, \"501\": {\"frequency\": 2, \"value\": 501}, \"502\": {\"frequency\": 3, \"value\": 502}, \"506\": {\"frequency\": 1, \"value\": 506}, \"510\": {\"frequency\": 5, \"value\": 510}, \"513\": {\"frequency\": 1, \"value\": 513}, \"514\": {\"frequency\": 1, \"value\": 514}, \"517\": {\"frequency\": 2, \"value\": 517}, \"519\": {\"frequency\": 2, \"value\": 519}, \"520\": {\"frequency\": 1, \"value\": 520}, \"523\": {\"frequency\": 1, \"value\": 523}, \"527\": {\"frequency\": 4, \"value\": 527}, \"2578\": {\"frequency\": 1, \"value\": 2578}, \"2587\": {\"frequency\": 1, \"value\": 2587}, \"540\": {\"frequency\": 4, \"value\": 540}, \"544\": {\"frequency\": 2, \"value\": 544}, \"550\": {\"frequency\": 3, \"value\": 550}, \"559\": {\"frequency\": 3, \"value\": 559}, \"565\": {\"frequency\": 1, \"value\": 565}, \"567\": {\"frequency\": 5, \"value\": 567}, \"568\": {\"frequency\": 1, \"value\": 568}, \"2620\": {\"frequency\": 1, \"value\": 2620}, \"584\": {\"frequency\": 1, \"value\": 584}, \"585\": {\"frequency\": 3, \"value\": 585}, \"588\": {\"frequency\": 1, \"value\": 588}, \"600\": {\"frequency\": 1, \"value\": 600}, \"604\": {\"frequency\": 4, \"value\": 604}, \"607\": {\"frequency\": 1, \"value\": 607}, \"614\": {\"frequency\": 4, \"value\": 614}, \"616\": {\"frequency\": 1, \"value\": 616}, \"617\": {\"frequency\": 2, \"value\": 617}, \"627\": {\"frequency\": 4, \"value\": 627}, \"629\": {\"frequency\": 4, \"value\": 629}, \"632\": {\"frequency\": 2, \"value\": 632}, \"637\": {\"frequency\": 1, \"value\": 637}, \"638\": {\"frequency\": 4, \"value\": 638}, \"640\": {\"frequency\": 2, \"value\": 640}, \"641\": {\"frequency\": 2, \"value\": 641}, \"651\": {\"frequency\": 1, \"value\": 651}, \"667\": {\"frequency\": 3, \"value\": 667}, \"668\": {\"frequency\": 1, \"value\": 668}, \"670\": {\"frequency\": 2, \"value\": 670}, \"675\": {\"frequency\": 1, \"value\": 675}, \"679\": {\"frequency\": 2, \"value\": 679}, \"681\": {\"frequency\": 1, \"value\": 681}, \"685\": {\"frequency\": 1, \"value\": 685}, \"713\": {\"frequency\": 1, \"value\": 713}, \"716\": {\"frequency\": 1, \"value\": 716}, \"720\": {\"frequency\": 1, \"value\": 720}, \"735\": {\"frequency\": 1, \"value\": 735}, \"741\": {\"frequency\": 1, \"value\": 741}, \"745\": {\"frequency\": 2, \"value\": 745}, \"747\": {\"frequency\": 3, \"value\": 747}, \"748\": {\"frequency\": 1, \"value\": 748}, \"764\": {\"frequency\": 1, \"value\": 764}, \"774\": {\"frequency\": 4, \"value\": 774}, \"789\": {\"frequency\": 1, \"value\": 789}, \"793\": {\"frequency\": 1, \"value\": 793}, \"799\": {\"frequency\": 1, \"value\": 799}, \"843\": {\"frequency\": 1, \"value\": 843}, \"873\": {\"frequency\": 1, \"value\": 873}, \"879\": {\"frequency\": 1, \"value\": 879}, \"885\": {\"frequency\": 2, \"value\": 885}, \"903\": {\"frequency\": 1, \"value\": 903}, \"904\": {\"frequency\": 1, \"value\": 904}, \"936\": {\"frequency\": 1, \"value\": 936}, \"937\": {\"frequency\": 1, \"value\": 937}, \"944\": {\"frequency\": 2, \"value\": 944}, \"957\": {\"frequency\": 2, \"value\": 957}, \"958\": {\"frequency\": 2, \"value\": 958}, \"961\": {\"frequency\": 1, \"value\": 961}, \"964\": {\"frequency\": 1, \"value\": 964}, \"975\": {\"frequency\": 1, \"value\": 975}, \"980\": {\"frequency\": 1, \"value\": 980}, \"982\": {\"frequency\": 1, \"value\": 982}, \"1002\": {\"frequency\": 1, \"value\": 1002}, \"1003\": {\"frequency\": 1, \"value\": 1003}, \"1018\": {\"frequency\": 1, \"value\": 1018}, \"1025\": {\"frequency\": 1, \"value\": 1025}, \"1029\": {\"frequency\": 1, \"value\": 1029}, \"1035\": {\"frequency\": 1, \"value\": 1035}, \"1050\": {\"frequency\": 2, \"value\": 1050}, \"1088\": {\"frequency\": 1, \"value\": 1088}, \"1101\": {\"frequency\": 2, \"value\": 1101}, \"1127\": {\"frequency\": 2, \"value\": 1127}, \"5233\": {\"frequency\": 1, \"value\": 5233}, \"539\": {\"frequency\": 1, \"value\": 539}, \"206\": {\"frequency\": 2, \"value\": 206}, \"207\": {\"frequency\": 31, \"value\": 207}, \"1272\": {\"frequency\": 2, \"value\": 1272}, \"1293\": {\"frequency\": 1, \"value\": 1293}, \"1333\": {\"frequency\": 1, \"value\": 1333}, \"42296\": {\"frequency\": 1, \"value\": 42296}, \"234\": {\"frequency\": 1, \"value\": 234}, \"2162\": {\"frequency\": 1, \"value\": 2162}, \"1451\": {\"frequency\": 1, \"value\": 1451}, \"242\": {\"frequency\": 1, \"value\": 242}, \"1480\": {\"frequency\": 1, \"value\": 1480}, \"3554\": {\"frequency\": 1, \"value\": 3554}, \"1511\": {\"frequency\": 1, \"value\": 1511}, \"259\": {\"frequency\": 1, \"value\": 259}, \"1569\": {\"frequency\": 1, \"value\": 1569}, \"1583\": {\"frequency\": 1, \"value\": 1583}, \"3635\": {\"frequency\": 2, \"value\": 3635}, \"268\": {\"frequency\": 2, \"value\": 268}, \"3662\": {\"frequency\": 1, \"value\": 3662}, \"1694\": {\"frequency\": 2, \"value\": 1694}, \"1712\": {\"frequency\": 1, \"value\": 1712}, \"1755\": {\"frequency\": 1, \"value\": 1755}, \"1770\": {\"frequency\": 1, \"value\": 1770}, \"1776\": {\"frequency\": 1, \"value\": 1776}, \"2345\": {\"frequency\": 1, \"value\": 2345}, \"1825\": {\"frequency\": 1, \"value\": 1825}, \"1931\": {\"frequency\": 1, \"value\": 1931}, \"2181\": {\"frequency\": 1, \"value\": 2181}}, \"mean\": 54.74538599798323}, \"selected_variable\": {\"name\": [\"<SArray>\"], \"dtype\": \"int\", \"view_component\": \"Numeric\", \"view_file\": \"sarray\", \"descriptives\": {\"rows\": 22811}, \"type\": \"SArray\", \"view_components\": [\"Numeric\", \"Categorical\"]}, \"histogram\": {\"progress\": 1.0, \"histogram\": {\"max\": 42337.255999999994, \"bins\": [22805, 5, 0, 0, 0, 0, 0, 0, 0, 0, 0, 1], \"min\": -130.07200000000012}, \"min\": 0, \"complete\": 1, \"max\": 42296}}, e);\n",
        "                });\n",
        "            })();\n",
        "        "
       ],
       "metadata": {},
       "output_type": "display_data"
      }
     ],
     "prompt_number": 39
    },
    {
     "cell_type": "code",
     "collapsed": false,
     "input": [
      "def likes_range(likes):\n",
      "    if likes <= 5:\n",
      "        return '0-5'\n",
      "    if likes <= 20:\n",
      "        return '6-20'\n",
      "    if likes <= 50:\n",
      "        return '21-50'\n",
      "    if likes <= 100:\n",
      "        return '51-100'\n",
      "    else:\n",
      "        return '>100'"
     ],
     "language": "python",
     "metadata": {},
     "outputs": [],
     "prompt_number": 32
    },
    {
     "cell_type": "code",
     "collapsed": false,
     "input": [
      "insta_data['likes_range'] = insta_data['likes'].apply(likes_range)"
     ],
     "language": "python",
     "metadata": {},
     "outputs": [],
     "prompt_number": 33
    },
    {
     "cell_type": "markdown",
     "metadata": {},
     "source": [
      "###Create hour of day classifier"
     ]
    },
    {
     "cell_type": "code",
     "collapsed": false,
     "input": [
      "insta_data['hour_of_day'] = insta_data['timestamp'].apply(lambda x: datetime.datetime.fromtimestamp(int(x)).hour)"
     ],
     "language": "python",
     "metadata": {},
     "outputs": [],
     "prompt_number": 14
    },
    {
     "cell_type": "markdown",
     "metadata": {},
     "source": [
      "###Create a followers range"
     ]
    },
    {
     "cell_type": "code",
     "collapsed": false,
     "input": [
      "insta_data['followers'].show(view=\"Numeric\")"
     ],
     "language": "python",
     "metadata": {},
     "outputs": [
      {
       "javascript": [
        "$(\"head\").append($(\"<link/>\").attr({\n",
        "  rel:  \"stylesheet\",\n",
        "  type: \"text/css\",\n",
        "  href: \"//cdnjs.cloudflare.com/ajax/libs/font-awesome/4.1.0/css/font-awesome.min.css\"\n",
        "}));\n",
        "$(\"head\").append($(\"<link/>\").attr({\n",
        "  rel:  \"stylesheet\",\n",
        "  type: \"text/css\",\n",
        "  href: \"//dato.com/files/canvas/1.6.1/css/canvas.css\"\n",
        "}));\n",
        "\n",
        "            (function(){\n",
        "\n",
        "                var e = null;\n",
        "                if (typeof element == 'undefined') {\n",
        "                    var scripts = document.getElementsByTagName('script');\n",
        "                    var thisScriptTag = scripts[scripts.length-1];\n",
        "                    var parentDiv = thisScriptTag.parentNode;\n",
        "                    e = document.createElement('div');\n",
        "                    parentDiv.appendChild(e);\n",
        "                } else {\n",
        "                    e = element[0];\n",
        "                }\n",
        "\n",
        "                if (typeof requirejs !== 'undefined') {\n",
        "                    // disable load timeout; ipython_app.js is large and can take a while to load.\n",
        "                    requirejs.config({waitSeconds: 0});\n",
        "                }\n",
        "\n",
        "                require(['//dato.com/files/canvas/1.6.1/js/ipython_app.js'], function(IPythonApp){\n",
        "                    var app = new IPythonApp();\n",
        "                    app.attachView('sarray','Numeric', {\"ipython\": true, \"sketch\": {\"std\": 19045.73006389353, \"complete\": true, \"min\": 0.0, \"max\": 2808487.0, \"quantile\": [0.0, 14.0, 24.0, 31.0, 40.0, 43.0, 51.0, 54.0, 59.0, 66.0, 68.0, 68.0, 68.0, 68.0, 68.0, 75.0, 76.0, 83.0, 88.0, 94.0, 99.0, 106.0, 111.0, 113.0, 120.0, 126.0, 133.0, 142.0, 150.0, 151.0, 155.0, 156.0, 162.0, 165.0, 173.0, 179.0, 185.0, 194.0, 198.0, 205.0, 212.0, 217.0, 224.0, 236.0, 244.0, 254.0, 259.0, 272.0, 280.0, 293.0, 301.0, 309.0, 320.0, 320.0, 323.0, 340.0, 351.0, 363.0, 377.0, 392.0, 414.0, 440.0, 468.0, 490.0, 519.0, 564.0, 589.0, 596.0, 596.0, 596.0, 616.0, 658.0, 686.0, 694.0, 694.0, 694.0, 694.0, 694.0, 694.0, 694.0, 694.0, 694.0, 694.0, 694.0, 694.0, 700.0, 774.0, 832.0, 865.0, 1017.0, 1100.0, 1229.0, 1388.0, 1672.0, 2022.0, 2650.0, 4134.0, 5435.0, 6924.0, 13726.0, 2808487.0], \"median\": 301.0, \"numeric\": true, \"num_unique\": 1689, \"num_undefined\": 0, \"var\": 362739833.66669786, \"progress\": 1.0, \"size\": 22811, \"frequent_items\": {\"0\": {\"frequency\": 3, \"value\": 0}, \"1\": {\"frequency\": 6, \"value\": 1}, \"2\": {\"frequency\": 9, \"value\": 2}, \"3\": {\"frequency\": 5, \"value\": 3}, \"4\": {\"frequency\": 8, \"value\": 4}, \"5\": {\"frequency\": 7, \"value\": 5}, \"6\": {\"frequency\": 15, \"value\": 6}, \"7\": {\"frequency\": 26, \"value\": 7}, \"8\": {\"frequency\": 12, \"value\": 8}, \"9\": {\"frequency\": 38, \"value\": 9}, \"10\": {\"frequency\": 29, \"value\": 10}, \"11\": {\"frequency\": 11, \"value\": 11}, \"12\": {\"frequency\": 8, \"value\": 12}, \"13\": {\"frequency\": 15, \"value\": 13}, \"14\": {\"frequency\": 77, \"value\": 14}, \"15\": {\"frequency\": 25, \"value\": 15}, \"16\": {\"frequency\": 14, \"value\": 16}, \"17\": {\"frequency\": 30, \"value\": 17}, \"18\": {\"frequency\": 19, \"value\": 18}, \"19\": {\"frequency\": 9, \"value\": 19}, \"20\": {\"frequency\": 22, \"value\": 20}, \"21\": {\"frequency\": 36, \"value\": 21}, \"22\": {\"frequency\": 11, \"value\": 22}, \"23\": {\"frequency\": 8, \"value\": 23}, \"24\": {\"frequency\": 25, \"value\": 24}, \"25\": {\"frequency\": 59, \"value\": 25}, \"26\": {\"frequency\": 14, \"value\": 26}, \"27\": {\"frequency\": 19, \"value\": 27}, \"28\": {\"frequency\": 45, \"value\": 28}, \"29\": {\"frequency\": 51, \"value\": 29}, \"30\": {\"frequency\": 19, \"value\": 30}, \"31\": {\"frequency\": 21, \"value\": 31}, \"32\": {\"frequency\": 23, \"value\": 32}, \"33\": {\"frequency\": 39, \"value\": 33}, \"34\": {\"frequency\": 24, \"value\": 34}, \"35\": {\"frequency\": 16, \"value\": 35}, \"36\": {\"frequency\": 10, \"value\": 36}, \"37\": {\"frequency\": 18, \"value\": 37}, \"38\": {\"frequency\": 43, \"value\": 38}, \"39\": {\"frequency\": 42, \"value\": 39}, \"40\": {\"frequency\": 47, \"value\": 40}, \"41\": {\"frequency\": 150, \"value\": 41}, \"42\": {\"frequency\": 25, \"value\": 42}, \"43\": {\"frequency\": 18, \"value\": 43}, \"44\": {\"frequency\": 20, \"value\": 44}, \"45\": {\"frequency\": 43, \"value\": 45}, \"46\": {\"frequency\": 26, \"value\": 46}, \"47\": {\"frequency\": 11, \"value\": 47}, \"48\": {\"frequency\": 43, \"value\": 48}, \"49\": {\"frequency\": 15, \"value\": 49}, \"50\": {\"frequency\": 49, \"value\": 50}, \"51\": {\"frequency\": 25, \"value\": 51}, \"52\": {\"frequency\": 45, \"value\": 52}, \"53\": {\"frequency\": 165, \"value\": 53}, \"54\": {\"frequency\": 33, \"value\": 54}, \"55\": {\"frequency\": 33, \"value\": 55}, \"56\": {\"frequency\": 24, \"value\": 56}, \"57\": {\"frequency\": 95, \"value\": 57}, \"58\": {\"frequency\": 28, \"value\": 58}, \"59\": {\"frequency\": 48, \"value\": 59}, \"60\": {\"frequency\": 13, \"value\": 60}, \"61\": {\"frequency\": 20, \"value\": 61}, \"62\": {\"frequency\": 31, \"value\": 62}, \"63\": {\"frequency\": 70, \"value\": 63}, \"64\": {\"frequency\": 15, \"value\": 64}, \"65\": {\"frequency\": 45, \"value\": 65}, \"66\": {\"frequency\": 34, \"value\": 66}, \"67\": {\"frequency\": 33, \"value\": 67}, \"68\": {\"frequency\": 1115, \"value\": 68}, \"69\": {\"frequency\": 30, \"value\": 69}, \"70\": {\"frequency\": 33, \"value\": 70}, \"71\": {\"frequency\": 17, \"value\": 71}, \"72\": {\"frequency\": 42, \"value\": 72}, \"73\": {\"frequency\": 11, \"value\": 73}, \"74\": {\"frequency\": 32, \"value\": 74}, \"75\": {\"frequency\": 236, \"value\": 75}, \"76\": {\"frequency\": 21, \"value\": 76}, \"77\": {\"frequency\": 34, \"value\": 77}, \"78\": {\"frequency\": 20, \"value\": 78}, \"79\": {\"frequency\": 27, \"value\": 79}, \"80\": {\"frequency\": 35, \"value\": 80}, \"81\": {\"frequency\": 34, \"value\": 81}, \"82\": {\"frequency\": 43, \"value\": 82}, \"83\": {\"frequency\": 51, \"value\": 83}, \"84\": {\"frequency\": 55, \"value\": 84}, \"85\": {\"frequency\": 20, \"value\": 85}, \"86\": {\"frequency\": 20, \"value\": 86}, \"87\": {\"frequency\": 68, \"value\": 87}, \"88\": {\"frequency\": 55, \"value\": 88}, \"89\": {\"frequency\": 45, \"value\": 89}, \"90\": {\"frequency\": 31, \"value\": 90}, \"91\": {\"frequency\": 37, \"value\": 91}, \"92\": {\"frequency\": 32, \"value\": 92}, \"93\": {\"frequency\": 66, \"value\": 93}, \"94\": {\"frequency\": 130, \"value\": 94}, \"95\": {\"frequency\": 21, \"value\": 95}, \"96\": {\"frequency\": 36, \"value\": 96}, \"97\": {\"frequency\": 18, \"value\": 97}, \"98\": {\"frequency\": 30, \"value\": 98}, \"99\": {\"frequency\": 34, \"value\": 99}, \"100\": {\"frequency\": 19, \"value\": 100}, \"101\": {\"frequency\": 35, \"value\": 101}, \"102\": {\"frequency\": 28, \"value\": 102}, \"103\": {\"frequency\": 33, \"value\": 103}, \"104\": {\"frequency\": 25, \"value\": 104}, \"105\": {\"frequency\": 67, \"value\": 105}, \"106\": {\"frequency\": 32, \"value\": 106}, \"107\": {\"frequency\": 54, \"value\": 107}, \"108\": {\"frequency\": 24, \"value\": 108}, \"109\": {\"frequency\": 26, \"value\": 109}, \"110\": {\"frequency\": 39, \"value\": 110}, \"111\": {\"frequency\": 219, \"value\": 111}, \"112\": {\"frequency\": 34, \"value\": 112}, \"113\": {\"frequency\": 28, \"value\": 113}, \"114\": {\"frequency\": 29, \"value\": 114}, \"115\": {\"frequency\": 31, \"value\": 115}, \"116\": {\"frequency\": 37, \"value\": 116}, \"117\": {\"frequency\": 32, \"value\": 117}, \"118\": {\"frequency\": 52, \"value\": 118}, \"119\": {\"frequency\": 38, \"value\": 119}, \"120\": {\"frequency\": 23, \"value\": 120}, \"121\": {\"frequency\": 13, \"value\": 121}, \"122\": {\"frequency\": 48, \"value\": 122}, \"123\": {\"frequency\": 47, \"value\": 123}, \"124\": {\"frequency\": 38, \"value\": 124}, \"125\": {\"frequency\": 48, \"value\": 125}, \"126\": {\"frequency\": 49, \"value\": 126}, \"127\": {\"frequency\": 24, \"value\": 127}, \"128\": {\"frequency\": 24, \"value\": 128}, \"129\": {\"frequency\": 24, \"value\": 129}, \"130\": {\"frequency\": 49, \"value\": 130}, \"131\": {\"frequency\": 13, \"value\": 131}, \"132\": {\"frequency\": 25, \"value\": 132}, \"133\": {\"frequency\": 58, \"value\": 133}, \"134\": {\"frequency\": 19, \"value\": 134}, \"135\": {\"frequency\": 23, \"value\": 135}, \"136\": {\"frequency\": 27, \"value\": 136}, \"137\": {\"frequency\": 20, \"value\": 137}, \"138\": {\"frequency\": 36, \"value\": 138}, \"139\": {\"frequency\": 10, \"value\": 139}, \"140\": {\"frequency\": 26, \"value\": 140}, \"141\": {\"frequency\": 41, \"value\": 141}, \"142\": {\"frequency\": 15, \"value\": 142}, \"143\": {\"frequency\": 32, \"value\": 143}, \"144\": {\"frequency\": 22, \"value\": 144}, \"145\": {\"frequency\": 35, \"value\": 145}, \"146\": {\"frequency\": 40, \"value\": 146}, \"147\": {\"frequency\": 24, \"value\": 147}, \"148\": {\"frequency\": 15, \"value\": 148}, \"149\": {\"frequency\": 44, \"value\": 149}, \"150\": {\"frequency\": 32, \"value\": 150}, \"151\": {\"frequency\": 288, \"value\": 151}, \"152\": {\"frequency\": 22, \"value\": 152}, \"153\": {\"frequency\": 61, \"value\": 153}, \"154\": {\"frequency\": 45, \"value\": 154}, \"155\": {\"frequency\": 24, \"value\": 155}, \"156\": {\"frequency\": 225, \"value\": 156}, \"157\": {\"frequency\": 43, \"value\": 157}, \"158\": {\"frequency\": 24, \"value\": 158}, \"159\": {\"frequency\": 19, \"value\": 159}, \"160\": {\"frequency\": 35, \"value\": 160}, \"161\": {\"frequency\": 18, \"value\": 161}, \"162\": {\"frequency\": 253, \"value\": 162}, \"163\": {\"frequency\": 23, \"value\": 163}, \"164\": {\"frequency\": 16, \"value\": 164}, \"165\": {\"frequency\": 21, \"value\": 165}, \"166\": {\"frequency\": 29, \"value\": 166}, \"167\": {\"frequency\": 36, \"value\": 167}, \"168\": {\"frequency\": 19, \"value\": 168}, \"169\": {\"frequency\": 54, \"value\": 169}, \"170\": {\"frequency\": 16, \"value\": 170}, \"171\": {\"frequency\": 17, \"value\": 171}, \"172\": {\"frequency\": 18, \"value\": 172}, \"173\": {\"frequency\": 38, \"value\": 173}, \"174\": {\"frequency\": 27, \"value\": 174}, \"175\": {\"frequency\": 24, \"value\": 175}, \"176\": {\"frequency\": 103, \"value\": 176}, \"177\": {\"frequency\": 16, \"value\": 177}, \"178\": {\"frequency\": 59, \"value\": 178}, \"179\": {\"frequency\": 17, \"value\": 179}, \"180\": {\"frequency\": 28, \"value\": 180}, \"181\": {\"frequency\": 58, \"value\": 181}, \"182\": {\"frequency\": 22, \"value\": 182}, \"183\": {\"frequency\": 36, \"value\": 183}, \"184\": {\"frequency\": 46, \"value\": 184}, \"185\": {\"frequency\": 20, \"value\": 185}, \"186\": {\"frequency\": 35, \"value\": 186}, \"187\": {\"frequency\": 12, \"value\": 187}, \"188\": {\"frequency\": 27, \"value\": 188}, \"189\": {\"frequency\": 32, \"value\": 189}, \"190\": {\"frequency\": 25, \"value\": 190}, \"191\": {\"frequency\": 9, \"value\": 191}, \"192\": {\"frequency\": 32, \"value\": 192}, \"193\": {\"frequency\": 27, \"value\": 193}, \"194\": {\"frequency\": 44, \"value\": 194}, \"195\": {\"frequency\": 21, \"value\": 195}, \"196\": {\"frequency\": 23, \"value\": 196}, \"197\": {\"frequency\": 114, \"value\": 197}, \"198\": {\"frequency\": 43, \"value\": 198}, \"199\": {\"frequency\": 23, \"value\": 199}, \"200\": {\"frequency\": 14, \"value\": 200}, \"201\": {\"frequency\": 26, \"value\": 201}, \"202\": {\"frequency\": 58, \"value\": 202}, \"203\": {\"frequency\": 44, \"value\": 203}, \"204\": {\"frequency\": 37, \"value\": 204}, \"205\": {\"frequency\": 67, \"value\": 205}, \"206\": {\"frequency\": 46, \"value\": 206}, \"207\": {\"frequency\": 24, \"value\": 207}, \"208\": {\"frequency\": 24, \"value\": 208}, \"209\": {\"frequency\": 20, \"value\": 209}, \"210\": {\"frequency\": 22, \"value\": 210}, \"211\": {\"frequency\": 44, \"value\": 211}, \"212\": {\"frequency\": 23, \"value\": 212}, \"213\": {\"frequency\": 29, \"value\": 213}, \"214\": {\"frequency\": 28, \"value\": 214}, \"215\": {\"frequency\": 24, \"value\": 215}, \"216\": {\"frequency\": 23, \"value\": 216}, \"217\": {\"frequency\": 199, \"value\": 217}, \"218\": {\"frequency\": 27, \"value\": 218}, \"219\": {\"frequency\": 15, \"value\": 219}, \"220\": {\"frequency\": 30, \"value\": 220}, \"221\": {\"frequency\": 35, \"value\": 221}, \"222\": {\"frequency\": 19, \"value\": 222}, \"223\": {\"frequency\": 8, \"value\": 223}, \"224\": {\"frequency\": 19, \"value\": 224}, \"225\": {\"frequency\": 8, \"value\": 225}, \"226\": {\"frequency\": 19, \"value\": 226}, \"227\": {\"frequency\": 21, \"value\": 227}, \"228\": {\"frequency\": 19, \"value\": 228}, \"8230\": {\"frequency\": 4, \"value\": 8230}, \"230\": {\"frequency\": 28, \"value\": 230}, \"231\": {\"frequency\": 19, \"value\": 231}, \"232\": {\"frequency\": 22, \"value\": 232}, \"233\": {\"frequency\": 9, \"value\": 233}, \"234\": {\"frequency\": 9, \"value\": 234}, \"235\": {\"frequency\": 52, \"value\": 235}, \"236\": {\"frequency\": 10, \"value\": 236}, \"237\": {\"frequency\": 24, \"value\": 237}, \"238\": {\"frequency\": 10, \"value\": 238}, \"239\": {\"frequency\": 44, \"value\": 239}, \"240\": {\"frequency\": 60, \"value\": 240}, \"241\": {\"frequency\": 11, \"value\": 241}, \"242\": {\"frequency\": 25, \"value\": 242}, \"243\": {\"frequency\": 28, \"value\": 243}, \"244\": {\"frequency\": 17, \"value\": 244}, \"245\": {\"frequency\": 14, \"value\": 245}, \"246\": {\"frequency\": 11, \"value\": 246}, \"247\": {\"frequency\": 14, \"value\": 247}, \"248\": {\"frequency\": 15, \"value\": 248}, \"249\": {\"frequency\": 19, \"value\": 249}, \"250\": {\"frequency\": 32, \"value\": 250}, \"251\": {\"frequency\": 12, \"value\": 251}, \"252\": {\"frequency\": 51, \"value\": 252}, \"253\": {\"frequency\": 54, \"value\": 253}, \"254\": {\"frequency\": 81, \"value\": 254}, \"255\": {\"frequency\": 26, \"value\": 255}, \"256\": {\"frequency\": 10, \"value\": 256}, \"257\": {\"frequency\": 45, \"value\": 257}, \"258\": {\"frequency\": 29, \"value\": 258}, \"259\": {\"frequency\": 26, \"value\": 259}, \"260\": {\"frequency\": 17, \"value\": 260}, \"261\": {\"frequency\": 10, \"value\": 261}, \"262\": {\"frequency\": 11, \"value\": 262}, \"263\": {\"frequency\": 20, \"value\": 263}, \"264\": {\"frequency\": 21, \"value\": 264}, \"265\": {\"frequency\": 18, \"value\": 265}, \"266\": {\"frequency\": 36, \"value\": 266}, \"267\": {\"frequency\": 13, \"value\": 267}, \"268\": {\"frequency\": 20, \"value\": 268}, \"269\": {\"frequency\": 38, \"value\": 269}, \"270\": {\"frequency\": 15, \"value\": 270}, \"271\": {\"frequency\": 20, \"value\": 271}, \"272\": {\"frequency\": 24, \"value\": 272}, \"273\": {\"frequency\": 36, \"value\": 273}, \"274\": {\"frequency\": 11, \"value\": 274}, \"275\": {\"frequency\": 34, \"value\": 275}, \"276\": {\"frequency\": 37, \"value\": 276}, \"277\": {\"frequency\": 26, \"value\": 277}, \"278\": {\"frequency\": 25, \"value\": 278}, \"279\": {\"frequency\": 21, \"value\": 279}, \"280\": {\"frequency\": 25, \"value\": 280}, \"281\": {\"frequency\": 25, \"value\": 281}, \"282\": {\"frequency\": 21, \"value\": 282}, \"283\": {\"frequency\": 13, \"value\": 283}, \"284\": {\"frequency\": 10, \"value\": 284}, \"285\": {\"frequency\": 15, \"value\": 285}, \"286\": {\"frequency\": 6, \"value\": 286}, \"287\": {\"frequency\": 18, \"value\": 287}, \"288\": {\"frequency\": 16, \"value\": 288}, \"289\": {\"frequency\": 23, \"value\": 289}, \"290\": {\"frequency\": 20, \"value\": 290}, \"291\": {\"frequency\": 21, \"value\": 291}, \"292\": {\"frequency\": 15, \"value\": 292}, \"293\": {\"frequency\": 17, \"value\": 293}, \"294\": {\"frequency\": 106, \"value\": 294}, \"295\": {\"frequency\": 19, \"value\": 295}, \"296\": {\"frequency\": 16, \"value\": 296}, \"297\": {\"frequency\": 11, \"value\": 297}, \"298\": {\"frequency\": 20, \"value\": 298}, \"299\": {\"frequency\": 4, \"value\": 299}, \"300\": {\"frequency\": 34, \"value\": 300}, \"301\": {\"frequency\": 22, \"value\": 301}, \"302\": {\"frequency\": 117, \"value\": 302}, \"303\": {\"frequency\": 8, \"value\": 303}, \"304\": {\"frequency\": 16, \"value\": 304}, \"305\": {\"frequency\": 43, \"value\": 305}, \"306\": {\"frequency\": 12, \"value\": 306}, \"307\": {\"frequency\": 10, \"value\": 307}, \"308\": {\"frequency\": 6, \"value\": 308}, \"309\": {\"frequency\": 19, \"value\": 309}, \"310\": {\"frequency\": 11, \"value\": 310}, \"311\": {\"frequency\": 12, \"value\": 311}, \"312\": {\"frequency\": 13, \"value\": 312}, \"313\": {\"frequency\": 8, \"value\": 313}, \"314\": {\"frequency\": 8, \"value\": 314}, \"315\": {\"frequency\": 15, \"value\": 315}, \"316\": {\"frequency\": 9, \"value\": 316}, \"317\": {\"frequency\": 6, \"value\": 317}, \"318\": {\"frequency\": 14, \"value\": 318}, \"319\": {\"frequency\": 4, \"value\": 319}, \"320\": {\"frequency\": 537, \"value\": 320}, \"321\": {\"frequency\": 7, \"value\": 321}, \"322\": {\"frequency\": 18, \"value\": 322}, \"323\": {\"frequency\": 14, \"value\": 323}, \"324\": {\"frequency\": 11, \"value\": 324}, \"325\": {\"frequency\": 7, \"value\": 325}, \"326\": {\"frequency\": 24, \"value\": 326}, \"327\": {\"frequency\": 15, \"value\": 327}, \"328\": {\"frequency\": 7, \"value\": 328}, \"329\": {\"frequency\": 10, \"value\": 329}, \"330\": {\"frequency\": 9, \"value\": 330}, \"331\": {\"frequency\": 8, \"value\": 331}, \"332\": {\"frequency\": 20, \"value\": 332}, \"333\": {\"frequency\": 7, \"value\": 333}, \"334\": {\"frequency\": 25, \"value\": 334}, \"335\": {\"frequency\": 8, \"value\": 335}, \"336\": {\"frequency\": 15, \"value\": 336}, \"337\": {\"frequency\": 26, \"value\": 337}, \"338\": {\"frequency\": 9, \"value\": 338}, \"339\": {\"frequency\": 11, \"value\": 339}, \"340\": {\"frequency\": 104, \"value\": 340}, \"341\": {\"frequency\": 29, \"value\": 341}, \"342\": {\"frequency\": 9, \"value\": 342}, \"343\": {\"frequency\": 10, \"value\": 343}, \"344\": {\"frequency\": 7, \"value\": 344}, \"345\": {\"frequency\": 15, \"value\": 345}, \"346\": {\"frequency\": 9, \"value\": 346}, \"347\": {\"frequency\": 10, \"value\": 347}, \"348\": {\"frequency\": 11, \"value\": 348}, \"349\": {\"frequency\": 10, \"value\": 349}, \"350\": {\"frequency\": 10, \"value\": 350}, \"351\": {\"frequency\": 11, \"value\": 351}, \"352\": {\"frequency\": 26, \"value\": 352}, \"353\": {\"frequency\": 77, \"value\": 353}, \"354\": {\"frequency\": 8, \"value\": 354}, \"355\": {\"frequency\": 8, \"value\": 355}, \"356\": {\"frequency\": 9, \"value\": 356}, \"357\": {\"frequency\": 10, \"value\": 357}, \"358\": {\"frequency\": 9, \"value\": 358}, \"359\": {\"frequency\": 11, \"value\": 359}, \"360\": {\"frequency\": 35, \"value\": 360}, \"361\": {\"frequency\": 15, \"value\": 361}, \"362\": {\"frequency\": 11, \"value\": 362}, \"363\": {\"frequency\": 50, \"value\": 363}, \"364\": {\"frequency\": 11, \"value\": 364}, \"365\": {\"frequency\": 8, \"value\": 365}, \"366\": {\"frequency\": 16, \"value\": 366}, \"367\": {\"frequency\": 26, \"value\": 367}, \"368\": {\"frequency\": 25, \"value\": 368}, \"369\": {\"frequency\": 8, \"value\": 369}, \"370\": {\"frequency\": 11, \"value\": 370}, \"371\": {\"frequency\": 5, \"value\": 371}, \"372\": {\"frequency\": 3, \"value\": 372}, \"373\": {\"frequency\": 47, \"value\": 373}, \"374\": {\"frequency\": 3, \"value\": 374}, \"375\": {\"frequency\": 12, \"value\": 375}, \"376\": {\"frequency\": 7, \"value\": 376}, \"377\": {\"frequency\": 37, \"value\": 377}, \"378\": {\"frequency\": 6, \"value\": 378}, \"379\": {\"frequency\": 16, \"value\": 379}, \"380\": {\"frequency\": 10, \"value\": 380}, \"381\": {\"frequency\": 8, \"value\": 381}, \"382\": {\"frequency\": 6, \"value\": 382}, \"383\": {\"frequency\": 15, \"value\": 383}, \"384\": {\"frequency\": 13, \"value\": 384}, \"385\": {\"frequency\": 8, \"value\": 385}, \"386\": {\"frequency\": 8, \"value\": 386}, \"387\": {\"frequency\": 9, \"value\": 387}, \"388\": {\"frequency\": 2, \"value\": 388}, \"389\": {\"frequency\": 97, \"value\": 389}, \"390\": {\"frequency\": 4, \"value\": 390}, \"391\": {\"frequency\": 6, \"value\": 391}, \"392\": {\"frequency\": 10, \"value\": 392}, \"393\": {\"frequency\": 8, \"value\": 393}, \"394\": {\"frequency\": 10, \"value\": 394}, \"395\": {\"frequency\": 3, \"value\": 395}, \"396\": {\"frequency\": 15, \"value\": 396}, \"397\": {\"frequency\": 19, \"value\": 397}, \"398\": {\"frequency\": 14, \"value\": 398}, \"399\": {\"frequency\": 7, \"value\": 399}, \"400\": {\"frequency\": 6, \"value\": 400}, \"401\": {\"frequency\": 10, \"value\": 401}, \"402\": {\"frequency\": 19, \"value\": 402}, \"403\": {\"frequency\": 14, \"value\": 403}, \"404\": {\"frequency\": 12, \"value\": 404}, \"405\": {\"frequency\": 6, \"value\": 405}, \"406\": {\"frequency\": 9, \"value\": 406}, \"407\": {\"frequency\": 5, \"value\": 407}, \"408\": {\"frequency\": 11, \"value\": 408}, \"409\": {\"frequency\": 9, \"value\": 409}, \"410\": {\"frequency\": 13, \"value\": 410}, \"411\": {\"frequency\": 7, \"value\": 411}, \"412\": {\"frequency\": 4, \"value\": 412}, \"413\": {\"frequency\": 1, \"value\": 413}, \"414\": {\"frequency\": 9, \"value\": 414}, \"415\": {\"frequency\": 3, \"value\": 415}, \"416\": {\"frequency\": 5, \"value\": 416}, \"417\": {\"frequency\": 4, \"value\": 417}, \"418\": {\"frequency\": 20, \"value\": 418}, \"419\": {\"frequency\": 11, \"value\": 419}, \"420\": {\"frequency\": 7, \"value\": 420}, \"421\": {\"frequency\": 5, \"value\": 421}, \"422\": {\"frequency\": 14, \"value\": 422}, \"423\": {\"frequency\": 5, \"value\": 423}, \"424\": {\"frequency\": 12, \"value\": 424}, \"425\": {\"frequency\": 11, \"value\": 425}, \"426\": {\"frequency\": 2, \"value\": 426}, \"427\": {\"frequency\": 4, \"value\": 427}, \"428\": {\"frequency\": 44, \"value\": 428}, \"429\": {\"frequency\": 13, \"value\": 429}, \"430\": {\"frequency\": 5, \"value\": 430}, \"431\": {\"frequency\": 3, \"value\": 431}, \"432\": {\"frequency\": 13, \"value\": 432}, \"433\": {\"frequency\": 6, \"value\": 433}, \"434\": {\"frequency\": 5, \"value\": 434}, \"435\": {\"frequency\": 7, \"value\": 435}, \"436\": {\"frequency\": 8, \"value\": 436}, \"437\": {\"frequency\": 7, \"value\": 437}, \"438\": {\"frequency\": 11, \"value\": 438}, \"439\": {\"frequency\": 8, \"value\": 439}, \"440\": {\"frequency\": 14, \"value\": 440}, \"441\": {\"frequency\": 2, \"value\": 441}, \"442\": {\"frequency\": 8, \"value\": 442}, \"443\": {\"frequency\": 2, \"value\": 443}, \"444\": {\"frequency\": 29, \"value\": 444}, \"445\": {\"frequency\": 5, \"value\": 445}, \"446\": {\"frequency\": 1, \"value\": 446}, \"447\": {\"frequency\": 19, \"value\": 447}, \"448\": {\"frequency\": 19, \"value\": 448}, \"449\": {\"frequency\": 2, \"value\": 449}, \"450\": {\"frequency\": 11, \"value\": 450}, \"452\": {\"frequency\": 11, \"value\": 452}, \"453\": {\"frequency\": 7, \"value\": 453}, \"454\": {\"frequency\": 8, \"value\": 454}, \"455\": {\"frequency\": 3, \"value\": 455}, \"456\": {\"frequency\": 6, \"value\": 456}, \"457\": {\"frequency\": 2, \"value\": 457}, \"458\": {\"frequency\": 6, \"value\": 458}, \"459\": {\"frequency\": 2, \"value\": 459}, \"460\": {\"frequency\": 2, \"value\": 460}, \"461\": {\"frequency\": 9, \"value\": 461}, \"462\": {\"frequency\": 2, \"value\": 462}, \"463\": {\"frequency\": 33, \"value\": 463}, \"464\": {\"frequency\": 3, \"value\": 464}, \"465\": {\"frequency\": 3, \"value\": 465}, \"466\": {\"frequency\": 7, \"value\": 466}, \"467\": {\"frequency\": 6, \"value\": 467}, \"468\": {\"frequency\": 16, \"value\": 468}, \"469\": {\"frequency\": 6, \"value\": 469}, \"470\": {\"frequency\": 22, \"value\": 470}, \"471\": {\"frequency\": 3, \"value\": 471}, \"472\": {\"frequency\": 5, \"value\": 472}, \"473\": {\"frequency\": 47, \"value\": 473}, \"474\": {\"frequency\": 9, \"value\": 474}, \"475\": {\"frequency\": 6, \"value\": 475}, \"476\": {\"frequency\": 16, \"value\": 476}, \"477\": {\"frequency\": 2, \"value\": 477}, \"478\": {\"frequency\": 9, \"value\": 478}, \"479\": {\"frequency\": 5, \"value\": 479}, \"480\": {\"frequency\": 5, \"value\": 480}, \"481\": {\"frequency\": 12, \"value\": 481}, \"482\": {\"frequency\": 1, \"value\": 482}, \"483\": {\"frequency\": 9, \"value\": 483}, \"484\": {\"frequency\": 3, \"value\": 484}, \"485\": {\"frequency\": 16, \"value\": 485}, \"486\": {\"frequency\": 2, \"value\": 486}, \"487\": {\"frequency\": 21, \"value\": 487}, \"488\": {\"frequency\": 1, \"value\": 488}, \"489\": {\"frequency\": 8, \"value\": 489}, \"490\": {\"frequency\": 3, \"value\": 490}, \"491\": {\"frequency\": 3, \"value\": 491}, \"492\": {\"frequency\": 6, \"value\": 492}, \"493\": {\"frequency\": 58, \"value\": 493}, \"494\": {\"frequency\": 4, \"value\": 494}, \"495\": {\"frequency\": 8, \"value\": 495}, \"496\": {\"frequency\": 1, \"value\": 496}, \"497\": {\"frequency\": 4, \"value\": 497}, \"499\": {\"frequency\": 5, \"value\": 499}, \"500\": {\"frequency\": 4, \"value\": 500}, \"501\": {\"frequency\": 2, \"value\": 501}, \"502\": {\"frequency\": 27, \"value\": 502}, \"503\": {\"frequency\": 2, \"value\": 503}, \"504\": {\"frequency\": 8, \"value\": 504}, \"505\": {\"frequency\": 16, \"value\": 505}, \"506\": {\"frequency\": 10, \"value\": 506}, \"509\": {\"frequency\": 2, \"value\": 509}, \"510\": {\"frequency\": 4, \"value\": 510}, \"511\": {\"frequency\": 1, \"value\": 511}, \"512\": {\"frequency\": 9, \"value\": 512}, \"513\": {\"frequency\": 11, \"value\": 513}, \"514\": {\"frequency\": 10, \"value\": 514}, \"515\": {\"frequency\": 5, \"value\": 515}, \"516\": {\"frequency\": 2, \"value\": 516}, \"517\": {\"frequency\": 6, \"value\": 517}, \"518\": {\"frequency\": 4, \"value\": 518}, \"519\": {\"frequency\": 12, \"value\": 519}, \"520\": {\"frequency\": 2, \"value\": 520}, \"521\": {\"frequency\": 10, \"value\": 521}, \"522\": {\"frequency\": 6, \"value\": 522}, \"523\": {\"frequency\": 2, \"value\": 523}, \"524\": {\"frequency\": 3, \"value\": 524}, \"525\": {\"frequency\": 1, \"value\": 525}, \"526\": {\"frequency\": 3, \"value\": 526}, \"41487\": {\"frequency\": 1, \"value\": 41487}, \"528\": {\"frequency\": 8, \"value\": 528}, \"529\": {\"frequency\": 3, \"value\": 529}, \"530\": {\"frequency\": 4, \"value\": 530}, \"531\": {\"frequency\": 7, \"value\": 531}, \"532\": {\"frequency\": 5, \"value\": 532}, \"533\": {\"frequency\": 4, \"value\": 533}, \"534\": {\"frequency\": 9, \"value\": 534}, \"535\": {\"frequency\": 12, \"value\": 535}, \"536\": {\"frequency\": 3, \"value\": 536}, \"537\": {\"frequency\": 6, \"value\": 537}, \"538\": {\"frequency\": 9, \"value\": 538}, \"539\": {\"frequency\": 2, \"value\": 539}, \"540\": {\"frequency\": 8, \"value\": 540}, \"541\": {\"frequency\": 4, \"value\": 541}, \"542\": {\"frequency\": 3, \"value\": 542}, \"543\": {\"frequency\": 5, \"value\": 543}, \"544\": {\"frequency\": 1, \"value\": 544}, \"545\": {\"frequency\": 20, \"value\": 545}, \"546\": {\"frequency\": 7, \"value\": 546}, \"547\": {\"frequency\": 1, \"value\": 547}, \"548\": {\"frequency\": 4, \"value\": 548}, \"549\": {\"frequency\": 6, \"value\": 549}, \"550\": {\"frequency\": 18, \"value\": 550}, \"551\": {\"frequency\": 1, \"value\": 551}, \"552\": {\"frequency\": 5, \"value\": 552}, \"553\": {\"frequency\": 11, \"value\": 553}, \"555\": {\"frequency\": 1, \"value\": 555}, \"556\": {\"frequency\": 3, \"value\": 556}, \"557\": {\"frequency\": 4, \"value\": 557}, \"558\": {\"frequency\": 6, \"value\": 558}, \"559\": {\"frequency\": 8, \"value\": 559}, \"560\": {\"frequency\": 5, \"value\": 560}, \"561\": {\"frequency\": 2, \"value\": 561}, \"563\": {\"frequency\": 3, \"value\": 563}, \"564\": {\"frequency\": 47, \"value\": 564}, \"565\": {\"frequency\": 5, \"value\": 565}, \"566\": {\"frequency\": 14, \"value\": 566}, \"567\": {\"frequency\": 3, \"value\": 567}, \"568\": {\"frequency\": 5, \"value\": 568}, \"570\": {\"frequency\": 6, \"value\": 570}, \"571\": {\"frequency\": 10, \"value\": 571}, \"572\": {\"frequency\": 16, \"value\": 572}, \"573\": {\"frequency\": 3, \"value\": 573}, \"575\": {\"frequency\": 5, \"value\": 575}, \"576\": {\"frequency\": 2, \"value\": 576}, \"577\": {\"frequency\": 3, \"value\": 577}, \"578\": {\"frequency\": 6, \"value\": 578}, \"579\": {\"frequency\": 9, \"value\": 579}, \"580\": {\"frequency\": 3, \"value\": 580}, \"581\": {\"frequency\": 4, \"value\": 581}, \"582\": {\"frequency\": 12, \"value\": 582}, \"583\": {\"frequency\": 1, \"value\": 583}, \"584\": {\"frequency\": 2, \"value\": 584}, \"585\": {\"frequency\": 3, \"value\": 585}, \"586\": {\"frequency\": 6, \"value\": 586}, \"587\": {\"frequency\": 53, \"value\": 587}, \"588\": {\"frequency\": 13, \"value\": 588}, \"589\": {\"frequency\": 2, \"value\": 589}, \"590\": {\"frequency\": 68, \"value\": 590}, \"591\": {\"frequency\": 1, \"value\": 591}, \"592\": {\"frequency\": 6, \"value\": 592}, \"593\": {\"frequency\": 22, \"value\": 593}, \"594\": {\"frequency\": 2, \"value\": 594}, \"595\": {\"frequency\": 7, \"value\": 595}, \"596\": {\"frequency\": 677, \"value\": 596}, \"597\": {\"frequency\": 6, \"value\": 597}, \"598\": {\"frequency\": 29, \"value\": 598}, \"599\": {\"frequency\": 8, \"value\": 599}, \"600\": {\"frequency\": 1, \"value\": 600}, \"8793\": {\"frequency\": 1, \"value\": 8793}, \"602\": {\"frequency\": 4, \"value\": 602}, \"604\": {\"frequency\": 4, \"value\": 604}, \"606\": {\"frequency\": 2, \"value\": 606}, \"607\": {\"frequency\": 2, \"value\": 607}, \"608\": {\"frequency\": 2, \"value\": 608}, \"609\": {\"frequency\": 4, \"value\": 609}, \"611\": {\"frequency\": 11, \"value\": 611}, \"612\": {\"frequency\": 3, \"value\": 612}, \"613\": {\"frequency\": 5, \"value\": 613}, \"614\": {\"frequency\": 6, \"value\": 614}, \"615\": {\"frequency\": 3, \"value\": 615}, \"616\": {\"frequency\": 52, \"value\": 616}, \"617\": {\"frequency\": 2, \"value\": 617}, \"618\": {\"frequency\": 9, \"value\": 618}, \"619\": {\"frequency\": 1, \"value\": 619}, \"620\": {\"frequency\": 3, \"value\": 620}, \"621\": {\"frequency\": 2, \"value\": 621}, \"622\": {\"frequency\": 5, \"value\": 622}, \"623\": {\"frequency\": 2, \"value\": 623}, \"624\": {\"frequency\": 3, \"value\": 624}, \"625\": {\"frequency\": 5, \"value\": 625}, \"33394\": {\"frequency\": 4, \"value\": 33394}, \"627\": {\"frequency\": 1, \"value\": 627}, \"628\": {\"frequency\": 1, \"value\": 628}, \"629\": {\"frequency\": 3, \"value\": 629}, \"139894\": {\"frequency\": 1, \"value\": 139894}, \"631\": {\"frequency\": 4, \"value\": 631}, \"632\": {\"frequency\": 6, \"value\": 632}, \"633\": {\"frequency\": 1, \"value\": 633}, \"634\": {\"frequency\": 5, \"value\": 634}, \"635\": {\"frequency\": 1, \"value\": 635}, \"636\": {\"frequency\": 3, \"value\": 636}, \"637\": {\"frequency\": 3, \"value\": 637}, \"638\": {\"frequency\": 12, \"value\": 638}, \"639\": {\"frequency\": 1, \"value\": 639}, \"640\": {\"frequency\": 8, \"value\": 640}, \"641\": {\"frequency\": 6, \"value\": 641}, \"642\": {\"frequency\": 1, \"value\": 642}, \"643\": {\"frequency\": 1, \"value\": 643}, \"644\": {\"frequency\": 6, \"value\": 644}, \"645\": {\"frequency\": 2, \"value\": 645}, \"646\": {\"frequency\": 1, \"value\": 646}, \"647\": {\"frequency\": 4, \"value\": 647}, \"649\": {\"frequency\": 2, \"value\": 649}, \"651\": {\"frequency\": 10, \"value\": 651}, \"652\": {\"frequency\": 1, \"value\": 652}, \"653\": {\"frequency\": 3, \"value\": 653}, \"654\": {\"frequency\": 2, \"value\": 654}, \"655\": {\"frequency\": 8, \"value\": 655}, \"656\": {\"frequency\": 2, \"value\": 656}, \"657\": {\"frequency\": 9, \"value\": 657}, \"658\": {\"frequency\": 177, \"value\": 658}, \"659\": {\"frequency\": 7, \"value\": 659}, \"662\": {\"frequency\": 3, \"value\": 662}, \"663\": {\"frequency\": 5, \"value\": 663}, \"664\": {\"frequency\": 5, \"value\": 664}, \"665\": {\"frequency\": 5, \"value\": 665}, \"666\": {\"frequency\": 9, \"value\": 666}, \"667\": {\"frequency\": 4, \"value\": 667}, \"668\": {\"frequency\": 1, \"value\": 668}, \"669\": {\"frequency\": 1, \"value\": 669}, \"670\": {\"frequency\": 2, \"value\": 670}, \"671\": {\"frequency\": 5, \"value\": 671}, \"672\": {\"frequency\": 1, \"value\": 672}, \"8304\": {\"frequency\": 16, \"value\": 8304}, \"674\": {\"frequency\": 4, \"value\": 674}, \"675\": {\"frequency\": 14, \"value\": 675}, \"676\": {\"frequency\": 18, \"value\": 676}, \"677\": {\"frequency\": 2, \"value\": 677}, \"678\": {\"frequency\": 3, \"value\": 678}, \"679\": {\"frequency\": 4, \"value\": 679}, \"680\": {\"frequency\": 3, \"value\": 680}, \"681\": {\"frequency\": 3, \"value\": 681}, \"682\": {\"frequency\": 5, \"value\": 682}, \"683\": {\"frequency\": 1, \"value\": 683}, \"684\": {\"frequency\": 1, \"value\": 684}, \"685\": {\"frequency\": 4, \"value\": 685}, \"686\": {\"frequency\": 11, \"value\": 686}, \"689\": {\"frequency\": 1, \"value\": 689}, \"690\": {\"frequency\": 2, \"value\": 690}, \"691\": {\"frequency\": 1, \"value\": 691}, \"692\": {\"frequency\": 2, \"value\": 692}, \"693\": {\"frequency\": 2, \"value\": 693}, \"694\": {\"frequency\": 2918, \"value\": 694}, \"695\": {\"frequency\": 3, \"value\": 695}, \"696\": {\"frequency\": 3, \"value\": 696}, \"697\": {\"frequency\": 1, \"value\": 697}, \"698\": {\"frequency\": 5, \"value\": 698}, \"699\": {\"frequency\": 1, \"value\": 699}, \"700\": {\"frequency\": 19, \"value\": 700}, \"701\": {\"frequency\": 2, \"value\": 701}, \"702\": {\"frequency\": 3, \"value\": 702}, \"703\": {\"frequency\": 22, \"value\": 703}, \"704\": {\"frequency\": 5, \"value\": 704}, \"705\": {\"frequency\": 20, \"value\": 705}, \"706\": {\"frequency\": 2, \"value\": 706}, \"707\": {\"frequency\": 19, \"value\": 707}, \"709\": {\"frequency\": 4, \"value\": 709}, \"710\": {\"frequency\": 3, \"value\": 710}, \"711\": {\"frequency\": 3, \"value\": 711}, \"712\": {\"frequency\": 2, \"value\": 712}, \"713\": {\"frequency\": 5, \"value\": 713}, \"714\": {\"frequency\": 6, \"value\": 714}, \"715\": {\"frequency\": 7, \"value\": 715}, \"717\": {\"frequency\": 4, \"value\": 717}, \"718\": {\"frequency\": 2, \"value\": 718}, \"719\": {\"frequency\": 3, \"value\": 719}, \"721\": {\"frequency\": 2, \"value\": 721}, \"722\": {\"frequency\": 1, \"value\": 722}, \"724\": {\"frequency\": 3, \"value\": 724}, \"725\": {\"frequency\": 3, \"value\": 725}, \"726\": {\"frequency\": 8, \"value\": 726}, \"727\": {\"frequency\": 3, \"value\": 727}, \"728\": {\"frequency\": 1, \"value\": 728}, \"729\": {\"frequency\": 3, \"value\": 729}, \"731\": {\"frequency\": 1, \"value\": 731}, \"732\": {\"frequency\": 3, \"value\": 732}, \"733\": {\"frequency\": 1, \"value\": 733}, \"734\": {\"frequency\": 8, \"value\": 734}, \"735\": {\"frequency\": 4, \"value\": 735}, \"737\": {\"frequency\": 1, \"value\": 737}, \"738\": {\"frequency\": 1, \"value\": 738}, \"739\": {\"frequency\": 3, \"value\": 739}, \"740\": {\"frequency\": 2, \"value\": 740}, \"741\": {\"frequency\": 1, \"value\": 741}, \"742\": {\"frequency\": 2, \"value\": 742}, \"743\": {\"frequency\": 1, \"value\": 743}, \"744\": {\"frequency\": 2, \"value\": 744}, \"745\": {\"frequency\": 6, \"value\": 745}, \"17132\": {\"frequency\": 1, \"value\": 17132}, \"749\": {\"frequency\": 1, \"value\": 749}, \"750\": {\"frequency\": 4, \"value\": 750}, \"751\": {\"frequency\": 1, \"value\": 751}, \"752\": {\"frequency\": 1, \"value\": 752}, \"753\": {\"frequency\": 3, \"value\": 753}, \"755\": {\"frequency\": 2, \"value\": 755}, \"756\": {\"frequency\": 1, \"value\": 756}, \"760\": {\"frequency\": 2, \"value\": 760}, \"761\": {\"frequency\": 1, \"value\": 761}, \"762\": {\"frequency\": 3, \"value\": 762}, \"763\": {\"frequency\": 1, \"value\": 763}, \"764\": {\"frequency\": 1, \"value\": 764}, \"765\": {\"frequency\": 4, \"value\": 765}, \"766\": {\"frequency\": 5, \"value\": 766}, \"767\": {\"frequency\": 1, \"value\": 767}, \"769\": {\"frequency\": 1, \"value\": 769}, \"770\": {\"frequency\": 1, \"value\": 770}, \"772\": {\"frequency\": 1, \"value\": 772}, \"773\": {\"frequency\": 2, \"value\": 773}, \"774\": {\"frequency\": 8, \"value\": 774}, \"775\": {\"frequency\": 1, \"value\": 775}, \"776\": {\"frequency\": 2, \"value\": 776}, \"777\": {\"frequency\": 13, \"value\": 777}, \"778\": {\"frequency\": 5, \"value\": 778}, \"779\": {\"frequency\": 1, \"value\": 779}, \"781\": {\"frequency\": 1, \"value\": 781}, \"782\": {\"frequency\": 10, \"value\": 782}, \"783\": {\"frequency\": 3, \"value\": 783}, \"784\": {\"frequency\": 1, \"value\": 784}, \"785\": {\"frequency\": 1, \"value\": 785}, \"786\": {\"frequency\": 3, \"value\": 786}, \"789\": {\"frequency\": 1, \"value\": 789}, \"790\": {\"frequency\": 5, \"value\": 790}, \"791\": {\"frequency\": 4, \"value\": 791}, \"792\": {\"frequency\": 9, \"value\": 792}, \"794\": {\"frequency\": 2, \"value\": 794}, \"796\": {\"frequency\": 2, \"value\": 796}, \"797\": {\"frequency\": 2, \"value\": 797}, \"800\": {\"frequency\": 2, \"value\": 800}, \"801\": {\"frequency\": 1, \"value\": 801}, \"802\": {\"frequency\": 1, \"value\": 802}, \"805\": {\"frequency\": 2, \"value\": 805}, \"806\": {\"frequency\": 2, \"value\": 806}, \"807\": {\"frequency\": 21, \"value\": 807}, \"808\": {\"frequency\": 6, \"value\": 808}, \"809\": {\"frequency\": 5, \"value\": 809}, \"810\": {\"frequency\": 10, \"value\": 810}, \"812\": {\"frequency\": 3, \"value\": 812}, \"813\": {\"frequency\": 1, \"value\": 813}, \"814\": {\"frequency\": 3, \"value\": 814}, \"817\": {\"frequency\": 3, \"value\": 817}, \"819\": {\"frequency\": 2, \"value\": 819}, \"820\": {\"frequency\": 3, \"value\": 820}, \"821\": {\"frequency\": 1, \"value\": 821}, \"822\": {\"frequency\": 1, \"value\": 822}, \"823\": {\"frequency\": 6, \"value\": 823}, \"824\": {\"frequency\": 1, \"value\": 824}, \"825\": {\"frequency\": 3, \"value\": 825}, \"826\": {\"frequency\": 17, \"value\": 826}, \"827\": {\"frequency\": 17, \"value\": 827}, \"828\": {\"frequency\": 9, \"value\": 828}, \"829\": {\"frequency\": 1, \"value\": 829}, \"830\": {\"frequency\": 5, \"value\": 830}, \"831\": {\"frequency\": 10, \"value\": 831}, \"832\": {\"frequency\": 46, \"value\": 832}, \"833\": {\"frequency\": 1, \"value\": 833}, \"834\": {\"frequency\": 9, \"value\": 834}, \"835\": {\"frequency\": 3, \"value\": 835}, \"836\": {\"frequency\": 16, \"value\": 836}, \"837\": {\"frequency\": 11, \"value\": 837}, \"838\": {\"frequency\": 2, \"value\": 838}, \"839\": {\"frequency\": 2, \"value\": 839}, \"841\": {\"frequency\": 3, \"value\": 841}, \"842\": {\"frequency\": 6, \"value\": 842}, \"843\": {\"frequency\": 2, \"value\": 843}, \"845\": {\"frequency\": 1, \"value\": 845}, \"846\": {\"frequency\": 4, \"value\": 846}, \"848\": {\"frequency\": 1, \"value\": 848}, \"849\": {\"frequency\": 4, \"value\": 849}, \"850\": {\"frequency\": 7, \"value\": 850}, \"851\": {\"frequency\": 5, \"value\": 851}, \"852\": {\"frequency\": 1, \"value\": 852}, \"853\": {\"frequency\": 19, \"value\": 853}, \"854\": {\"frequency\": 25, \"value\": 854}, \"855\": {\"frequency\": 1, \"value\": 855}, \"857\": {\"frequency\": 6, \"value\": 857}, \"858\": {\"frequency\": 23, \"value\": 858}, \"860\": {\"frequency\": 1, \"value\": 860}, \"862\": {\"frequency\": 3, \"value\": 862}, \"864\": {\"frequency\": 1, \"value\": 864}, \"865\": {\"frequency\": 81, \"value\": 865}, \"868\": {\"frequency\": 1, \"value\": 868}, \"869\": {\"frequency\": 2, \"value\": 869}, \"870\": {\"frequency\": 1, \"value\": 870}, \"872\": {\"frequency\": 2, \"value\": 872}, \"873\": {\"frequency\": 1, \"value\": 873}, \"876\": {\"frequency\": 2, \"value\": 876}, \"877\": {\"frequency\": 2, \"value\": 877}, \"878\": {\"frequency\": 2, \"value\": 878}, \"880\": {\"frequency\": 1, \"value\": 880}, \"887\": {\"frequency\": 2, \"value\": 887}, \"889\": {\"frequency\": 1, \"value\": 889}, \"890\": {\"frequency\": 1, \"value\": 890}, \"893\": {\"frequency\": 1, \"value\": 893}, \"894\": {\"frequency\": 13, \"value\": 894}, \"897\": {\"frequency\": 1, \"value\": 897}, \"899\": {\"frequency\": 1, \"value\": 899}, \"900\": {\"frequency\": 2, \"value\": 900}, \"9093\": {\"frequency\": 1, \"value\": 9093}, \"902\": {\"frequency\": 1, \"value\": 902}, \"903\": {\"frequency\": 10, \"value\": 903}, \"905\": {\"frequency\": 2, \"value\": 905}, \"907\": {\"frequency\": 1, \"value\": 907}, \"909\": {\"frequency\": 1, \"value\": 909}, \"913\": {\"frequency\": 1, \"value\": 913}, \"914\": {\"frequency\": 1, \"value\": 914}, \"915\": {\"frequency\": 1, \"value\": 915}, \"919\": {\"frequency\": 4, \"value\": 919}, \"920\": {\"frequency\": 2, \"value\": 920}, \"921\": {\"frequency\": 2, \"value\": 921}, \"923\": {\"frequency\": 3, \"value\": 923}, \"924\": {\"frequency\": 1, \"value\": 924}, \"925\": {\"frequency\": 1, \"value\": 925}, \"927\": {\"frequency\": 3, \"value\": 927}, \"928\": {\"frequency\": 7, \"value\": 928}, \"931\": {\"frequency\": 6, \"value\": 931}, \"932\": {\"frequency\": 3, \"value\": 932}, \"934\": {\"frequency\": 1, \"value\": 934}, \"936\": {\"frequency\": 3, \"value\": 936}, \"937\": {\"frequency\": 1, \"value\": 937}, \"938\": {\"frequency\": 4, \"value\": 938}, \"940\": {\"frequency\": 1, \"value\": 940}, \"942\": {\"frequency\": 1, \"value\": 942}, \"943\": {\"frequency\": 1, \"value\": 943}, \"944\": {\"frequency\": 1, \"value\": 944}, \"945\": {\"frequency\": 2, \"value\": 945}, \"946\": {\"frequency\": 2, \"value\": 946}, \"948\": {\"frequency\": 10, \"value\": 948}, \"952\": {\"frequency\": 1, \"value\": 952}, \"954\": {\"frequency\": 9, \"value\": 954}, \"956\": {\"frequency\": 1, \"value\": 956}, \"959\": {\"frequency\": 1, \"value\": 959}, \"962\": {\"frequency\": 2, \"value\": 962}, \"963\": {\"frequency\": 1, \"value\": 963}, \"964\": {\"frequency\": 1, \"value\": 964}, \"965\": {\"frequency\": 2, \"value\": 965}, \"966\": {\"frequency\": 2, \"value\": 966}, \"967\": {\"frequency\": 5, \"value\": 967}, \"968\": {\"frequency\": 1, \"value\": 968}, \"969\": {\"frequency\": 1, \"value\": 969}, \"970\": {\"frequency\": 2, \"value\": 970}, \"974\": {\"frequency\": 3, \"value\": 974}, \"975\": {\"frequency\": 4, \"value\": 975}, \"977\": {\"frequency\": 7, \"value\": 977}, \"980\": {\"frequency\": 2, \"value\": 980}, \"981\": {\"frequency\": 4, \"value\": 981}, \"982\": {\"frequency\": 1, \"value\": 982}, \"984\": {\"frequency\": 1, \"value\": 984}, \"985\": {\"frequency\": 1, \"value\": 985}, \"986\": {\"frequency\": 1, \"value\": 986}, \"988\": {\"frequency\": 2, \"value\": 988}, \"989\": {\"frequency\": 1, \"value\": 989}, \"991\": {\"frequency\": 1, \"value\": 991}, \"993\": {\"frequency\": 4, \"value\": 993}, \"997\": {\"frequency\": 1, \"value\": 997}, \"998\": {\"frequency\": 1, \"value\": 998}, \"1000\": {\"frequency\": 2, \"value\": 1000}, \"1001\": {\"frequency\": 1, \"value\": 1001}, \"1002\": {\"frequency\": 3, \"value\": 1002}, \"1003\": {\"frequency\": 1, \"value\": 1003}, \"1004\": {\"frequency\": 2, \"value\": 1004}, \"1007\": {\"frequency\": 5, \"value\": 1007}, \"1011\": {\"frequency\": 1, \"value\": 1011}, \"1012\": {\"frequency\": 2, \"value\": 1012}, \"1016\": {\"frequency\": 2, \"value\": 1016}, \"1017\": {\"frequency\": 4, \"value\": 1017}, \"1019\": {\"frequency\": 2, \"value\": 1019}, \"1022\": {\"frequency\": 2, \"value\": 1022}, \"1023\": {\"frequency\": 4, \"value\": 1023}, \"1024\": {\"frequency\": 1, \"value\": 1024}, \"1027\": {\"frequency\": 1, \"value\": 1027}, \"1028\": {\"frequency\": 2, \"value\": 1028}, \"1029\": {\"frequency\": 1, \"value\": 1029}, \"1031\": {\"frequency\": 3, \"value\": 1031}, \"1034\": {\"frequency\": 2, \"value\": 1034}, \"1035\": {\"frequency\": 1, \"value\": 1035}, \"1036\": {\"frequency\": 4, \"value\": 1036}, \"1037\": {\"frequency\": 1, \"value\": 1037}, \"9231\": {\"frequency\": 1, \"value\": 9231}, \"1041\": {\"frequency\": 5, \"value\": 1041}, \"1043\": {\"frequency\": 6, \"value\": 1043}, \"1045\": {\"frequency\": 17, \"value\": 1045}, \"1047\": {\"frequency\": 2, \"value\": 1047}, \"1048\": {\"frequency\": 2, \"value\": 1048}, \"1049\": {\"frequency\": 16, \"value\": 1049}, \"1050\": {\"frequency\": 16, \"value\": 1050}, \"1051\": {\"frequency\": 18, \"value\": 1051}, \"1052\": {\"frequency\": 2, \"value\": 1052}, \"1053\": {\"frequency\": 6, \"value\": 1053}, \"1054\": {\"frequency\": 4, \"value\": 1054}, \"1058\": {\"frequency\": 1, \"value\": 1058}, \"1059\": {\"frequency\": 3, \"value\": 1059}, \"1061\": {\"frequency\": 1, \"value\": 1061}, \"1062\": {\"frequency\": 1, \"value\": 1062}, \"1064\": {\"frequency\": 5, \"value\": 1064}, \"1066\": {\"frequency\": 4, \"value\": 1066}, \"1067\": {\"frequency\": 2, \"value\": 1067}, \"1068\": {\"frequency\": 1, \"value\": 1068}, \"1069\": {\"frequency\": 1, \"value\": 1069}, \"1070\": {\"frequency\": 4, \"value\": 1070}, \"1071\": {\"frequency\": 2, \"value\": 1071}, \"1072\": {\"frequency\": 6, \"value\": 1072}, \"1074\": {\"frequency\": 2, \"value\": 1074}, \"1076\": {\"frequency\": 20, \"value\": 1076}, \"1077\": {\"frequency\": 1, \"value\": 1077}, \"1078\": {\"frequency\": 2, \"value\": 1078}, \"1081\": {\"frequency\": 2, \"value\": 1081}, \"1084\": {\"frequency\": 3, \"value\": 1084}, \"1085\": {\"frequency\": 1, \"value\": 1085}, \"42047\": {\"frequency\": 1, \"value\": 42047}, \"1089\": {\"frequency\": 2, \"value\": 1089}, \"1090\": {\"frequency\": 1, \"value\": 1090}, \"1092\": {\"frequency\": 2, \"value\": 1092}, \"1094\": {\"frequency\": 2, \"value\": 1094}, \"1096\": {\"frequency\": 1, \"value\": 1096}, \"1097\": {\"frequency\": 2, \"value\": 1097}, \"1099\": {\"frequency\": 2, \"value\": 1099}, \"1100\": {\"frequency\": 81, \"value\": 1100}, \"1102\": {\"frequency\": 1, \"value\": 1102}, \"1104\": {\"frequency\": 5, \"value\": 1104}, \"1105\": {\"frequency\": 14, \"value\": 1105}, \"1106\": {\"frequency\": 4, \"value\": 1106}, \"1108\": {\"frequency\": 1, \"value\": 1108}, \"1110\": {\"frequency\": 1, \"value\": 1110}, \"1112\": {\"frequency\": 35, \"value\": 1112}, \"1116\": {\"frequency\": 1, \"value\": 1116}, \"1118\": {\"frequency\": 2, \"value\": 1118}, \"1122\": {\"frequency\": 4, \"value\": 1122}, \"1123\": {\"frequency\": 6, \"value\": 1123}, \"1124\": {\"frequency\": 1, \"value\": 1124}, \"1125\": {\"frequency\": 1, \"value\": 1125}, \"1126\": {\"frequency\": 1, \"value\": 1126}, \"1129\": {\"frequency\": 3, \"value\": 1129}, \"1132\": {\"frequency\": 1, \"value\": 1132}, \"1133\": {\"frequency\": 1, \"value\": 1133}, \"1134\": {\"frequency\": 4, \"value\": 1134}, \"1136\": {\"frequency\": 4, \"value\": 1136}, \"1139\": {\"frequency\": 1, \"value\": 1139}, \"1141\": {\"frequency\": 1, \"value\": 1141}, \"1142\": {\"frequency\": 4, \"value\": 1142}, \"1143\": {\"frequency\": 6, \"value\": 1143}, \"1145\": {\"frequency\": 2, \"value\": 1145}, \"1146\": {\"frequency\": 2, \"value\": 1146}, \"83067\": {\"frequency\": 2, \"value\": 83067}, \"1149\": {\"frequency\": 2, \"value\": 1149}, \"1150\": {\"frequency\": 5, \"value\": 1150}, \"1155\": {\"frequency\": 2, \"value\": 1155}, \"1159\": {\"frequency\": 1, \"value\": 1159}, \"1162\": {\"frequency\": 2, \"value\": 1162}, \"1163\": {\"frequency\": 3, \"value\": 1163}, \"1164\": {\"frequency\": 2, \"value\": 1164}, \"1172\": {\"frequency\": 2, \"value\": 1172}, \"1173\": {\"frequency\": 1, \"value\": 1173}, \"1176\": {\"frequency\": 1, \"value\": 1176}, \"1179\": {\"frequency\": 2, \"value\": 1179}, \"1180\": {\"frequency\": 1, \"value\": 1180}, \"1183\": {\"frequency\": 5, \"value\": 1183}, \"1186\": {\"frequency\": 1, \"value\": 1186}, \"9379\": {\"frequency\": 1, \"value\": 9379}, \"1188\": {\"frequency\": 4, \"value\": 1188}, \"1189\": {\"frequency\": 5, \"value\": 1189}, \"1190\": {\"frequency\": 1, \"value\": 1190}, \"1191\": {\"frequency\": 1, \"value\": 1191}, \"1192\": {\"frequency\": 1, \"value\": 1192}, \"1194\": {\"frequency\": 1, \"value\": 1194}, \"1195\": {\"frequency\": 1, \"value\": 1195}, \"1196\": {\"frequency\": 1, \"value\": 1196}, \"1199\": {\"frequency\": 1, \"value\": 1199}, \"8392\": {\"frequency\": 1, \"value\": 8392}, \"1202\": {\"frequency\": 6, \"value\": 1202}, \"1203\": {\"frequency\": 3, \"value\": 1203}, \"1204\": {\"frequency\": 1, \"value\": 1204}, \"1206\": {\"frequency\": 1, \"value\": 1206}, \"1211\": {\"frequency\": 1, \"value\": 1211}, \"1212\": {\"frequency\": 2, \"value\": 1212}, \"1213\": {\"frequency\": 4, \"value\": 1213}, \"1221\": {\"frequency\": 1, \"value\": 1221}, \"1223\": {\"frequency\": 1, \"value\": 1223}, \"1225\": {\"frequency\": 2, \"value\": 1225}, \"1227\": {\"frequency\": 1, \"value\": 1227}, \"1228\": {\"frequency\": 2, \"value\": 1228}, \"1229\": {\"frequency\": 1, \"value\": 1229}, \"1230\": {\"frequency\": 3, \"value\": 1230}, \"1231\": {\"frequency\": 1, \"value\": 1231}, \"1234\": {\"frequency\": 4, \"value\": 1234}, \"1237\": {\"frequency\": 2, \"value\": 1237}, \"9430\": {\"frequency\": 1, \"value\": 9430}, \"1242\": {\"frequency\": 1, \"value\": 1242}, \"1244\": {\"frequency\": 18, \"value\": 1244}, \"1245\": {\"frequency\": 1, \"value\": 1245}, \"1250\": {\"frequency\": 4, \"value\": 1250}, \"1252\": {\"frequency\": 2, \"value\": 1252}, \"1260\": {\"frequency\": 1, \"value\": 1260}, \"1262\": {\"frequency\": 1, \"value\": 1262}, \"1263\": {\"frequency\": 4, \"value\": 1263}, \"1264\": {\"frequency\": 6, \"value\": 1264}, \"1270\": {\"frequency\": 1, \"value\": 1270}, \"9463\": {\"frequency\": 1, \"value\": 9463}, \"1272\": {\"frequency\": 1, \"value\": 1272}, \"1274\": {\"frequency\": 1, \"value\": 1274}, \"1275\": {\"frequency\": 1, \"value\": 1275}, \"1276\": {\"frequency\": 1, \"value\": 1276}, \"1277\": {\"frequency\": 10, \"value\": 1277}, \"1278\": {\"frequency\": 10, \"value\": 1278}, \"1279\": {\"frequency\": 2, \"value\": 1279}, \"1280\": {\"frequency\": 1, \"value\": 1280}, \"1281\": {\"frequency\": 2, \"value\": 1281}, \"8226\": {\"frequency\": 4, \"value\": 8226}, \"1285\": {\"frequency\": 1, \"value\": 1285}, \"1287\": {\"frequency\": 5, \"value\": 1287}, \"1293\": {\"frequency\": 1, \"value\": 1293}, \"1295\": {\"frequency\": 2, \"value\": 1295}, \"1296\": {\"frequency\": 12, \"value\": 1296}, \"1297\": {\"frequency\": 5, \"value\": 1297}, \"1298\": {\"frequency\": 2, \"value\": 1298}, \"1299\": {\"frequency\": 1, \"value\": 1299}, \"1300\": {\"frequency\": 1, \"value\": 1300}, \"1302\": {\"frequency\": 1, \"value\": 1302}, \"1303\": {\"frequency\": 2, \"value\": 1303}, \"25881\": {\"frequency\": 1, \"value\": 25881}, \"1307\": {\"frequency\": 1, \"value\": 1307}, \"1308\": {\"frequency\": 1, \"value\": 1308}, \"1309\": {\"frequency\": 3, \"value\": 1309}, \"1310\": {\"frequency\": 1, \"value\": 1310}, \"1312\": {\"frequency\": 1, \"value\": 1312}, \"1315\": {\"frequency\": 1, \"value\": 1315}, \"1317\": {\"frequency\": 2, \"value\": 1317}, \"1319\": {\"frequency\": 1, \"value\": 1319}, \"1321\": {\"frequency\": 1, \"value\": 1321}, \"1323\": {\"frequency\": 6, \"value\": 1323}, \"1328\": {\"frequency\": 3, \"value\": 1328}, \"1329\": {\"frequency\": 1, \"value\": 1329}, \"1334\": {\"frequency\": 2, \"value\": 1334}, \"1337\": {\"frequency\": 1, \"value\": 1337}, \"1340\": {\"frequency\": 3, \"value\": 1340}, \"1341\": {\"frequency\": 1, \"value\": 1341}, \"1342\": {\"frequency\": 23, \"value\": 1342}, \"1345\": {\"frequency\": 2, \"value\": 1345}, \"1346\": {\"frequency\": 1, \"value\": 1346}, \"1347\": {\"frequency\": 1, \"value\": 1347}, \"1348\": {\"frequency\": 21, \"value\": 1348}, \"1350\": {\"frequency\": 1, \"value\": 1350}, \"1352\": {\"frequency\": 2, \"value\": 1352}, \"1357\": {\"frequency\": 2, \"value\": 1357}, \"1358\": {\"frequency\": 1, \"value\": 1358}, \"1363\": {\"frequency\": 1, \"value\": 1363}, \"1368\": {\"frequency\": 4, \"value\": 1368}, \"1372\": {\"frequency\": 2, \"value\": 1372}, \"1373\": {\"frequency\": 1, \"value\": 1373}, \"229\": {\"frequency\": 18, \"value\": 229}, \"1377\": {\"frequency\": 2, \"value\": 1377}, \"1378\": {\"frequency\": 1, \"value\": 1378}, \"1380\": {\"frequency\": 2, \"value\": 1380}, \"1384\": {\"frequency\": 13, \"value\": 1384}, \"1386\": {\"frequency\": 6, \"value\": 1386}, \"1388\": {\"frequency\": 4, \"value\": 1388}, \"1389\": {\"frequency\": 3, \"value\": 1389}, \"1391\": {\"frequency\": 4, \"value\": 1391}, \"1392\": {\"frequency\": 2, \"value\": 1392}, \"1396\": {\"frequency\": 3, \"value\": 1396}, \"1397\": {\"frequency\": 2, \"value\": 1397}, \"1398\": {\"frequency\": 1, \"value\": 1398}, \"1401\": {\"frequency\": 1, \"value\": 1401}, \"1402\": {\"frequency\": 9, \"value\": 1402}, \"1404\": {\"frequency\": 1, \"value\": 1404}, \"1406\": {\"frequency\": 3, \"value\": 1406}, \"1407\": {\"frequency\": 1, \"value\": 1407}, \"1413\": {\"frequency\": 1, \"value\": 1413}, \"1414\": {\"frequency\": 4, \"value\": 1414}, \"1419\": {\"frequency\": 2, \"value\": 1419}, \"1422\": {\"frequency\": 1, \"value\": 1422}, \"1426\": {\"frequency\": 1, \"value\": 1426}, \"1429\": {\"frequency\": 16, \"value\": 1429}, \"1430\": {\"frequency\": 8, \"value\": 1430}, \"1432\": {\"frequency\": 1, \"value\": 1432}, \"1433\": {\"frequency\": 1, \"value\": 1433}, \"1434\": {\"frequency\": 2, \"value\": 1434}, \"1438\": {\"frequency\": 1, \"value\": 1438}, \"1439\": {\"frequency\": 1, \"value\": 1439}, \"1440\": {\"frequency\": 3, \"value\": 1440}, \"1442\": {\"frequency\": 1, \"value\": 1442}, \"1443\": {\"frequency\": 1, \"value\": 1443}, \"1445\": {\"frequency\": 6, \"value\": 1445}, \"1452\": {\"frequency\": 1, \"value\": 1452}, \"1453\": {\"frequency\": 1, \"value\": 1453}, \"1454\": {\"frequency\": 1, \"value\": 1454}, \"1456\": {\"frequency\": 1, \"value\": 1456}, \"1464\": {\"frequency\": 2, \"value\": 1464}, \"1465\": {\"frequency\": 1, \"value\": 1465}, \"1470\": {\"frequency\": 1, \"value\": 1470}, \"1473\": {\"frequency\": 4, \"value\": 1473}, \"1476\": {\"frequency\": 1, \"value\": 1476}, \"1478\": {\"frequency\": 1, \"value\": 1478}, \"1479\": {\"frequency\": 1, \"value\": 1479}, \"1481\": {\"frequency\": 5, \"value\": 1481}, \"9678\": {\"frequency\": 1, \"value\": 9678}, \"1495\": {\"frequency\": 2, \"value\": 1495}, \"1497\": {\"frequency\": 2, \"value\": 1497}, \"1503\": {\"frequency\": 1, \"value\": 1503}, \"1509\": {\"frequency\": 13, \"value\": 1509}, \"1511\": {\"frequency\": 1, \"value\": 1511}, \"1513\": {\"frequency\": 1, \"value\": 1513}, \"1520\": {\"frequency\": 3, \"value\": 1520}, \"1522\": {\"frequency\": 6, \"value\": 1522}, \"1526\": {\"frequency\": 1, \"value\": 1526}, \"1527\": {\"frequency\": 1, \"value\": 1527}, \"1528\": {\"frequency\": 1, \"value\": 1528}, \"1530\": {\"frequency\": 1, \"value\": 1530}, \"1531\": {\"frequency\": 1, \"value\": 1531}, \"1535\": {\"frequency\": 1, \"value\": 1535}, \"1536\": {\"frequency\": 36, \"value\": 1536}, \"1542\": {\"frequency\": 1, \"value\": 1542}, \"1545\": {\"frequency\": 2, \"value\": 1545}, \"1547\": {\"frequency\": 1, \"value\": 1547}, \"1552\": {\"frequency\": 2, \"value\": 1552}, \"1555\": {\"frequency\": 1, \"value\": 1555}, \"1556\": {\"frequency\": 1, \"value\": 1556}, \"1560\": {\"frequency\": 2, \"value\": 1560}, \"1564\": {\"frequency\": 2, \"value\": 1564}, \"1568\": {\"frequency\": 1, \"value\": 1568}, \"1580\": {\"frequency\": 1, \"value\": 1580}, \"1590\": {\"frequency\": 3, \"value\": 1590}, \"1593\": {\"frequency\": 1, \"value\": 1593}, \"1600\": {\"frequency\": 1, \"value\": 1600}, \"1601\": {\"frequency\": 1, \"value\": 1601}, \"9800\": {\"frequency\": 1, \"value\": 9800}, \"1610\": {\"frequency\": 1, \"value\": 1610}, \"1611\": {\"frequency\": 3, \"value\": 1611}, \"1617\": {\"frequency\": 1, \"value\": 1617}, \"1620\": {\"frequency\": 1, \"value\": 1620}, \"1624\": {\"frequency\": 1, \"value\": 1624}, \"1625\": {\"frequency\": 1, \"value\": 1625}, \"1626\": {\"frequency\": 1, \"value\": 1626}, \"1629\": {\"frequency\": 1, \"value\": 1629}, \"1633\": {\"frequency\": 1, \"value\": 1633}, \"1638\": {\"frequency\": 1, \"value\": 1638}, \"1640\": {\"frequency\": 4, \"value\": 1640}, \"1644\": {\"frequency\": 2, \"value\": 1644}, \"1647\": {\"frequency\": 1, \"value\": 1647}, \"1649\": {\"frequency\": 2, \"value\": 1649}, \"1658\": {\"frequency\": 2, \"value\": 1658}, \"1659\": {\"frequency\": 1, \"value\": 1659}, \"1660\": {\"frequency\": 2, \"value\": 1660}, \"1661\": {\"frequency\": 1, \"value\": 1661}, \"1663\": {\"frequency\": 3, \"value\": 1663}, \"1666\": {\"frequency\": 1, \"value\": 1666}, \"1670\": {\"frequency\": 2, \"value\": 1670}, \"1672\": {\"frequency\": 1, \"value\": 1672}, \"1673\": {\"frequency\": 1, \"value\": 1673}, \"1676\": {\"frequency\": 2, \"value\": 1676}, \"1684\": {\"frequency\": 1, \"value\": 1684}, \"1685\": {\"frequency\": 1, \"value\": 1685}, \"1686\": {\"frequency\": 1, \"value\": 1686}, \"1698\": {\"frequency\": 1, \"value\": 1698}, \"1701\": {\"frequency\": 1, \"value\": 1701}, \"1707\": {\"frequency\": 1, \"value\": 1707}, \"1708\": {\"frequency\": 6, \"value\": 1708}, \"1710\": {\"frequency\": 2, \"value\": 1710}, \"1713\": {\"frequency\": 1, \"value\": 1713}, \"1714\": {\"frequency\": 2, \"value\": 1714}, \"1715\": {\"frequency\": 1, \"value\": 1715}, \"1716\": {\"frequency\": 1, \"value\": 1716}, \"1721\": {\"frequency\": 1, \"value\": 1721}, \"1731\": {\"frequency\": 1, \"value\": 1731}, \"1739\": {\"frequency\": 2, \"value\": 1739}, \"9937\": {\"frequency\": 3, \"value\": 9937}, \"1756\": {\"frequency\": 1, \"value\": 1756}, \"1760\": {\"frequency\": 1, \"value\": 1760}, \"1763\": {\"frequency\": 3, \"value\": 1763}, \"1764\": {\"frequency\": 2, \"value\": 1764}, \"1765\": {\"frequency\": 2, \"value\": 1765}, \"1770\": {\"frequency\": 6, \"value\": 1770}, \"1777\": {\"frequency\": 2, \"value\": 1777}, \"1778\": {\"frequency\": 1, \"value\": 1778}, \"1781\": {\"frequency\": 1, \"value\": 1781}, \"9976\": {\"frequency\": 1, \"value\": 9976}, \"1785\": {\"frequency\": 1, \"value\": 1785}, \"1796\": {\"frequency\": 1, \"value\": 1796}, \"1797\": {\"frequency\": 1, \"value\": 1797}, \"1799\": {\"frequency\": 1, \"value\": 1799}, \"1804\": {\"frequency\": 1, \"value\": 1804}, \"9998\": {\"frequency\": 1, \"value\": 9998}, \"1807\": {\"frequency\": 24, \"value\": 1807}, \"1809\": {\"frequency\": 1, \"value\": 1809}, \"1810\": {\"frequency\": 1, \"value\": 1810}, \"1813\": {\"frequency\": 2, \"value\": 1813}, \"1819\": {\"frequency\": 1, \"value\": 1819}, \"1821\": {\"frequency\": 37, \"value\": 1821}, \"1824\": {\"frequency\": 1, \"value\": 1824}, \"1833\": {\"frequency\": 2, \"value\": 1833}, \"1834\": {\"frequency\": 1, \"value\": 1834}, \"1842\": {\"frequency\": 1, \"value\": 1842}, \"1854\": {\"frequency\": 1, \"value\": 1854}, \"1855\": {\"frequency\": 1, \"value\": 1855}, \"1862\": {\"frequency\": 1, \"value\": 1862}, \"18060\": {\"frequency\": 1, \"value\": 18060}, \"1866\": {\"frequency\": 1, \"value\": 1866}, \"1877\": {\"frequency\": 1, \"value\": 1877}, \"1883\": {\"frequency\": 1, \"value\": 1883}, \"1884\": {\"frequency\": 5, \"value\": 1884}, \"1886\": {\"frequency\": 1, \"value\": 1886}, \"1889\": {\"frequency\": 1, \"value\": 1889}, \"1890\": {\"frequency\": 1, \"value\": 1890}, \"1893\": {\"frequency\": 1, \"value\": 1893}, \"1896\": {\"frequency\": 2, \"value\": 1896}, \"1897\": {\"frequency\": 1, \"value\": 1897}, \"1899\": {\"frequency\": 3, \"value\": 1899}, \"1906\": {\"frequency\": 3, \"value\": 1906}, \"1909\": {\"frequency\": 6, \"value\": 1909}, \"1922\": {\"frequency\": 2, \"value\": 1922}, \"1928\": {\"frequency\": 2, \"value\": 1928}, \"1934\": {\"frequency\": 6, \"value\": 1934}, \"8515\": {\"frequency\": 1, \"value\": 8515}, \"1947\": {\"frequency\": 1, \"value\": 1947}, \"1948\": {\"frequency\": 9, \"value\": 1948}, \"8521\": {\"frequency\": 1, \"value\": 8521}, \"1952\": {\"frequency\": 8, \"value\": 1952}, \"1954\": {\"frequency\": 1, \"value\": 1954}, \"1959\": {\"frequency\": 1, \"value\": 1959}, \"1971\": {\"frequency\": 1, \"value\": 1971}, \"1975\": {\"frequency\": 1, \"value\": 1975}, \"1988\": {\"frequency\": 1, \"value\": 1988}, \"1992\": {\"frequency\": 9, \"value\": 1992}, \"1996\": {\"frequency\": 1, \"value\": 1996}, \"2000\": {\"frequency\": 1, \"value\": 2000}, \"2012\": {\"frequency\": 1, \"value\": 2012}, \"2016\": {\"frequency\": 1, \"value\": 2016}, \"2022\": {\"frequency\": 40, \"value\": 2022}, \"2024\": {\"frequency\": 1, \"value\": 2024}, \"2026\": {\"frequency\": 2, \"value\": 2026}, \"2046\": {\"frequency\": 1, \"value\": 2046}, \"2053\": {\"frequency\": 1, \"value\": 2053}, \"2063\": {\"frequency\": 1, \"value\": 2063}, \"2067\": {\"frequency\": 1, \"value\": 2067}, \"10271\": {\"frequency\": 2, \"value\": 10271}, \"2084\": {\"frequency\": 1, \"value\": 2084}, \"2085\": {\"frequency\": 1, \"value\": 2085}, \"8540\": {\"frequency\": 3, \"value\": 8540}, \"2097\": {\"frequency\": 1, \"value\": 2097}, \"2101\": {\"frequency\": 1, \"value\": 2101}, \"2109\": {\"frequency\": 1, \"value\": 2109}, \"2111\": {\"frequency\": 1, \"value\": 2111}, \"2124\": {\"frequency\": 1, \"value\": 2124}, \"2145\": {\"frequency\": 1, \"value\": 2145}, \"2152\": {\"frequency\": 1, \"value\": 2152}, \"26734\": {\"frequency\": 1, \"value\": 26734}, \"2160\": {\"frequency\": 1, \"value\": 2160}, \"2163\": {\"frequency\": 1, \"value\": 2163}, \"10360\": {\"frequency\": 15, \"value\": 10360}, \"2169\": {\"frequency\": 1, \"value\": 2169}, \"2178\": {\"frequency\": 2, \"value\": 2178}, \"2186\": {\"frequency\": 2, \"value\": 2186}, \"2188\": {\"frequency\": 1, \"value\": 2188}, \"2206\": {\"frequency\": 4, \"value\": 2206}, \"2208\": {\"frequency\": 2, \"value\": 2208}, \"2218\": {\"frequency\": 1, \"value\": 2218}, \"2219\": {\"frequency\": 1, \"value\": 2219}, \"2230\": {\"frequency\": 1, \"value\": 2230}, \"2236\": {\"frequency\": 4, \"value\": 2236}, \"2241\": {\"frequency\": 1, \"value\": 2241}, \"2251\": {\"frequency\": 1, \"value\": 2251}, \"2254\": {\"frequency\": 5, \"value\": 2254}, \"2264\": {\"frequency\": 20, \"value\": 2264}, \"2276\": {\"frequency\": 1, \"value\": 2276}, \"2278\": {\"frequency\": 4, \"value\": 2278}, \"2280\": {\"frequency\": 2, \"value\": 2280}, \"2294\": {\"frequency\": 1, \"value\": 2294}, \"2296\": {\"frequency\": 10, \"value\": 2296}, \"2299\": {\"frequency\": 1, \"value\": 2299}, \"2303\": {\"frequency\": 1, \"value\": 2303}, \"2309\": {\"frequency\": 1, \"value\": 2309}, \"2310\": {\"frequency\": 1, \"value\": 2310}, \"2312\": {\"frequency\": 1, \"value\": 2312}, \"2314\": {\"frequency\": 4, \"value\": 2314}, \"10522\": {\"frequency\": 1, \"value\": 10522}, \"2334\": {\"frequency\": 9, \"value\": 2334}, \"2337\": {\"frequency\": 1, \"value\": 2337}, \"2344\": {\"frequency\": 1, \"value\": 2344}, \"2346\": {\"frequency\": 1, \"value\": 2346}, \"2347\": {\"frequency\": 3, \"value\": 2347}, \"2351\": {\"frequency\": 12, \"value\": 2351}, \"2356\": {\"frequency\": 2, \"value\": 2356}, \"2357\": {\"frequency\": 1, \"value\": 2357}, \"2358\": {\"frequency\": 1, \"value\": 2358}, \"2361\": {\"frequency\": 1, \"value\": 2361}, \"2363\": {\"frequency\": 1, \"value\": 2363}, \"10569\": {\"frequency\": 6, \"value\": 10569}, \"10573\": {\"frequency\": 1, \"value\": 10573}, \"2388\": {\"frequency\": 8, \"value\": 2388}, \"2389\": {\"frequency\": 16, \"value\": 2389}, \"2406\": {\"frequency\": 1, \"value\": 2406}, \"2408\": {\"frequency\": 1, \"value\": 2408}, \"2415\": {\"frequency\": 1, \"value\": 2415}, \"2416\": {\"frequency\": 1, \"value\": 2416}, \"2423\": {\"frequency\": 1, \"value\": 2423}, \"2424\": {\"frequency\": 1, \"value\": 2424}, \"2433\": {\"frequency\": 1, \"value\": 2433}, \"2453\": {\"frequency\": 3, \"value\": 2453}, \"2459\": {\"frequency\": 2, \"value\": 2459}, \"2460\": {\"frequency\": 2, \"value\": 2460}, \"2480\": {\"frequency\": 1, \"value\": 2480}, \"2488\": {\"frequency\": 1, \"value\": 2488}, \"2505\": {\"frequency\": 1, \"value\": 2505}, \"2520\": {\"frequency\": 1, \"value\": 2520}, \"2523\": {\"frequency\": 1, \"value\": 2523}, \"2532\": {\"frequency\": 2, \"value\": 2532}, \"2534\": {\"frequency\": 1, \"value\": 2534}, \"51691\": {\"frequency\": 4, \"value\": 51691}, \"68084\": {\"frequency\": 1, \"value\": 68084}, \"2550\": {\"frequency\": 1, \"value\": 2550}, \"35320\": {\"frequency\": 2, \"value\": 35320}, \"2561\": {\"frequency\": 3, \"value\": 2561}, \"2562\": {\"frequency\": 1, \"value\": 2562}, \"2576\": {\"frequency\": 1, \"value\": 2576}, \"2580\": {\"frequency\": 3, \"value\": 2580}, \"2591\": {\"frequency\": 1, \"value\": 2591}, \"2596\": {\"frequency\": 3, \"value\": 2596}, \"2601\": {\"frequency\": 1, \"value\": 2601}, \"2615\": {\"frequency\": 4, \"value\": 2615}, \"2616\": {\"frequency\": 2, \"value\": 2616}, \"2617\": {\"frequency\": 28, \"value\": 2617}, \"2630\": {\"frequency\": 1, \"value\": 2630}, \"2632\": {\"frequency\": 4, \"value\": 2632}, \"2635\": {\"frequency\": 1, \"value\": 2635}, \"2650\": {\"frequency\": 2, \"value\": 2650}, \"2658\": {\"frequency\": 2, \"value\": 2658}, \"2667\": {\"frequency\": 1, \"value\": 2667}, \"10864\": {\"frequency\": 4, \"value\": 10864}, \"34581\": {\"frequency\": 1, \"value\": 34581}, \"2689\": {\"frequency\": 4, \"value\": 2689}, \"2691\": {\"frequency\": 1, \"value\": 2691}, \"2692\": {\"frequency\": 1, \"value\": 2692}, \"2701\": {\"frequency\": 1, \"value\": 2701}, \"2706\": {\"frequency\": 1, \"value\": 2706}, \"2707\": {\"frequency\": 1, \"value\": 2707}, \"2710\": {\"frequency\": 1, \"value\": 2710}, \"2712\": {\"frequency\": 1, \"value\": 2712}, \"2716\": {\"frequency\": 2, \"value\": 2716}, \"2724\": {\"frequency\": 2, \"value\": 2724}, \"2729\": {\"frequency\": 1, \"value\": 2729}, \"2731\": {\"frequency\": 2, \"value\": 2731}, \"2736\": {\"frequency\": 1, \"value\": 2736}, \"10930\": {\"frequency\": 1, \"value\": 10930}, \"2751\": {\"frequency\": 3, \"value\": 2751}, \"2765\": {\"frequency\": 1, \"value\": 2765}, \"43729\": {\"frequency\": 1, \"value\": 43729}, \"2776\": {\"frequency\": 1, \"value\": 2776}, \"19168\": {\"frequency\": 1, \"value\": 19168}, \"2801\": {\"frequency\": 2, \"value\": 2801}, \"2806\": {\"frequency\": 2, \"value\": 2806}, \"2814\": {\"frequency\": 1, \"value\": 2814}, \"2828\": {\"frequency\": 1, \"value\": 2828}, \"2829\": {\"frequency\": 1, \"value\": 2829}, \"2834\": {\"frequency\": 1, \"value\": 2834}, \"11044\": {\"frequency\": 1, \"value\": 11044}, \"2861\": {\"frequency\": 1, \"value\": 2861}, \"11054\": {\"frequency\": 1, \"value\": 11054}, \"2865\": {\"frequency\": 1, \"value\": 2865}, \"2870\": {\"frequency\": 2, \"value\": 2870}, \"2882\": {\"frequency\": 1, \"value\": 2882}, \"2887\": {\"frequency\": 1, \"value\": 2887}, \"2891\": {\"frequency\": 4, \"value\": 2891}, \"2900\": {\"frequency\": 1, \"value\": 2900}, \"2909\": {\"frequency\": 1, \"value\": 2909}, \"2914\": {\"frequency\": 1, \"value\": 2914}, \"2915\": {\"frequency\": 1, \"value\": 2915}, \"2918\": {\"frequency\": 1, \"value\": 2918}, \"19338\": {\"frequency\": 1, \"value\": 19338}, \"43924\": {\"frequency\": 1, \"value\": 43924}, \"2967\": {\"frequency\": 1, \"value\": 2967}, \"2977\": {\"frequency\": 1, \"value\": 2977}, \"2984\": {\"frequency\": 1, \"value\": 2984}, \"27573\": {\"frequency\": 3, \"value\": 27573}, \"3007\": {\"frequency\": 1, \"value\": 3007}, \"3034\": {\"frequency\": 1, \"value\": 3034}, \"3047\": {\"frequency\": 1, \"value\": 3047}, \"3048\": {\"frequency\": 1, \"value\": 3048}, \"3071\": {\"frequency\": 1, \"value\": 3071}, \"3096\": {\"frequency\": 2, \"value\": 3096}, \"3100\": {\"frequency\": 1, \"value\": 3100}, \"3107\": {\"frequency\": 1, \"value\": 3107}, \"3108\": {\"frequency\": 1, \"value\": 3108}, \"3112\": {\"frequency\": 1, \"value\": 3112}, \"3119\": {\"frequency\": 1, \"value\": 3119}, \"3121\": {\"frequency\": 1, \"value\": 3121}, \"3123\": {\"frequency\": 1, \"value\": 3123}, \"3126\": {\"frequency\": 1, \"value\": 3126}, \"19511\": {\"frequency\": 1, \"value\": 19511}, \"3128\": {\"frequency\": 1, \"value\": 3128}, \"11345\": {\"frequency\": 1, \"value\": 11345}, \"3154\": {\"frequency\": 1, \"value\": 3154}, \"3163\": {\"frequency\": 1, \"value\": 3163}, \"3168\": {\"frequency\": 1, \"value\": 3168}, \"3175\": {\"frequency\": 1, \"value\": 3175}, \"3190\": {\"frequency\": 6, \"value\": 3190}, \"3200\": {\"frequency\": 1, \"value\": 3200}, \"3201\": {\"frequency\": 6, \"value\": 3201}, \"3212\": {\"frequency\": 1, \"value\": 3212}, \"3213\": {\"frequency\": 1, \"value\": 3213}, \"3231\": {\"frequency\": 1, \"value\": 3231}, \"3233\": {\"frequency\": 1, \"value\": 3233}, \"3254\": {\"frequency\": 1, \"value\": 3254}, \"3257\": {\"frequency\": 2, \"value\": 3257}, \"3259\": {\"frequency\": 3, \"value\": 3259}, \"11464\": {\"frequency\": 2, \"value\": 11464}, \"3275\": {\"frequency\": 3, \"value\": 3275}, \"3300\": {\"frequency\": 1, \"value\": 3300}, \"3305\": {\"frequency\": 1, \"value\": 3305}, \"3314\": {\"frequency\": 1, \"value\": 3314}, \"3316\": {\"frequency\": 4, \"value\": 3316}, \"3332\": {\"frequency\": 1, \"value\": 3332}, \"3351\": {\"frequency\": 18, \"value\": 3351}, \"3352\": {\"frequency\": 1, \"value\": 3352}, \"3362\": {\"frequency\": 3, \"value\": 3362}, \"3367\": {\"frequency\": 1, \"value\": 3367}, \"25143\": {\"frequency\": 2, \"value\": 25143}, \"3420\": {\"frequency\": 1, \"value\": 3420}, \"3427\": {\"frequency\": 1, \"value\": 3427}, \"44396\": {\"frequency\": 5, \"value\": 44396}, \"44416\": {\"frequency\": 5, \"value\": 44416}, \"33344\": {\"frequency\": 2, \"value\": 33344}, \"3462\": {\"frequency\": 3, \"value\": 3462}, \"3509\": {\"frequency\": 1, \"value\": 3509}, \"3518\": {\"frequency\": 1, \"value\": 3518}, \"3520\": {\"frequency\": 1, \"value\": 3520}, \"3524\": {\"frequency\": 4, \"value\": 3524}, \"11726\": {\"frequency\": 2, \"value\": 11726}, \"11727\": {\"frequency\": 2, \"value\": 11727}, \"3546\": {\"frequency\": 3, \"value\": 3546}, \"3555\": {\"frequency\": 1, \"value\": 3555}, \"3556\": {\"frequency\": 1, \"value\": 3556}, \"8786\": {\"frequency\": 1, \"value\": 8786}, \"3567\": {\"frequency\": 1, \"value\": 3567}, \"3571\": {\"frequency\": 1, \"value\": 3571}, \"3576\": {\"frequency\": 1, \"value\": 3576}, \"3582\": {\"frequency\": 1, \"value\": 3582}, \"3583\": {\"frequency\": 4, \"value\": 3583}, \"3600\": {\"frequency\": 1, \"value\": 3600}, \"3603\": {\"frequency\": 4, \"value\": 3603}, \"11798\": {\"frequency\": 2, \"value\": 11798}, \"601\": {\"frequency\": 3, \"value\": 601}, \"3629\": {\"frequency\": 1, \"value\": 3629}, \"3697\": {\"frequency\": 9, \"value\": 3697}, \"3700\": {\"frequency\": 1, \"value\": 3700}, \"20099\": {\"frequency\": 1, \"value\": 20099}, \"3730\": {\"frequency\": 1, \"value\": 3730}, \"3734\": {\"frequency\": 4, \"value\": 3734}, \"626\": {\"frequency\": 12, \"value\": 626}, \"3762\": {\"frequency\": 1, \"value\": 3762}, \"630\": {\"frequency\": 8, \"value\": 630}, \"11976\": {\"frequency\": 1, \"value\": 11976}, \"11983\": {\"frequency\": 1, \"value\": 11983}, \"36562\": {\"frequency\": 1, \"value\": 36562}, \"3799\": {\"frequency\": 1, \"value\": 3799}, \"3805\": {\"frequency\": 4, \"value\": 3805}, \"3808\": {\"frequency\": 1, \"value\": 3808}, \"12033\": {\"frequency\": 1, \"value\": 12033}, \"53024\": {\"frequency\": 1, \"value\": 53024}, \"3915\": {\"frequency\": 1, \"value\": 3915}, \"3950\": {\"frequency\": 1, \"value\": 3950}, \"3957\": {\"frequency\": 20, \"value\": 3957}, \"3958\": {\"frequency\": 1, \"value\": 3958}, \"12154\": {\"frequency\": 9, \"value\": 12154}, \"4010\": {\"frequency\": 1, \"value\": 4010}, \"4036\": {\"frequency\": 1, \"value\": 4036}, \"673\": {\"frequency\": 1, \"value\": 673}, \"4089\": {\"frequency\": 1, \"value\": 4089}, \"12286\": {\"frequency\": 4, \"value\": 12286}, \"4099\": {\"frequency\": 1, \"value\": 4099}, \"4120\": {\"frequency\": 2, \"value\": 4120}, \"4131\": {\"frequency\": 3, \"value\": 4131}, \"4134\": {\"frequency\": 1, \"value\": 4134}, \"4137\": {\"frequency\": 1, \"value\": 4137}, \"4155\": {\"frequency\": 3, \"value\": 4155}, \"4158\": {\"frequency\": 3, \"value\": 4158}, \"12352\": {\"frequency\": 1, \"value\": 12352}, \"4174\": {\"frequency\": 1, \"value\": 4174}, \"4183\": {\"frequency\": 4, \"value\": 4183}, \"4190\": {\"frequency\": 1, \"value\": 4190}, \"12447\": {\"frequency\": 4, \"value\": 12447}, \"4275\": {\"frequency\": 9, \"value\": 4275}, \"4284\": {\"frequency\": 1, \"value\": 4284}, \"12489\": {\"frequency\": 1, \"value\": 12489}, \"4311\": {\"frequency\": 6, \"value\": 4311}, \"4351\": {\"frequency\": 1, \"value\": 4351}, \"4388\": {\"frequency\": 3, \"value\": 4388}, \"4392\": {\"frequency\": 1, \"value\": 4392}, \"4398\": {\"frequency\": 1, \"value\": 4398}, \"4442\": {\"frequency\": 1, \"value\": 4442}, \"4449\": {\"frequency\": 1, \"value\": 4449}, \"12667\": {\"frequency\": 1, \"value\": 12667}, \"4480\": {\"frequency\": 1, \"value\": 4480}, \"4484\": {\"frequency\": 1, \"value\": 4484}, \"748\": {\"frequency\": 2, \"value\": 748}, \"4493\": {\"frequency\": 1, \"value\": 4493}, \"4502\": {\"frequency\": 1, \"value\": 4502}, \"4517\": {\"frequency\": 4, \"value\": 4517}, \"4520\": {\"frequency\": 1, \"value\": 4520}, \"4522\": {\"frequency\": 27, \"value\": 4522}, \"4523\": {\"frequency\": 9, \"value\": 4523}, \"4537\": {\"frequency\": 1, \"value\": 4537}, \"4560\": {\"frequency\": 1, \"value\": 4560}, \"4598\": {\"frequency\": 1, \"value\": 4598}, \"4600\": {\"frequency\": 1, \"value\": 4600}, \"4611\": {\"frequency\": 1, \"value\": 4611}, \"4616\": {\"frequency\": 6, \"value\": 4616}, \"4644\": {\"frequency\": 1, \"value\": 4644}, \"12841\": {\"frequency\": 1, \"value\": 12841}, \"4673\": {\"frequency\": 1, \"value\": 4673}, \"12874\": {\"frequency\": 1, \"value\": 12874}, \"29293\": {\"frequency\": 1, \"value\": 29293}, \"4718\": {\"frequency\": 2, \"value\": 4718}, \"62065\": {\"frequency\": 1, \"value\": 62065}, \"4752\": {\"frequency\": 1, \"value\": 4752}, \"25368\": {\"frequency\": 5, \"value\": 25368}, \"12966\": {\"frequency\": 1, \"value\": 12966}, \"13006\": {\"frequency\": 12, \"value\": 13006}, \"4823\": {\"frequency\": 1, \"value\": 4823}, \"13045\": {\"frequency\": 1, \"value\": 13045}, \"13047\": {\"frequency\": 1, \"value\": 13047}, \"21267\": {\"frequency\": 1, \"value\": 21267}, \"4885\": {\"frequency\": 1, \"value\": 4885}, \"4902\": {\"frequency\": 4, \"value\": 4902}, \"4934\": {\"frequency\": 8, \"value\": 4934}, \"4995\": {\"frequency\": 1, \"value\": 4995}, \"5008\": {\"frequency\": 1, \"value\": 5008}, \"5027\": {\"frequency\": 1, \"value\": 5027}, \"5037\": {\"frequency\": 1, \"value\": 5037}, \"21475\": {\"frequency\": 1, \"value\": 21475}, \"5093\": {\"frequency\": 1, \"value\": 5093}, \"8353\": {\"frequency\": 1, \"value\": 8353}, \"5114\": {\"frequency\": 1, \"value\": 5114}, \"160790\": {\"frequency\": 1, \"value\": 160790}, \"5147\": {\"frequency\": 1, \"value\": 5147}, \"5156\": {\"frequency\": 1, \"value\": 5156}, \"5162\": {\"frequency\": 1, \"value\": 5162}, \"5164\": {\"frequency\": 2, \"value\": 5164}, \"5177\": {\"frequency\": 2, \"value\": 5177}, \"5180\": {\"frequency\": 2, \"value\": 5180}, \"9056\": {\"frequency\": 1, \"value\": 9056}, \"5191\": {\"frequency\": 1, \"value\": 5191}, \"5209\": {\"frequency\": 1, \"value\": 5209}, \"5218\": {\"frequency\": 1, \"value\": 5218}, \"5219\": {\"frequency\": 1, \"value\": 5219}, \"5233\": {\"frequency\": 1, \"value\": 5233}, \"9065\": {\"frequency\": 1, \"value\": 9065}, \"5248\": {\"frequency\": 2, \"value\": 5248}, \"5252\": {\"frequency\": 1, \"value\": 5252}, \"11799\": {\"frequency\": 3, \"value\": 11799}, \"5283\": {\"frequency\": 2, \"value\": 5283}, \"5319\": {\"frequency\": 1, \"value\": 5319}, \"5333\": {\"frequency\": 1, \"value\": 5333}, \"5335\": {\"frequency\": 1, \"value\": 5335}, \"5336\": {\"frequency\": 1, \"value\": 5336}, \"5344\": {\"frequency\": 1, \"value\": 5344}, \"5366\": {\"frequency\": 1, \"value\": 5366}, \"29965\": {\"frequency\": 1, \"value\": 29965}, \"29966\": {\"frequency\": 1, \"value\": 29966}, \"5430\": {\"frequency\": 1, \"value\": 5430}, \"5435\": {\"frequency\": 189, \"value\": 5435}, \"5462\": {\"frequency\": 4, \"value\": 5462}, \"9107\": {\"frequency\": 1, \"value\": 9107}, \"9111\": {\"frequency\": 1, \"value\": 9111}, \"13726\": {\"frequency\": 2, \"value\": 13726}, \"5543\": {\"frequency\": 1, \"value\": 5543}, \"5585\": {\"frequency\": 4, \"value\": 5585}, \"5617\": {\"frequency\": 4, \"value\": 5617}, \"5623\": {\"frequency\": 4, \"value\": 5623}, \"5659\": {\"frequency\": 1, \"value\": 5659}, \"38436\": {\"frequency\": 1, \"value\": 38436}, \"136763\": {\"frequency\": 3, \"value\": 136763}, \"5699\": {\"frequency\": 3, \"value\": 5699}, \"30288\": {\"frequency\": 1, \"value\": 30288}, \"5718\": {\"frequency\": 2, \"value\": 5718}, \"25532\": {\"frequency\": 1, \"value\": 25532}, \"5744\": {\"frequency\": 1, \"value\": 5744}, \"5745\": {\"frequency\": 1, \"value\": 5745}, \"5778\": {\"frequency\": 1, \"value\": 5778}, \"22178\": {\"frequency\": 1, \"value\": 22178}, \"5824\": {\"frequency\": 1, \"value\": 5824}, \"30419\": {\"frequency\": 1, \"value\": 30419}, \"5864\": {\"frequency\": 1, \"value\": 5864}, \"5904\": {\"frequency\": 1, \"value\": 5904}, \"5909\": {\"frequency\": 1, \"value\": 5909}, \"63318\": {\"frequency\": 1, \"value\": 63318}, \"22379\": {\"frequency\": 1, \"value\": 22379}, \"6011\": {\"frequency\": 1, \"value\": 6011}, \"6034\": {\"frequency\": 1, \"value\": 6034}, \"6090\": {\"frequency\": 44, \"value\": 6090}, \"6134\": {\"frequency\": 1, \"value\": 6134}, \"6168\": {\"frequency\": 2, \"value\": 6168}, \"153674\": {\"frequency\": 1, \"value\": 153674}, \"6255\": {\"frequency\": 1, \"value\": 6255}, \"6260\": {\"frequency\": 1, \"value\": 6260}, \"145553\": {\"frequency\": 2, \"value\": 145553}, \"6335\": {\"frequency\": 6, \"value\": 6335}, \"6352\": {\"frequency\": 1, \"value\": 6352}, \"22742\": {\"frequency\": 1, \"value\": 22742}, \"6413\": {\"frequency\": 1, \"value\": 6413}, \"14612\": {\"frequency\": 1, \"value\": 14612}, \"6462\": {\"frequency\": 1, \"value\": 6462}, \"6469\": {\"frequency\": 1, \"value\": 6469}, \"6477\": {\"frequency\": 1, \"value\": 6477}, \"6483\": {\"frequency\": 2, \"value\": 6483}, \"9273\": {\"frequency\": 1, \"value\": 9273}, \"6521\": {\"frequency\": 1, \"value\": 6521}, \"22915\": {\"frequency\": 2, \"value\": 22915}, \"6607\": {\"frequency\": 4, \"value\": 6607}, \"15223\": {\"frequency\": 2, \"value\": 15223}, \"6631\": {\"frequency\": 1, \"value\": 6631}, \"14830\": {\"frequency\": 1, \"value\": 14830}, \"6666\": {\"frequency\": 1, \"value\": 6666}, \"6705\": {\"frequency\": 2, \"value\": 6705}, \"6739\": {\"frequency\": 1, \"value\": 6739}, \"6759\": {\"frequency\": 2, \"value\": 6759}, \"14983\": {\"frequency\": 1, \"value\": 14983}, \"2808487\": {\"frequency\": 1, \"value\": 2808487}, \"6837\": {\"frequency\": 1, \"value\": 6837}, \"6924\": {\"frequency\": 25, \"value\": 6924}, \"15220\": {\"frequency\": 1, \"value\": 15220}, \"7031\": {\"frequency\": 1, \"value\": 7031}, \"7033\": {\"frequency\": 3, \"value\": 7033}, \"7034\": {\"frequency\": 1, \"value\": 7034}, \"7074\": {\"frequency\": 1, \"value\": 7074}, \"7116\": {\"frequency\": 4, \"value\": 7116}, \"1187\": {\"frequency\": 3, \"value\": 1187}, \"7179\": {\"frequency\": 1, \"value\": 7179}, \"7228\": {\"frequency\": 2, \"value\": 7228}, \"7230\": {\"frequency\": 1, \"value\": 7230}, \"15425\": {\"frequency\": 112, \"value\": 15425}, \"7307\": {\"frequency\": 1, \"value\": 7307}, \"23734\": {\"frequency\": 14, \"value\": 23734}, \"7356\": {\"frequency\": 2, \"value\": 7356}, \"3962\": {\"frequency\": 3, \"value\": 3962}, \"7423\": {\"frequency\": 1, \"value\": 7423}, \"7438\": {\"frequency\": 1, \"value\": 7438}, \"7498\": {\"frequency\": 1, \"value\": 7498}, \"122267\": {\"frequency\": 2, \"value\": 122267}, \"122271\": {\"frequency\": 2, \"value\": 122271}, \"7603\": {\"frequency\": 1, \"value\": 7603}, \"527\": {\"frequency\": 2, \"value\": 527}, \"7661\": {\"frequency\": 60, \"value\": 7661}, \"15871\": {\"frequency\": 1, \"value\": 15871}, \"7712\": {\"frequency\": 4, \"value\": 7712}, \"15947\": {\"frequency\": 4, \"value\": 15947}, \"15949\": {\"frequency\": 4, \"value\": 15949}, \"1305\": {\"frequency\": 5, \"value\": 1305}, \"7836\": {\"frequency\": 1, \"value\": 7836}, \"7871\": {\"frequency\": 3, \"value\": 7871}, \"7899\": {\"frequency\": 1, \"value\": 7899}, \"7974\": {\"frequency\": 1, \"value\": 7974}, \"8007\": {\"frequency\": 1, \"value\": 8007}, \"10904\": {\"frequency\": 1, \"value\": 10904}, \"40875\": {\"frequency\": 1, \"value\": 40875}, \"8155\": {\"frequency\": 1, \"value\": 8155}, \"8176\": {\"frequency\": 1, \"value\": 8176}}, \"mean\": 1025.1901714085297}, \"selected_variable\": {\"name\": [\"followers\"], \"dtype\": \"int\", \"view_component\": \"Numeric\", \"view_file\": \"sarray\", \"descriptives\": {\"rows\": 22811}, \"type\": \"SArray\", \"view_components\": [\"Numeric\", \"Categorical\"]}, \"histogram\": {\"progress\": 1.0, \"histogram\": {\"max\": 2820210.652, \"bins\": [22810, 0, 0, 0, 0, 0, 0, 0, 0, 0, 0, 1], \"min\": -17236.00400000019}, \"min\": 0, \"complete\": 1, \"max\": 2808487}}, e);\n",
        "                });\n",
        "            })();\n",
        "        "
       ],
       "metadata": {},
       "output_type": "display_data"
      }
     ],
     "prompt_number": 34
    },
    {
     "cell_type": "code",
     "collapsed": false,
     "input": [
      "def followers_range(followers):\n",
      "    if followers <= 50:\n",
      "        return '0-50'\n",
      "    if followers <= 150:\n",
      "        return '51-150'\n",
      "    if followers <= 300:\n",
      "        return '151-300'\n",
      "    if followers <= 1000:\n",
      "        return '301-1000'\n",
      "    else:\n",
      "        return '>1000'"
     ],
     "language": "python",
     "metadata": {},
     "outputs": [],
     "prompt_number": 35
    },
    {
     "cell_type": "code",
     "collapsed": false,
     "input": [
      "insta_data['followers_range'] = insta_data['followers'].apply(followers_range)"
     ],
     "language": "python",
     "metadata": {},
     "outputs": [],
     "prompt_number": 36
    },
    {
     "cell_type": "markdown",
     "metadata": {},
     "source": [
      "#Build Classification Model"
     ]
    },
    {
     "cell_type": "code",
     "collapsed": false,
     "input": [
      "insta_data.head()"
     ],
     "language": "python",
     "metadata": {},
     "outputs": [
      {
       "html": [
        "<div style=\"max-height:1000px;max-width:1500px;overflow:auto;\"><table frame=\"box\" rules=\"cols\">\n",
        "    <tr>\n",
        "        <th style=\"padding-left: 1em; padding-right: 1em; text-align: center\">hashtags</th>\n",
        "        <th style=\"padding-left: 1em; padding-right: 1em; text-align: center\">timestamp</th>\n",
        "        <th style=\"padding-left: 1em; padding-right: 1em; text-align: center\">type</th>\n",
        "        <th style=\"padding-left: 1em; padding-right: 1em; text-align: center\">users_in_photo</th>\n",
        "        <th style=\"padding-left: 1em; padding-right: 1em; text-align: center\">user_id</th>\n",
        "        <th style=\"padding-left: 1em; padding-right: 1em; text-align: center\">likes</th>\n",
        "        <th style=\"padding-left: 1em; padding-right: 1em; text-align: center\">followers</th>\n",
        "        <th style=\"padding-left: 1em; padding-right: 1em; text-align: center\">climbing</th>\n",
        "        <th style=\"padding-left: 1em; padding-right: 1em; text-align: center\">rockclimbing</th>\n",
        "    </tr>\n",
        "    <tr>\n",
        "        <td style=\"padding-left: 1em; padding-right: 1em; text-align: center; vertical-align: top\">[climbing, running,<br>trees] ...</td>\n",
        "        <td style=\"padding-left: 1em; padding-right: 1em; text-align: center; vertical-align: top\">1447708386</td>\n",
        "        <td style=\"padding-left: 1em; padding-right: 1em; text-align: center; vertical-align: top\">image</td>\n",
        "        <td style=\"padding-left: 1em; padding-right: 1em; text-align: center; vertical-align: top\">0</td>\n",
        "        <td style=\"padding-left: 1em; padding-right: 1em; text-align: center; vertical-align: top\">355460706</td>\n",
        "        <td style=\"padding-left: 1em; padding-right: 1em; text-align: center; vertical-align: top\">0</td>\n",
        "        <td style=\"padding-left: 1em; padding-right: 1em; text-align: center; vertical-align: top\">71</td>\n",
        "        <td style=\"padding-left: 1em; padding-right: 1em; text-align: center; vertical-align: top\">1</td>\n",
        "        <td style=\"padding-left: 1em; padding-right: 1em; text-align: center; vertical-align: top\">0</td>\n",
        "    </tr>\n",
        "    <tr>\n",
        "        <td style=\"padding-left: 1em; padding-right: 1em; text-align: center; vertical-align: top\">[jarecki, climbing,<br>wspin] ...</td>\n",
        "        <td style=\"padding-left: 1em; padding-right: 1em; text-align: center; vertical-align: top\">1447708318</td>\n",
        "        <td style=\"padding-left: 1em; padding-right: 1em; text-align: center; vertical-align: top\">image</td>\n",
        "        <td style=\"padding-left: 1em; padding-right: 1em; text-align: center; vertical-align: top\">0</td>\n",
        "        <td style=\"padding-left: 1em; padding-right: 1em; text-align: center; vertical-align: top\">1970141976</td>\n",
        "        <td style=\"padding-left: 1em; padding-right: 1em; text-align: center; vertical-align: top\">2</td>\n",
        "        <td style=\"padding-left: 1em; padding-right: 1em; text-align: center; vertical-align: top\">60</td>\n",
        "        <td style=\"padding-left: 1em; padding-right: 1em; text-align: center; vertical-align: top\">1</td>\n",
        "        <td style=\"padding-left: 1em; padding-right: 1em; text-align: center; vertical-align: top\">0</td>\n",
        "    </tr>\n",
        "    <tr>\n",
        "        <td style=\"padding-left: 1em; padding-right: 1em; text-align: center; vertical-align: top\">[climbingtrees,<br>aliceinwonderland, ...</td>\n",
        "        <td style=\"padding-left: 1em; padding-right: 1em; text-align: center; vertical-align: top\">1447708317</td>\n",
        "        <td style=\"padding-left: 1em; padding-right: 1em; text-align: center; vertical-align: top\">image</td>\n",
        "        <td style=\"padding-left: 1em; padding-right: 1em; text-align: center; vertical-align: top\">0</td>\n",
        "        <td style=\"padding-left: 1em; padding-right: 1em; text-align: center; vertical-align: top\">1451960556</td>\n",
        "        <td style=\"padding-left: 1em; padding-right: 1em; text-align: center; vertical-align: top\">1</td>\n",
        "        <td style=\"padding-left: 1em; padding-right: 1em; text-align: center; vertical-align: top\">262</td>\n",
        "        <td style=\"padding-left: 1em; padding-right: 1em; text-align: center; vertical-align: top\">1</td>\n",
        "        <td style=\"padding-left: 1em; padding-right: 1em; text-align: center; vertical-align: top\">0</td>\n",
        "    </tr>\n",
        "    <tr>\n",
        "        <td style=\"padding-left: 1em; padding-right: 1em; text-align: center; vertical-align: top\">[scenery, mountains,<br>\\uad6c\\ub984, hiking, ...</td>\n",
        "        <td style=\"padding-left: 1em; padding-right: 1em; text-align: center; vertical-align: top\">1447708309</td>\n",
        "        <td style=\"padding-left: 1em; padding-right: 1em; text-align: center; vertical-align: top\">image</td>\n",
        "        <td style=\"padding-left: 1em; padding-right: 1em; text-align: center; vertical-align: top\">0</td>\n",
        "        <td style=\"padding-left: 1em; padding-right: 1em; text-align: center; vertical-align: top\">265700473</td>\n",
        "        <td style=\"padding-left: 1em; padding-right: 1em; text-align: center; vertical-align: top\">14</td>\n",
        "        <td style=\"padding-left: 1em; padding-right: 1em; text-align: center; vertical-align: top\">1821</td>\n",
        "        <td style=\"padding-left: 1em; padding-right: 1em; text-align: center; vertical-align: top\">1</td>\n",
        "        <td style=\"padding-left: 1em; padding-right: 1em; text-align: center; vertical-align: top\">0</td>\n",
        "    </tr>\n",
        "    <tr>\n",
        "        <td style=\"padding-left: 1em; padding-right: 1em; text-align: center; vertical-align: top\">[climbing, climb,<br>nosaftyglasses] ...</td>\n",
        "        <td style=\"padding-left: 1em; padding-right: 1em; text-align: center; vertical-align: top\">1447708262</td>\n",
        "        <td style=\"padding-left: 1em; padding-right: 1em; text-align: center; vertical-align: top\">image</td>\n",
        "        <td style=\"padding-left: 1em; padding-right: 1em; text-align: center; vertical-align: top\">0</td>\n",
        "        <td style=\"padding-left: 1em; padding-right: 1em; text-align: center; vertical-align: top\">194060912</td>\n",
        "        <td style=\"padding-left: 1em; padding-right: 1em; text-align: center; vertical-align: top\">1</td>\n",
        "        <td style=\"padding-left: 1em; padding-right: 1em; text-align: center; vertical-align: top\">323</td>\n",
        "        <td style=\"padding-left: 1em; padding-right: 1em; text-align: center; vertical-align: top\">1</td>\n",
        "        <td style=\"padding-left: 1em; padding-right: 1em; text-align: center; vertical-align: top\">0</td>\n",
        "    </tr>\n",
        "    <tr>\n",
        "        <td style=\"padding-left: 1em; padding-right: 1em; text-align: center; vertical-align: top\">[goexplore,<br>explorekentucky, chacos, ...</td>\n",
        "        <td style=\"padding-left: 1em; padding-right: 1em; text-align: center; vertical-align: top\">1447708230</td>\n",
        "        <td style=\"padding-left: 1em; padding-right: 1em; text-align: center; vertical-align: top\">image</td>\n",
        "        <td style=\"padding-left: 1em; padding-right: 1em; text-align: center; vertical-align: top\">1</td>\n",
        "        <td style=\"padding-left: 1em; padding-right: 1em; text-align: center; vertical-align: top\">283625063</td>\n",
        "        <td style=\"padding-left: 1em; padding-right: 1em; text-align: center; vertical-align: top\">3</td>\n",
        "        <td style=\"padding-left: 1em; padding-right: 1em; text-align: center; vertical-align: top\">343</td>\n",
        "        <td style=\"padding-left: 1em; padding-right: 1em; text-align: center; vertical-align: top\">1</td>\n",
        "        <td style=\"padding-left: 1em; padding-right: 1em; text-align: center; vertical-align: top\">0</td>\n",
        "    </tr>\n",
        "    <tr>\n",
        "        <td style=\"padding-left: 1em; padding-right: 1em; text-align: center; vertical-align: top\">[championtree, oak, pic,<br>tree, tree_captures, ...</td>\n",
        "        <td style=\"padding-left: 1em; padding-right: 1em; text-align: center; vertical-align: top\">1447708197</td>\n",
        "        <td style=\"padding-left: 1em; padding-right: 1em; text-align: center; vertical-align: top\">image</td>\n",
        "        <td style=\"padding-left: 1em; padding-right: 1em; text-align: center; vertical-align: top\">0</td>\n",
        "        <td style=\"padding-left: 1em; padding-right: 1em; text-align: center; vertical-align: top\">1915501145</td>\n",
        "        <td style=\"padding-left: 1em; padding-right: 1em; text-align: center; vertical-align: top\">4</td>\n",
        "        <td style=\"padding-left: 1em; padding-right: 1em; text-align: center; vertical-align: top\">121</td>\n",
        "        <td style=\"padding-left: 1em; padding-right: 1em; text-align: center; vertical-align: top\">1</td>\n",
        "        <td style=\"padding-left: 1em; padding-right: 1em; text-align: center; vertical-align: top\">0</td>\n",
        "    </tr>\n",
        "    <tr>\n",
        "        <td style=\"padding-left: 1em; padding-right: 1em; text-align: center; vertical-align: top\">[doyouboulder,<br>climbing_is_my_passio ...</td>\n",
        "        <td style=\"padding-left: 1em; padding-right: 1em; text-align: center; vertical-align: top\">1447708184</td>\n",
        "        <td style=\"padding-left: 1em; padding-right: 1em; text-align: center; vertical-align: top\">image</td>\n",
        "        <td style=\"padding-left: 1em; padding-right: 1em; text-align: center; vertical-align: top\">0</td>\n",
        "        <td style=\"padding-left: 1em; padding-right: 1em; text-align: center; vertical-align: top\">1482020655</td>\n",
        "        <td style=\"padding-left: 1em; padding-right: 1em; text-align: center; vertical-align: top\">0</td>\n",
        "        <td style=\"padding-left: 1em; padding-right: 1em; text-align: center; vertical-align: top\">40</td>\n",
        "        <td style=\"padding-left: 1em; padding-right: 1em; text-align: center; vertical-align: top\">1</td>\n",
        "        <td style=\"padding-left: 1em; padding-right: 1em; text-align: center; vertical-align: top\">0</td>\n",
        "    </tr>\n",
        "    <tr>\n",
        "        <td style=\"padding-left: 1em; padding-right: 1em; text-align: center; vertical-align: top\">[mountains,<br>turkeyphotographers, ...</td>\n",
        "        <td style=\"padding-left: 1em; padding-right: 1em; text-align: center; vertical-align: top\">1447708182</td>\n",
        "        <td style=\"padding-left: 1em; padding-right: 1em; text-align: center; vertical-align: top\">image</td>\n",
        "        <td style=\"padding-left: 1em; padding-right: 1em; text-align: center; vertical-align: top\">0</td>\n",
        "        <td style=\"padding-left: 1em; padding-right: 1em; text-align: center; vertical-align: top\">1617536690</td>\n",
        "        <td style=\"padding-left: 1em; padding-right: 1em; text-align: center; vertical-align: top\">26</td>\n",
        "        <td style=\"padding-left: 1em; padding-right: 1em; text-align: center; vertical-align: top\">777</td>\n",
        "        <td style=\"padding-left: 1em; padding-right: 1em; text-align: center; vertical-align: top\">1</td>\n",
        "        <td style=\"padding-left: 1em; padding-right: 1em; text-align: center; vertical-align: top\">0</td>\n",
        "    </tr>\n",
        "    <tr>\n",
        "        <td style=\"padding-left: 1em; padding-right: 1em; text-align: center; vertical-align: top\">[perseverance, mcm,<br>bestfriend, colorado, ...</td>\n",
        "        <td style=\"padding-left: 1em; padding-right: 1em; text-align: center; vertical-align: top\">1447708176</td>\n",
        "        <td style=\"padding-left: 1em; padding-right: 1em; text-align: center; vertical-align: top\">image</td>\n",
        "        <td style=\"padding-left: 1em; padding-right: 1em; text-align: center; vertical-align: top\">0</td>\n",
        "        <td style=\"padding-left: 1em; padding-right: 1em; text-align: center; vertical-align: top\">21091305</td>\n",
        "        <td style=\"padding-left: 1em; padding-right: 1em; text-align: center; vertical-align: top\">9</td>\n",
        "        <td style=\"padding-left: 1em; padding-right: 1em; text-align: center; vertical-align: top\">4484</td>\n",
        "        <td style=\"padding-left: 1em; padding-right: 1em; text-align: center; vertical-align: top\">1</td>\n",
        "        <td style=\"padding-left: 1em; padding-right: 1em; text-align: center; vertical-align: top\">0</td>\n",
        "    </tr>\n",
        "</table>\n",
        "<table frame=\"box\" rules=\"cols\">\n",
        "    <tr>\n",
        "        <th style=\"padding-left: 1em; padding-right: 1em; text-align: center\">rockclimb</th>\n",
        "        <th style=\"padding-left: 1em; padding-right: 1em; text-align: center\">climbing_pictures_of_inst<br>agram ...</th>\n",
        "        <th style=\"padding-left: 1em; padding-right: 1em; text-align: center\">bouldering</th>\n",
        "        <th style=\"padding-left: 1em; padding-right: 1em; text-align: center\">escalada</th>\n",
        "        <th style=\"padding-left: 1em; padding-right: 1em; text-align: center\">justgoclimb</th>\n",
        "        <th style=\"padding-left: 1em; padding-right: 1em; text-align: center\">chalkmatters</th>\n",
        "        <th style=\"padding-left: 1em; padding-right: 1em; text-align: center\">outdoors</th>\n",
        "        <th style=\"padding-left: 1em; padding-right: 1em; text-align: center\">frictionlabs</th>\n",
        "    </tr>\n",
        "    <tr>\n",
        "        <td style=\"padding-left: 1em; padding-right: 1em; text-align: center; vertical-align: top\">0</td>\n",
        "        <td style=\"padding-left: 1em; padding-right: 1em; text-align: center; vertical-align: top\">0</td>\n",
        "        <td style=\"padding-left: 1em; padding-right: 1em; text-align: center; vertical-align: top\">0</td>\n",
        "        <td style=\"padding-left: 1em; padding-right: 1em; text-align: center; vertical-align: top\">0</td>\n",
        "        <td style=\"padding-left: 1em; padding-right: 1em; text-align: center; vertical-align: top\">0</td>\n",
        "        <td style=\"padding-left: 1em; padding-right: 1em; text-align: center; vertical-align: top\">0</td>\n",
        "        <td style=\"padding-left: 1em; padding-right: 1em; text-align: center; vertical-align: top\">0</td>\n",
        "        <td style=\"padding-left: 1em; padding-right: 1em; text-align: center; vertical-align: top\">0</td>\n",
        "    </tr>\n",
        "    <tr>\n",
        "        <td style=\"padding-left: 1em; padding-right: 1em; text-align: center; vertical-align: top\">0</td>\n",
        "        <td style=\"padding-left: 1em; padding-right: 1em; text-align: center; vertical-align: top\">0</td>\n",
        "        <td style=\"padding-left: 1em; padding-right: 1em; text-align: center; vertical-align: top\">0</td>\n",
        "        <td style=\"padding-left: 1em; padding-right: 1em; text-align: center; vertical-align: top\">0</td>\n",
        "        <td style=\"padding-left: 1em; padding-right: 1em; text-align: center; vertical-align: top\">0</td>\n",
        "        <td style=\"padding-left: 1em; padding-right: 1em; text-align: center; vertical-align: top\">0</td>\n",
        "        <td style=\"padding-left: 1em; padding-right: 1em; text-align: center; vertical-align: top\">0</td>\n",
        "        <td style=\"padding-left: 1em; padding-right: 1em; text-align: center; vertical-align: top\">0</td>\n",
        "    </tr>\n",
        "    <tr>\n",
        "        <td style=\"padding-left: 1em; padding-right: 1em; text-align: center; vertical-align: top\">0</td>\n",
        "        <td style=\"padding-left: 1em; padding-right: 1em; text-align: center; vertical-align: top\">0</td>\n",
        "        <td style=\"padding-left: 1em; padding-right: 1em; text-align: center; vertical-align: top\">0</td>\n",
        "        <td style=\"padding-left: 1em; padding-right: 1em; text-align: center; vertical-align: top\">0</td>\n",
        "        <td style=\"padding-left: 1em; padding-right: 1em; text-align: center; vertical-align: top\">0</td>\n",
        "        <td style=\"padding-left: 1em; padding-right: 1em; text-align: center; vertical-align: top\">0</td>\n",
        "        <td style=\"padding-left: 1em; padding-right: 1em; text-align: center; vertical-align: top\">0</td>\n",
        "        <td style=\"padding-left: 1em; padding-right: 1em; text-align: center; vertical-align: top\">0</td>\n",
        "    </tr>\n",
        "    <tr>\n",
        "        <td style=\"padding-left: 1em; padding-right: 1em; text-align: center; vertical-align: top\">0</td>\n",
        "        <td style=\"padding-left: 1em; padding-right: 1em; text-align: center; vertical-align: top\">0</td>\n",
        "        <td style=\"padding-left: 1em; padding-right: 1em; text-align: center; vertical-align: top\">0</td>\n",
        "        <td style=\"padding-left: 1em; padding-right: 1em; text-align: center; vertical-align: top\">0</td>\n",
        "        <td style=\"padding-left: 1em; padding-right: 1em; text-align: center; vertical-align: top\">0</td>\n",
        "        <td style=\"padding-left: 1em; padding-right: 1em; text-align: center; vertical-align: top\">0</td>\n",
        "        <td style=\"padding-left: 1em; padding-right: 1em; text-align: center; vertical-align: top\">0</td>\n",
        "        <td style=\"padding-left: 1em; padding-right: 1em; text-align: center; vertical-align: top\">0</td>\n",
        "    </tr>\n",
        "    <tr>\n",
        "        <td style=\"padding-left: 1em; padding-right: 1em; text-align: center; vertical-align: top\">0</td>\n",
        "        <td style=\"padding-left: 1em; padding-right: 1em; text-align: center; vertical-align: top\">0</td>\n",
        "        <td style=\"padding-left: 1em; padding-right: 1em; text-align: center; vertical-align: top\">0</td>\n",
        "        <td style=\"padding-left: 1em; padding-right: 1em; text-align: center; vertical-align: top\">0</td>\n",
        "        <td style=\"padding-left: 1em; padding-right: 1em; text-align: center; vertical-align: top\">0</td>\n",
        "        <td style=\"padding-left: 1em; padding-right: 1em; text-align: center; vertical-align: top\">0</td>\n",
        "        <td style=\"padding-left: 1em; padding-right: 1em; text-align: center; vertical-align: top\">0</td>\n",
        "        <td style=\"padding-left: 1em; padding-right: 1em; text-align: center; vertical-align: top\">0</td>\n",
        "    </tr>\n",
        "    <tr>\n",
        "        <td style=\"padding-left: 1em; padding-right: 1em; text-align: center; vertical-align: top\">0</td>\n",
        "        <td style=\"padding-left: 1em; padding-right: 1em; text-align: center; vertical-align: top\">0</td>\n",
        "        <td style=\"padding-left: 1em; padding-right: 1em; text-align: center; vertical-align: top\">0</td>\n",
        "        <td style=\"padding-left: 1em; padding-right: 1em; text-align: center; vertical-align: top\">0</td>\n",
        "        <td style=\"padding-left: 1em; padding-right: 1em; text-align: center; vertical-align: top\">0</td>\n",
        "        <td style=\"padding-left: 1em; padding-right: 1em; text-align: center; vertical-align: top\">0</td>\n",
        "        <td style=\"padding-left: 1em; padding-right: 1em; text-align: center; vertical-align: top\">0</td>\n",
        "        <td style=\"padding-left: 1em; padding-right: 1em; text-align: center; vertical-align: top\">0</td>\n",
        "    </tr>\n",
        "    <tr>\n",
        "        <td style=\"padding-left: 1em; padding-right: 1em; text-align: center; vertical-align: top\">0</td>\n",
        "        <td style=\"padding-left: 1em; padding-right: 1em; text-align: center; vertical-align: top\">0</td>\n",
        "        <td style=\"padding-left: 1em; padding-right: 1em; text-align: center; vertical-align: top\">0</td>\n",
        "        <td style=\"padding-left: 1em; padding-right: 1em; text-align: center; vertical-align: top\">0</td>\n",
        "        <td style=\"padding-left: 1em; padding-right: 1em; text-align: center; vertical-align: top\">0</td>\n",
        "        <td style=\"padding-left: 1em; padding-right: 1em; text-align: center; vertical-align: top\">0</td>\n",
        "        <td style=\"padding-left: 1em; padding-right: 1em; text-align: center; vertical-align: top\">0</td>\n",
        "        <td style=\"padding-left: 1em; padding-right: 1em; text-align: center; vertical-align: top\">0</td>\n",
        "    </tr>\n",
        "    <tr>\n",
        "        <td style=\"padding-left: 1em; padding-right: 1em; text-align: center; vertical-align: top\">0</td>\n",
        "        <td style=\"padding-left: 1em; padding-right: 1em; text-align: center; vertical-align: top\">1</td>\n",
        "        <td style=\"padding-left: 1em; padding-right: 1em; text-align: center; vertical-align: top\">0</td>\n",
        "        <td style=\"padding-left: 1em; padding-right: 1em; text-align: center; vertical-align: top\">0</td>\n",
        "        <td style=\"padding-left: 1em; padding-right: 1em; text-align: center; vertical-align: top\">0</td>\n",
        "        <td style=\"padding-left: 1em; padding-right: 1em; text-align: center; vertical-align: top\">0</td>\n",
        "        <td style=\"padding-left: 1em; padding-right: 1em; text-align: center; vertical-align: top\">0</td>\n",
        "        <td style=\"padding-left: 1em; padding-right: 1em; text-align: center; vertical-align: top\">0</td>\n",
        "    </tr>\n",
        "    <tr>\n",
        "        <td style=\"padding-left: 1em; padding-right: 1em; text-align: center; vertical-align: top\">0</td>\n",
        "        <td style=\"padding-left: 1em; padding-right: 1em; text-align: center; vertical-align: top\">0</td>\n",
        "        <td style=\"padding-left: 1em; padding-right: 1em; text-align: center; vertical-align: top\">0</td>\n",
        "        <td style=\"padding-left: 1em; padding-right: 1em; text-align: center; vertical-align: top\">0</td>\n",
        "        <td style=\"padding-left: 1em; padding-right: 1em; text-align: center; vertical-align: top\">0</td>\n",
        "        <td style=\"padding-left: 1em; padding-right: 1em; text-align: center; vertical-align: top\">0</td>\n",
        "        <td style=\"padding-left: 1em; padding-right: 1em; text-align: center; vertical-align: top\">0</td>\n",
        "        <td style=\"padding-left: 1em; padding-right: 1em; text-align: center; vertical-align: top\">0</td>\n",
        "    </tr>\n",
        "    <tr>\n",
        "        <td style=\"padding-left: 1em; padding-right: 1em; text-align: center; vertical-align: top\">0</td>\n",
        "        <td style=\"padding-left: 1em; padding-right: 1em; text-align: center; vertical-align: top\">0</td>\n",
        "        <td style=\"padding-left: 1em; padding-right: 1em; text-align: center; vertical-align: top\">0</td>\n",
        "        <td style=\"padding-left: 1em; padding-right: 1em; text-align: center; vertical-align: top\">0</td>\n",
        "        <td style=\"padding-left: 1em; padding-right: 1em; text-align: center; vertical-align: top\">0</td>\n",
        "        <td style=\"padding-left: 1em; padding-right: 1em; text-align: center; vertical-align: top\">0</td>\n",
        "        <td style=\"padding-left: 1em; padding-right: 1em; text-align: center; vertical-align: top\">0</td>\n",
        "        <td style=\"padding-left: 1em; padding-right: 1em; text-align: center; vertical-align: top\">0</td>\n",
        "    </tr>\n",
        "</table>\n",
        "<table frame=\"box\" rules=\"cols\">\n",
        "    <tr>\n",
        "        <th style=\"padding-left: 1em; padding-right: 1em; text-align: center\">climbyourimpossible</th>\n",
        "        <th style=\"padding-left: 1em; padding-right: 1em; text-align: center\">sendage</th>\n",
        "        <th style=\"padding-left: 1em; padding-right: 1em; text-align: center\">likes_range</th>\n",
        "        <th style=\"padding-left: 1em; padding-right: 1em; text-align: center\">hour_of_day</th>\n",
        "        <th style=\"padding-left: 1em; padding-right: 1em; text-align: center\">followers_range</th>\n",
        "    </tr>\n",
        "    <tr>\n",
        "        <td style=\"padding-left: 1em; padding-right: 1em; text-align: center; vertical-align: top\">0</td>\n",
        "        <td style=\"padding-left: 1em; padding-right: 1em; text-align: center; vertical-align: top\">0</td>\n",
        "        <td style=\"padding-left: 1em; padding-right: 1em; text-align: center; vertical-align: top\">0-5</td>\n",
        "        <td style=\"padding-left: 1em; padding-right: 1em; text-align: center; vertical-align: top\">13</td>\n",
        "        <td style=\"padding-left: 1em; padding-right: 1em; text-align: center; vertical-align: top\">51-150</td>\n",
        "    </tr>\n",
        "    <tr>\n",
        "        <td style=\"padding-left: 1em; padding-right: 1em; text-align: center; vertical-align: top\">0</td>\n",
        "        <td style=\"padding-left: 1em; padding-right: 1em; text-align: center; vertical-align: top\">0</td>\n",
        "        <td style=\"padding-left: 1em; padding-right: 1em; text-align: center; vertical-align: top\">0-5</td>\n",
        "        <td style=\"padding-left: 1em; padding-right: 1em; text-align: center; vertical-align: top\">13</td>\n",
        "        <td style=\"padding-left: 1em; padding-right: 1em; text-align: center; vertical-align: top\">51-150</td>\n",
        "    </tr>\n",
        "    <tr>\n",
        "        <td style=\"padding-left: 1em; padding-right: 1em; text-align: center; vertical-align: top\">0</td>\n",
        "        <td style=\"padding-left: 1em; padding-right: 1em; text-align: center; vertical-align: top\">0</td>\n",
        "        <td style=\"padding-left: 1em; padding-right: 1em; text-align: center; vertical-align: top\">0-5</td>\n",
        "        <td style=\"padding-left: 1em; padding-right: 1em; text-align: center; vertical-align: top\">13</td>\n",
        "        <td style=\"padding-left: 1em; padding-right: 1em; text-align: center; vertical-align: top\">151-300</td>\n",
        "    </tr>\n",
        "    <tr>\n",
        "        <td style=\"padding-left: 1em; padding-right: 1em; text-align: center; vertical-align: top\">0</td>\n",
        "        <td style=\"padding-left: 1em; padding-right: 1em; text-align: center; vertical-align: top\">0</td>\n",
        "        <td style=\"padding-left: 1em; padding-right: 1em; text-align: center; vertical-align: top\">6-20</td>\n",
        "        <td style=\"padding-left: 1em; padding-right: 1em; text-align: center; vertical-align: top\">13</td>\n",
        "        <td style=\"padding-left: 1em; padding-right: 1em; text-align: center; vertical-align: top\">&gt;1000</td>\n",
        "    </tr>\n",
        "    <tr>\n",
        "        <td style=\"padding-left: 1em; padding-right: 1em; text-align: center; vertical-align: top\">0</td>\n",
        "        <td style=\"padding-left: 1em; padding-right: 1em; text-align: center; vertical-align: top\">0</td>\n",
        "        <td style=\"padding-left: 1em; padding-right: 1em; text-align: center; vertical-align: top\">0-5</td>\n",
        "        <td style=\"padding-left: 1em; padding-right: 1em; text-align: center; vertical-align: top\">13</td>\n",
        "        <td style=\"padding-left: 1em; padding-right: 1em; text-align: center; vertical-align: top\">301-1000</td>\n",
        "    </tr>\n",
        "    <tr>\n",
        "        <td style=\"padding-left: 1em; padding-right: 1em; text-align: center; vertical-align: top\">0</td>\n",
        "        <td style=\"padding-left: 1em; padding-right: 1em; text-align: center; vertical-align: top\">0</td>\n",
        "        <td style=\"padding-left: 1em; padding-right: 1em; text-align: center; vertical-align: top\">0-5</td>\n",
        "        <td style=\"padding-left: 1em; padding-right: 1em; text-align: center; vertical-align: top\">13</td>\n",
        "        <td style=\"padding-left: 1em; padding-right: 1em; text-align: center; vertical-align: top\">301-1000</td>\n",
        "    </tr>\n",
        "    <tr>\n",
        "        <td style=\"padding-left: 1em; padding-right: 1em; text-align: center; vertical-align: top\">0</td>\n",
        "        <td style=\"padding-left: 1em; padding-right: 1em; text-align: center; vertical-align: top\">0</td>\n",
        "        <td style=\"padding-left: 1em; padding-right: 1em; text-align: center; vertical-align: top\">0-5</td>\n",
        "        <td style=\"padding-left: 1em; padding-right: 1em; text-align: center; vertical-align: top\">13</td>\n",
        "        <td style=\"padding-left: 1em; padding-right: 1em; text-align: center; vertical-align: top\">51-150</td>\n",
        "    </tr>\n",
        "    <tr>\n",
        "        <td style=\"padding-left: 1em; padding-right: 1em; text-align: center; vertical-align: top\">0</td>\n",
        "        <td style=\"padding-left: 1em; padding-right: 1em; text-align: center; vertical-align: top\">0</td>\n",
        "        <td style=\"padding-left: 1em; padding-right: 1em; text-align: center; vertical-align: top\">0-5</td>\n",
        "        <td style=\"padding-left: 1em; padding-right: 1em; text-align: center; vertical-align: top\">13</td>\n",
        "        <td style=\"padding-left: 1em; padding-right: 1em; text-align: center; vertical-align: top\">0-50</td>\n",
        "    </tr>\n",
        "    <tr>\n",
        "        <td style=\"padding-left: 1em; padding-right: 1em; text-align: center; vertical-align: top\">0</td>\n",
        "        <td style=\"padding-left: 1em; padding-right: 1em; text-align: center; vertical-align: top\">0</td>\n",
        "        <td style=\"padding-left: 1em; padding-right: 1em; text-align: center; vertical-align: top\">21-50</td>\n",
        "        <td style=\"padding-left: 1em; padding-right: 1em; text-align: center; vertical-align: top\">13</td>\n",
        "        <td style=\"padding-left: 1em; padding-right: 1em; text-align: center; vertical-align: top\">301-1000</td>\n",
        "    </tr>\n",
        "    <tr>\n",
        "        <td style=\"padding-left: 1em; padding-right: 1em; text-align: center; vertical-align: top\">0</td>\n",
        "        <td style=\"padding-left: 1em; padding-right: 1em; text-align: center; vertical-align: top\">0</td>\n",
        "        <td style=\"padding-left: 1em; padding-right: 1em; text-align: center; vertical-align: top\">6-20</td>\n",
        "        <td style=\"padding-left: 1em; padding-right: 1em; text-align: center; vertical-align: top\">13</td>\n",
        "        <td style=\"padding-left: 1em; padding-right: 1em; text-align: center; vertical-align: top\">&gt;1000</td>\n",
        "    </tr>\n",
        "</table>\n",
        "[10 rows x 22 columns]<br/>\n",
        "</div>"
       ],
       "metadata": {},
       "output_type": "pyout",
       "prompt_number": 37,
       "text": [
        "Columns:\n",
        "\thashtags\tlist\n",
        "\ttimestamp\tint\n",
        "\ttype\tstr\n",
        "\tusers_in_photo\tint\n",
        "\tuser_id\tint\n",
        "\tlikes\tint\n",
        "\tfollowers\tint\n",
        "\tclimbing\tint\n",
        "\trockclimbing\tint\n",
        "\trockclimb\tint\n",
        "\tclimbing_pictures_of_instagram\tint\n",
        "\tbouldering\tint\n",
        "\tescalada\tint\n",
        "\tjustgoclimb\tint\n",
        "\tchalkmatters\tint\n",
        "\toutdoors\tint\n",
        "\tfrictionlabs\tint\n",
        "\tclimbyourimpossible\tint\n",
        "\tsendage\tint\n",
        "\tlikes_range\tstr\n",
        "\thour_of_day\tint\n",
        "\tfollowers_range\tstr\n",
        "\n",
        "Rows: 10\n",
        "\n",
        "Data:\n",
        "+-------------------------------+------------+-------+----------------+\n",
        "|            hashtags           | timestamp  |  type | users_in_photo |\n",
        "+-------------------------------+------------+-------+----------------+\n",
        "|   [climbing, running, trees]  | 1447708386 | image |       0        |\n",
        "|   [jarecki, climbing, wspin]  | 1447708318 | image |       0        |\n",
        "| [climbingtrees, aliceinwon... | 1447708317 | image |       0        |\n",
        "| [scenery, mountains, \\uad6... | 1447708309 | image |       0        |\n",
        "| [climbing, climb, nosaftyg... | 1447708262 | image |       0        |\n",
        "| [goexplore, explorekentuck... | 1447708230 | image |       1        |\n",
        "| [championtree, oak, pic, t... | 1447708197 | image |       0        |\n",
        "| [doyouboulder, climbing_is... | 1447708184 | image |       0        |\n",
        "| [mountains, turkeyphotogra... | 1447708182 | image |       0        |\n",
        "| [perseverance, mcm, bestfr... | 1447708176 | image |       0        |\n",
        "+-------------------------------+------------+-------+----------------+\n",
        "+------------+-------+-----------+----------+--------------+-----------+--------------------------------+\n",
        "|  user_id   | likes | followers | climbing | rockclimbing | rockclimb | climbing_pictures_of_instagram |\n",
        "+------------+-------+-----------+----------+--------------+-----------+--------------------------------+\n",
        "| 355460706  |   0   |     71    |    1     |      0       |     0     |               0                |\n",
        "| 1970141976 |   2   |     60    |    1     |      0       |     0     |               0                |\n",
        "| 1451960556 |   1   |    262    |    1     |      0       |     0     |               0                |\n",
        "| 265700473  |   14  |    1821   |    1     |      0       |     0     |               0                |\n",
        "| 194060912  |   1   |    323    |    1     |      0       |     0     |               0                |\n",
        "| 283625063  |   3   |    343    |    1     |      0       |     0     |               0                |\n",
        "| 1915501145 |   4   |    121    |    1     |      0       |     0     |               0                |\n",
        "| 1482020655 |   0   |     40    |    1     |      0       |     0     |               1                |\n",
        "| 1617536690 |   26  |    777    |    1     |      0       |     0     |               0                |\n",
        "|  21091305  |   9   |    4484   |    1     |      0       |     0     |               0                |\n",
        "+------------+-------+-----------+----------+--------------+-----------+--------------------------------+\n",
        "+------------+----------+-------------+--------------+----------+--------------+\n",
        "| bouldering | escalada | justgoclimb | chalkmatters | outdoors | frictionlabs |\n",
        "+------------+----------+-------------+--------------+----------+--------------+\n",
        "|     0      |    0     |      0      |      0       |    0     |      0       |\n",
        "|     0      |    0     |      0      |      0       |    0     |      0       |\n",
        "|     0      |    0     |      0      |      0       |    0     |      0       |\n",
        "|     0      |    0     |      0      |      0       |    0     |      0       |\n",
        "|     0      |    0     |      0      |      0       |    0     |      0       |\n",
        "|     0      |    0     |      0      |      0       |    0     |      0       |\n",
        "|     0      |    0     |      0      |      0       |    0     |      0       |\n",
        "|     0      |    0     |      0      |      0       |    0     |      0       |\n",
        "|     0      |    0     |      0      |      0       |    0     |      0       |\n",
        "|     0      |    0     |      0      |      0       |    0     |      0       |\n",
        "+------------+----------+-------------+--------------+----------+--------------+\n",
        "+---------------------+---------+-------------+-----+\n",
        "| climbyourimpossible | sendage | likes_range | ... |\n",
        "+---------------------+---------+-------------+-----+\n",
        "|          0          |    0    |     0-5     | ... |\n",
        "|          0          |    0    |     0-5     | ... |\n",
        "|          0          |    0    |     0-5     | ... |\n",
        "|          0          |    0    |     6-20    | ... |\n",
        "|          0          |    0    |     0-5     | ... |\n",
        "|          0          |    0    |     0-5     | ... |\n",
        "|          0          |    0    |     0-5     | ... |\n",
        "|          0          |    0    |     0-5     | ... |\n",
        "|          0          |    0    |    21-50    | ... |\n",
        "|          0          |    0    |     6-20    | ... |\n",
        "+---------------------+---------+-------------+-----+\n",
        "[10 rows x 22 columns]"
       ]
      }
     ],
     "prompt_number": 37
    },
    {
     "cell_type": "code",
     "collapsed": false,
     "input": [
      "train_data, test_data = insta_data.random_split(0.8, seed=0)"
     ],
     "language": "python",
     "metadata": {},
     "outputs": [],
     "prompt_number": 40
    },
    {
     "cell_type": "markdown",
     "metadata": {},
     "source": [
      "\"WARNING: Detected extremely low variance for feature(s) 'sendage' because all entries are nearly the same.\n",
      "Proceeding with model training using all features. If the model does not provide results of adequate quality, exclude the above mentioned feature(s) from the input dataset.\""
     ]
    },
    {
     "cell_type": "code",
     "collapsed": false,
     "input": [
      "my_hashtags.remove('sendage')"
     ],
     "language": "python",
     "metadata": {},
     "outputs": [],
     "prompt_number": 56
    },
    {
     "cell_type": "code",
     "collapsed": false,
     "input": [
      "my_hashtags_model = graphlab.logistic_classifier.create(train_data, \n",
      "                                                  target='likes_range', \n",
      "                                                  features=['hour_of_day', 'users_in_photo', 'followers_range', 'type'] + my_hashtags,\n",
      "                                                  validation_set = test_data)"
     ],
     "language": "python",
     "metadata": {},
     "outputs": [
      {
       "html": [
        "<pre>PROGRESS: Logistic regression:</pre>"
       ],
       "metadata": {},
       "output_type": "display_data",
       "text": [
        "PROGRESS: Logistic regression:"
       ]
      },
      {
       "html": [
        "<pre>PROGRESS: --------------------------------------------------------</pre>"
       ],
       "metadata": {},
       "output_type": "display_data",
       "text": [
        "PROGRESS: --------------------------------------------------------"
       ]
      },
      {
       "html": [
        "<pre>PROGRESS: Number of examples          : 18350</pre>"
       ],
       "metadata": {},
       "output_type": "display_data",
       "text": [
        "PROGRESS: Number of examples          : 18350"
       ]
      },
      {
       "html": [
        "<pre>PROGRESS: Number of classes           : 5</pre>"
       ],
       "metadata": {},
       "output_type": "display_data",
       "text": [
        "PROGRESS: Number of classes           : 5"
       ]
      },
      {
       "html": [
        "<pre>PROGRESS: Number of feature columns   : 15</pre>"
       ],
       "metadata": {},
       "output_type": "display_data",
       "text": [
        "PROGRESS: Number of feature columns   : 15"
       ]
      },
      {
       "html": [
        "<pre>PROGRESS: Number of unpacked features : 15</pre>"
       ],
       "metadata": {},
       "output_type": "display_data",
       "text": [
        "PROGRESS: Number of unpacked features : 15"
       ]
      },
      {
       "html": [
        "<pre>PROGRESS: Number of coefficients    : 76</pre>"
       ],
       "metadata": {},
       "output_type": "display_data",
       "text": [
        "PROGRESS: Number of coefficients    : 76"
       ]
      },
      {
       "html": [
        "<pre>PROGRESS: Starting Newton Method</pre>"
       ],
       "metadata": {},
       "output_type": "display_data",
       "text": [
        "PROGRESS: Starting Newton Method"
       ]
      },
      {
       "html": [
        "<pre>PROGRESS: --------------------------------------------------------</pre>"
       ],
       "metadata": {},
       "output_type": "display_data",
       "text": [
        "PROGRESS: --------------------------------------------------------"
       ]
      },
      {
       "html": [
        "<pre>PROGRESS: +-----------+----------+--------------+-------------------+---------------------+</pre>"
       ],
       "metadata": {},
       "output_type": "display_data",
       "text": [
        "PROGRESS: +-----------+----------+--------------+-------------------+---------------------+"
       ]
      },
      {
       "html": [
        "<pre>PROGRESS: | Iteration | Passes   | Elapsed Time | Training-accuracy | Validation-accuracy |</pre>"
       ],
       "metadata": {},
       "output_type": "display_data",
       "text": [
        "PROGRESS: | Iteration | Passes   | Elapsed Time | Training-accuracy | Validation-accuracy |"
       ]
      },
      {
       "html": [
        "<pre>PROGRESS: +-----------+----------+--------------+-------------------+---------------------+</pre>"
       ],
       "metadata": {},
       "output_type": "display_data",
       "text": [
        "PROGRESS: +-----------+----------+--------------+-------------------+---------------------+"
       ]
      },
      {
       "html": [
        "<pre>PROGRESS: | 1         | 2        | 0.367747     | 0.462670          | 0.466487            |</pre>"
       ],
       "metadata": {},
       "output_type": "display_data",
       "text": [
        "PROGRESS: | 1         | 2        | 0.367747     | 0.462670          | 0.466487            |"
       ]
      },
      {
       "html": [
        "<pre>PROGRESS: | 2         | 3        | 0.557501     | 0.476894          | 0.477247            |</pre>"
       ],
       "metadata": {},
       "output_type": "display_data",
       "text": [
        "PROGRESS: | 2         | 3        | 0.557501     | 0.476894          | 0.477247            |"
       ]
      },
      {
       "html": [
        "<pre>PROGRESS: | 3         | 4        | 0.736330     | 0.478365          | 0.476575            |</pre>"
       ],
       "metadata": {},
       "output_type": "display_data",
       "text": [
        "PROGRESS: | 3         | 4        | 0.736330     | 0.478365          | 0.476575            |"
       ]
      },
      {
       "html": [
        "<pre>PROGRESS: | 4         | 5        | 0.924760     | 0.477711          | 0.475902            |</pre>"
       ],
       "metadata": {},
       "output_type": "display_data",
       "text": [
        "PROGRESS: | 4         | 5        | 0.924760     | 0.477711          | 0.475902            |"
       ]
      },
      {
       "html": [
        "<pre>PROGRESS: | 5         | 6        | 1.111723     | 0.477984          | 0.476126            |</pre>"
       ],
       "metadata": {},
       "output_type": "display_data",
       "text": [
        "PROGRESS: | 5         | 6        | 1.111723     | 0.477984          | 0.476126            |"
       ]
      },
      {
       "html": [
        "<pre>PROGRESS: | 6         | 7        | 1.311506     | 0.477984          | 0.476126            |</pre>"
       ],
       "metadata": {},
       "output_type": "display_data",
       "text": [
        "PROGRESS: | 6         | 7        | 1.311506     | 0.477984          | 0.476126            |"
       ]
      },
      {
       "html": [
        "<pre>PROGRESS: | 10        | 11       | 2.403089     | 0.477984          | 0.476126            |</pre>"
       ],
       "metadata": {},
       "output_type": "display_data",
       "text": [
        "PROGRESS: | 10        | 11       | 2.403089     | 0.477984          | 0.476126            |"
       ]
      },
      {
       "html": [
        "<pre>PROGRESS: +-----------+----------+--------------+-------------------+---------------------+</pre>"
       ],
       "metadata": {},
       "output_type": "display_data",
       "text": [
        "PROGRESS: +-----------+----------+--------------+-------------------+---------------------+"
       ]
      }
     ],
     "prompt_number": 60
    },
    {
     "cell_type": "code",
     "collapsed": false,
     "input": [
      "my_hashtags_model.evaluate(test_data, metric='accuracy')"
     ],
     "language": "python",
     "metadata": {},
     "outputs": [
      {
       "metadata": {},
       "output_type": "pyout",
       "prompt_number": 64,
       "text": [
        "{'accuracy': 0.4761264290517821}"
       ]
      }
     ],
     "prompt_number": 64
    },
    {
     "cell_type": "markdown",
     "metadata": {},
     "source": [
      "Ehh ... not great. Let's try without the hashtags:"
     ]
    },
    {
     "cell_type": "code",
     "collapsed": false,
     "input": [
      "model_wo_hts = graphlab.logistic_classifier.create(train_data, \n",
      "                                                  target='likes_range', \n",
      "                                                  features=['hour_of_day', 'users_in_photo', 'followers_range', 'type'],\n",
      "                                                  validation_set = test_data)"
     ],
     "language": "python",
     "metadata": {},
     "outputs": [
      {
       "html": [
        "<pre>PROGRESS: Logistic regression:</pre>"
       ],
       "metadata": {},
       "output_type": "display_data",
       "text": [
        "PROGRESS: Logistic regression:"
       ]
      },
      {
       "html": [
        "<pre>PROGRESS: --------------------------------------------------------</pre>"
       ],
       "metadata": {},
       "output_type": "display_data",
       "text": [
        "PROGRESS: --------------------------------------------------------"
       ]
      },
      {
       "html": [
        "<pre>PROGRESS: Number of examples          : 18350</pre>"
       ],
       "metadata": {},
       "output_type": "display_data",
       "text": [
        "PROGRESS: Number of examples          : 18350"
       ]
      },
      {
       "html": [
        "<pre>PROGRESS: Number of classes           : 5</pre>"
       ],
       "metadata": {},
       "output_type": "display_data",
       "text": [
        "PROGRESS: Number of classes           : 5"
       ]
      },
      {
       "html": [
        "<pre>PROGRESS: Number of feature columns   : 4</pre>"
       ],
       "metadata": {},
       "output_type": "display_data",
       "text": [
        "PROGRESS: Number of feature columns   : 4"
       ]
      },
      {
       "html": [
        "<pre>PROGRESS: Number of unpacked features : 4</pre>"
       ],
       "metadata": {},
       "output_type": "display_data",
       "text": [
        "PROGRESS: Number of unpacked features : 4"
       ]
      },
      {
       "html": [
        "<pre>PROGRESS: Number of coefficients    : 32</pre>"
       ],
       "metadata": {},
       "output_type": "display_data",
       "text": [
        "PROGRESS: Number of coefficients    : 32"
       ]
      },
      {
       "html": [
        "<pre>PROGRESS: Starting Newton Method</pre>"
       ],
       "metadata": {},
       "output_type": "display_data",
       "text": [
        "PROGRESS: Starting Newton Method"
       ]
      },
      {
       "html": [
        "<pre>PROGRESS: --------------------------------------------------------</pre>"
       ],
       "metadata": {},
       "output_type": "display_data",
       "text": [
        "PROGRESS: --------------------------------------------------------"
       ]
      },
      {
       "html": [
        "<pre>PROGRESS: +-----------+----------+--------------+-------------------+---------------------+</pre>"
       ],
       "metadata": {},
       "output_type": "display_data",
       "text": [
        "PROGRESS: +-----------+----------+--------------+-------------------+---------------------+"
       ]
      },
      {
       "html": [
        "<pre>PROGRESS: | Iteration | Passes   | Elapsed Time | Training-accuracy | Validation-accuracy |</pre>"
       ],
       "metadata": {},
       "output_type": "display_data",
       "text": [
        "PROGRESS: | Iteration | Passes   | Elapsed Time | Training-accuracy | Validation-accuracy |"
       ]
      },
      {
       "html": [
        "<pre>PROGRESS: +-----------+----------+--------------+-------------------+---------------------+</pre>"
       ],
       "metadata": {},
       "output_type": "display_data",
       "text": [
        "PROGRESS: +-----------+----------+--------------+-------------------+---------------------+"
       ]
      },
      {
       "html": [
        "<pre>PROGRESS: | 1         | 2        | 0.142394     | 0.409373          | 0.409325            |</pre>"
       ],
       "metadata": {},
       "output_type": "display_data",
       "text": [
        "PROGRESS: | 1         | 2        | 0.142394     | 0.409373          | 0.409325            |"
       ]
      },
      {
       "html": [
        "<pre>PROGRESS: | 2         | 3        | 0.241826     | 0.438910          | 0.436449            |</pre>"
       ],
       "metadata": {},
       "output_type": "display_data",
       "text": [
        "PROGRESS: | 2         | 3        | 0.241826     | 0.438910          | 0.436449            |"
       ]
      },
      {
       "html": [
        "<pre>PROGRESS: | 3         | 4        | 0.327529     | 0.436839          | 0.431293            |</pre>"
       ],
       "metadata": {},
       "output_type": "display_data",
       "text": [
        "PROGRESS: | 3         | 4        | 0.327529     | 0.436839          | 0.431293            |"
       ]
      },
      {
       "html": [
        "<pre>PROGRESS: | 4         | 5        | 0.416566     | 0.436948          | 0.431293            |</pre>"
       ],
       "metadata": {},
       "output_type": "display_data",
       "text": [
        "PROGRESS: | 4         | 5        | 0.416566     | 0.436948          | 0.431293            |"
       ]
      },
      {
       "html": [
        "<pre>PROGRESS: | 5         | 6        | 0.500717     | 0.436948          | 0.431293            |</pre>"
       ],
       "metadata": {},
       "output_type": "display_data",
       "text": [
        "PROGRESS: | 5         | 6        | 0.500717     | 0.436948          | 0.431293            |"
       ]
      },
      {
       "html": [
        "<pre>PROGRESS: | 6         | 7        | 0.586645     | 0.436948          | 0.431293            |</pre>"
       ],
       "metadata": {},
       "output_type": "display_data",
       "text": [
        "PROGRESS: | 6         | 7        | 0.586645     | 0.436948          | 0.431293            |"
       ]
      },
      {
       "html": [
        "<pre>PROGRESS: +-----------+----------+--------------+-------------------+---------------------+</pre>"
       ],
       "metadata": {},
       "output_type": "display_data",
       "text": [
        "PROGRESS: +-----------+----------+--------------+-------------------+---------------------+"
       ]
      }
     ],
     "prompt_number": 45
    },
    {
     "cell_type": "code",
     "collapsed": false,
     "input": [
      "model_wo_hts.evaluate(test_data, metric='accuracy')"
     ],
     "language": "python",
     "metadata": {},
     "outputs": [
      {
       "metadata": {},
       "output_type": "pyout",
       "prompt_number": 46,
       "text": [
        "{'accuracy': 0.4312934319659269}"
       ]
      }
     ],
     "prompt_number": 46
    },
    {
     "cell_type": "markdown",
     "metadata": {},
     "source": [
      "Okay, so hashtags are a bit helpful.  Maybe some features are not."
     ]
    },
    {
     "cell_type": "code",
     "collapsed": false,
     "input": [
      "simple_hashtag_model = graphlab.logistic_classifier.create(train_data, \n",
      "                                                  target='likes_range', \n",
      "                                                  features=['users_in_photo', 'followers_range'] + my_hashtags,\n",
      "                                                  validation_set = test_data)"
     ],
     "language": "python",
     "metadata": {},
     "outputs": [
      {
       "html": [
        "<pre>PROGRESS: Logistic regression:</pre>"
       ],
       "metadata": {},
       "output_type": "display_data",
       "text": [
        "PROGRESS: Logistic regression:"
       ]
      },
      {
       "html": [
        "<pre>PROGRESS: --------------------------------------------------------</pre>"
       ],
       "metadata": {},
       "output_type": "display_data",
       "text": [
        "PROGRESS: --------------------------------------------------------"
       ]
      },
      {
       "html": [
        "<pre>PROGRESS: Number of examples          : 18350</pre>"
       ],
       "metadata": {},
       "output_type": "display_data",
       "text": [
        "PROGRESS: Number of examples          : 18350"
       ]
      },
      {
       "html": [
        "<pre>PROGRESS: Number of classes           : 5</pre>"
       ],
       "metadata": {},
       "output_type": "display_data",
       "text": [
        "PROGRESS: Number of classes           : 5"
       ]
      },
      {
       "html": [
        "<pre>PROGRESS: Number of feature columns   : 13</pre>"
       ],
       "metadata": {},
       "output_type": "display_data",
       "text": [
        "PROGRESS: Number of feature columns   : 13"
       ]
      },
      {
       "html": [
        "<pre>PROGRESS: Number of unpacked features : 13</pre>"
       ],
       "metadata": {},
       "output_type": "display_data",
       "text": [
        "PROGRESS: Number of unpacked features : 13"
       ]
      },
      {
       "html": [
        "<pre>PROGRESS: Number of coefficients    : 68</pre>"
       ],
       "metadata": {},
       "output_type": "display_data",
       "text": [
        "PROGRESS: Number of coefficients    : 68"
       ]
      },
      {
       "html": [
        "<pre>PROGRESS: Starting Newton Method</pre>"
       ],
       "metadata": {},
       "output_type": "display_data",
       "text": [
        "PROGRESS: Starting Newton Method"
       ]
      },
      {
       "html": [
        "<pre>PROGRESS: --------------------------------------------------------</pre>"
       ],
       "metadata": {},
       "output_type": "display_data",
       "text": [
        "PROGRESS: --------------------------------------------------------"
       ]
      },
      {
       "html": [
        "<pre>PROGRESS: +-----------+----------+--------------+-------------------+---------------------+</pre>"
       ],
       "metadata": {},
       "output_type": "display_data",
       "text": [
        "PROGRESS: +-----------+----------+--------------+-------------------+---------------------+"
       ]
      },
      {
       "html": [
        "<pre>PROGRESS: | Iteration | Passes   | Elapsed Time | Training-accuracy | Validation-accuracy |</pre>"
       ],
       "metadata": {},
       "output_type": "display_data",
       "text": [
        "PROGRESS: | Iteration | Passes   | Elapsed Time | Training-accuracy | Validation-accuracy |"
       ]
      },
      {
       "html": [
        "<pre>PROGRESS: +-----------+----------+--------------+-------------------+---------------------+</pre>"
       ],
       "metadata": {},
       "output_type": "display_data",
       "text": [
        "PROGRESS: +-----------+----------+--------------+-------------------+---------------------+"
       ]
      },
      {
       "html": [
        "<pre>PROGRESS: | 1         | 2        | 0.234761     | 0.457657          | 0.450347            |</pre>"
       ],
       "metadata": {},
       "output_type": "display_data",
       "text": [
        "PROGRESS: | 1         | 2        | 0.234761     | 0.457657          | 0.450347            |"
       ]
      },
      {
       "html": [
        "<pre>PROGRESS: | 2         | 3        | 0.374854     | 0.460926          | 0.452813            |</pre>"
       ],
       "metadata": {},
       "output_type": "display_data",
       "text": [
        "PROGRESS: | 2         | 3        | 0.374854     | 0.460926          | 0.452813            |"
       ]
      },
      {
       "html": [
        "<pre>PROGRESS: | 3         | 4        | 0.500859     | 0.464469          | 0.457072            |</pre>"
       ],
       "metadata": {},
       "output_type": "display_data",
       "text": [
        "PROGRESS: | 3         | 4        | 0.500859     | 0.464469          | 0.457072            |"
       ]
      },
      {
       "html": [
        "<pre>PROGRESS: | 4         | 5        | 0.625069     | 0.464414          | 0.456624            |</pre>"
       ],
       "metadata": {},
       "output_type": "display_data",
       "text": [
        "PROGRESS: | 4         | 5        | 0.625069     | 0.464414          | 0.456624            |"
       ]
      },
      {
       "html": [
        "<pre>PROGRESS: | 5         | 6        | 0.744207     | 0.464414          | 0.456624            |</pre>"
       ],
       "metadata": {},
       "output_type": "display_data",
       "text": [
        "PROGRESS: | 5         | 6        | 0.744207     | 0.464414          | 0.456624            |"
       ]
      },
      {
       "html": [
        "<pre>PROGRESS: | 6         | 7        | 0.878347     | 0.464469          | 0.456624            |</pre>"
       ],
       "metadata": {},
       "output_type": "display_data",
       "text": [
        "PROGRESS: | 6         | 7        | 0.878347     | 0.464469          | 0.456624            |"
       ]
      },
      {
       "html": [
        "<pre>PROGRESS: | 10        | 11       | 1.699749     | 0.464469          | 0.456624            |</pre>"
       ],
       "metadata": {},
       "output_type": "display_data",
       "text": [
        "PROGRESS: | 10        | 11       | 1.699749     | 0.464469          | 0.456624            |"
       ]
      },
      {
       "html": [
        "<pre>PROGRESS: +-----------+----------+--------------+-------------------+---------------------+</pre>"
       ],
       "metadata": {},
       "output_type": "display_data",
       "text": [
        "PROGRESS: +-----------+----------+--------------+-------------------+---------------------+"
       ]
      }
     ],
     "prompt_number": 61
    },
    {
     "cell_type": "code",
     "collapsed": false,
     "input": [
      "simple_model = graphlab.logistic_classifier.create(train_data, \n",
      "                                                  target='likes_range', \n",
      "                                                  features=['users_in_photo', 'followers_range'],\n",
      "                                                  validation_set = test_data)"
     ],
     "language": "python",
     "metadata": {},
     "outputs": [
      {
       "html": [
        "<pre>PROGRESS: Logistic regression:</pre>"
       ],
       "metadata": {},
       "output_type": "display_data",
       "text": [
        "PROGRESS: Logistic regression:"
       ]
      },
      {
       "html": [
        "<pre>PROGRESS: --------------------------------------------------------</pre>"
       ],
       "metadata": {},
       "output_type": "display_data",
       "text": [
        "PROGRESS: --------------------------------------------------------"
       ]
      },
      {
       "html": [
        "<pre>PROGRESS: Number of examples          : 18350</pre>"
       ],
       "metadata": {},
       "output_type": "display_data",
       "text": [
        "PROGRESS: Number of examples          : 18350"
       ]
      },
      {
       "html": [
        "<pre>PROGRESS: Number of classes           : 5</pre>"
       ],
       "metadata": {},
       "output_type": "display_data",
       "text": [
        "PROGRESS: Number of classes           : 5"
       ]
      },
      {
       "html": [
        "<pre>PROGRESS: Number of feature columns   : 2</pre>"
       ],
       "metadata": {},
       "output_type": "display_data",
       "text": [
        "PROGRESS: Number of feature columns   : 2"
       ]
      },
      {
       "html": [
        "<pre>PROGRESS: Number of unpacked features : 2</pre>"
       ],
       "metadata": {},
       "output_type": "display_data",
       "text": [
        "PROGRESS: Number of unpacked features : 2"
       ]
      },
      {
       "html": [
        "<pre>PROGRESS: Number of coefficients    : 24</pre>"
       ],
       "metadata": {},
       "output_type": "display_data",
       "text": [
        "PROGRESS: Number of coefficients    : 24"
       ]
      },
      {
       "html": [
        "<pre>PROGRESS: Starting Newton Method</pre>"
       ],
       "metadata": {},
       "output_type": "display_data",
       "text": [
        "PROGRESS: Starting Newton Method"
       ]
      },
      {
       "html": [
        "<pre>PROGRESS: --------------------------------------------------------</pre>"
       ],
       "metadata": {},
       "output_type": "display_data",
       "text": [
        "PROGRESS: --------------------------------------------------------"
       ]
      },
      {
       "html": [
        "<pre>PROGRESS: +-----------+----------+--------------+-------------------+---------------------+</pre>"
       ],
       "metadata": {},
       "output_type": "display_data",
       "text": [
        "PROGRESS: +-----------+----------+--------------+-------------------+---------------------+"
       ]
      },
      {
       "html": [
        "<pre>PROGRESS: | Iteration | Passes   | Elapsed Time | Training-accuracy | Validation-accuracy |</pre>"
       ],
       "metadata": {},
       "output_type": "display_data",
       "text": [
        "PROGRESS: | Iteration | Passes   | Elapsed Time | Training-accuracy | Validation-accuracy |"
       ]
      },
      {
       "html": [
        "<pre>PROGRESS: +-----------+----------+--------------+-------------------+---------------------+</pre>"
       ],
       "metadata": {},
       "output_type": "display_data",
       "text": [
        "PROGRESS: +-----------+----------+--------------+-------------------+---------------------+"
       ]
      },
      {
       "html": [
        "<pre>PROGRESS: | 1         | 2        | 0.090081     | 0.414877          | 0.419413            |</pre>"
       ],
       "metadata": {},
       "output_type": "display_data",
       "text": [
        "PROGRESS: | 1         | 2        | 0.090081     | 0.414877          | 0.419413            |"
       ]
      },
      {
       "html": [
        "<pre>PROGRESS: | 2         | 3        | 0.187224     | 0.415586          | 0.418292            |</pre>"
       ],
       "metadata": {},
       "output_type": "display_data",
       "text": [
        "PROGRESS: | 2         | 3        | 0.187224     | 0.415586          | 0.418292            |"
       ]
      },
      {
       "html": [
        "<pre>PROGRESS: | 3         | 4        | 0.297959     | 0.415259          | 0.417395            |</pre>"
       ],
       "metadata": {},
       "output_type": "display_data",
       "text": [
        "PROGRESS: | 3         | 4        | 0.297959     | 0.415259          | 0.417395            |"
       ]
      },
      {
       "html": [
        "<pre>PROGRESS: | 4         | 5        | 0.415628     | 0.414823          | 0.417395            |</pre>"
       ],
       "metadata": {},
       "output_type": "display_data",
       "text": [
        "PROGRESS: | 4         | 5        | 0.415628     | 0.414823          | 0.417395            |"
       ]
      },
      {
       "html": [
        "<pre>PROGRESS: | 5         | 6        | 0.483134     | 0.414768          | 0.417395            |</pre>"
       ],
       "metadata": {},
       "output_type": "display_data",
       "text": [
        "PROGRESS: | 5         | 6        | 0.483134     | 0.414768          | 0.417395            |"
       ]
      },
      {
       "html": [
        "<pre>PROGRESS: | 6         | 7        | 0.548183     | 0.414768          | 0.417395            |</pre>"
       ],
       "metadata": {},
       "output_type": "display_data",
       "text": [
        "PROGRESS: | 6         | 7        | 0.548183     | 0.414768          | 0.417395            |"
       ]
      },
      {
       "html": [
        "<pre>PROGRESS: +-----------+----------+--------------+-------------------+---------------------+</pre>"
       ],
       "metadata": {},
       "output_type": "display_data",
       "text": [
        "PROGRESS: +-----------+----------+--------------+-------------------+---------------------+"
       ]
      }
     ],
     "prompt_number": 48
    },
    {
     "cell_type": "code",
     "collapsed": false,
     "input": [
      "simplest_model = graphlab.logistic_classifier.create(train_data, \n",
      "                                                  target='likes_range', \n",
      "                                                  features=['followers_range'],\n",
      "                                                  validation_set = test_data)"
     ],
     "language": "python",
     "metadata": {},
     "outputs": [
      {
       "html": [
        "<pre>PROGRESS: Logistic regression:</pre>"
       ],
       "metadata": {},
       "output_type": "display_data",
       "text": [
        "PROGRESS: Logistic regression:"
       ]
      },
      {
       "html": [
        "<pre>PROGRESS: --------------------------------------------------------</pre>"
       ],
       "metadata": {},
       "output_type": "display_data",
       "text": [
        "PROGRESS: --------------------------------------------------------"
       ]
      },
      {
       "html": [
        "<pre>PROGRESS: Number of examples          : 18350</pre>"
       ],
       "metadata": {},
       "output_type": "display_data",
       "text": [
        "PROGRESS: Number of examples          : 18350"
       ]
      },
      {
       "html": [
        "<pre>PROGRESS: Number of classes           : 5</pre>"
       ],
       "metadata": {},
       "output_type": "display_data",
       "text": [
        "PROGRESS: Number of classes           : 5"
       ]
      },
      {
       "html": [
        "<pre>PROGRESS: Number of feature columns   : 1</pre>"
       ],
       "metadata": {},
       "output_type": "display_data",
       "text": [
        "PROGRESS: Number of feature columns   : 1"
       ]
      },
      {
       "html": [
        "<pre>PROGRESS: Number of unpacked features : 1</pre>"
       ],
       "metadata": {},
       "output_type": "display_data",
       "text": [
        "PROGRESS: Number of unpacked features : 1"
       ]
      },
      {
       "html": [
        "<pre>PROGRESS: Number of coefficients    : 20</pre>"
       ],
       "metadata": {},
       "output_type": "display_data",
       "text": [
        "PROGRESS: Number of coefficients    : 20"
       ]
      },
      {
       "html": [
        "<pre>PROGRESS: Starting Newton Method</pre>"
       ],
       "metadata": {},
       "output_type": "display_data",
       "text": [
        "PROGRESS: Starting Newton Method"
       ]
      },
      {
       "html": [
        "<pre>PROGRESS: --------------------------------------------------------</pre>"
       ],
       "metadata": {},
       "output_type": "display_data",
       "text": [
        "PROGRESS: --------------------------------------------------------"
       ]
      },
      {
       "html": [
        "<pre>PROGRESS: +-----------+----------+--------------+-------------------+---------------------+</pre>"
       ],
       "metadata": {},
       "output_type": "display_data",
       "text": [
        "PROGRESS: +-----------+----------+--------------+-------------------+---------------------+"
       ]
      },
      {
       "html": [
        "<pre>PROGRESS: | Iteration | Passes   | Elapsed Time | Training-accuracy | Validation-accuracy |</pre>"
       ],
       "metadata": {},
       "output_type": "display_data",
       "text": [
        "PROGRESS: | Iteration | Passes   | Elapsed Time | Training-accuracy | Validation-accuracy |"
       ]
      },
      {
       "html": [
        "<pre>PROGRESS: +-----------+----------+--------------+-------------------+---------------------+</pre>"
       ],
       "metadata": {},
       "output_type": "display_data",
       "text": [
        "PROGRESS: +-----------+----------+--------------+-------------------+---------------------+"
       ]
      },
      {
       "html": [
        "<pre>PROGRESS: | 1         | 2        | 0.118597     | 0.415804          | 0.419189            |</pre>"
       ],
       "metadata": {},
       "output_type": "display_data",
       "text": [
        "PROGRESS: | 1         | 2        | 0.118597     | 0.415804          | 0.419189            |"
       ]
      },
      {
       "html": [
        "<pre>PROGRESS: | 2         | 3        | 0.187362     | 0.415804          | 0.419189            |</pre>"
       ],
       "metadata": {},
       "output_type": "display_data",
       "text": [
        "PROGRESS: | 2         | 3        | 0.187362     | 0.415804          | 0.419189            |"
       ]
      },
      {
       "html": [
        "<pre>PROGRESS: | 3         | 4        | 0.259970     | 0.415804          | 0.419189            |</pre>"
       ],
       "metadata": {},
       "output_type": "display_data",
       "text": [
        "PROGRESS: | 3         | 4        | 0.259970     | 0.415804          | 0.419189            |"
       ]
      },
      {
       "html": [
        "<pre>PROGRESS: | 4         | 5        | 0.338751     | 0.415804          | 0.419189            |</pre>"
       ],
       "metadata": {},
       "output_type": "display_data",
       "text": [
        "PROGRESS: | 4         | 5        | 0.338751     | 0.415804          | 0.419189            |"
       ]
      },
      {
       "html": [
        "<pre>PROGRESS: | 5         | 6        | 0.405867     | 0.415804          | 0.419189            |</pre>"
       ],
       "metadata": {},
       "output_type": "display_data",
       "text": [
        "PROGRESS: | 5         | 6        | 0.405867     | 0.415804          | 0.419189            |"
       ]
      },
      {
       "html": [
        "<pre>PROGRESS: | 6         | 7        | 0.472364     | 0.415804          | 0.419189            |</pre>"
       ],
       "metadata": {},
       "output_type": "display_data",
       "text": [
        "PROGRESS: | 6         | 7        | 0.472364     | 0.415804          | 0.419189            |"
       ]
      },
      {
       "html": [
        "<pre>PROGRESS: +-----------+----------+--------------+-------------------+---------------------+</pre>"
       ],
       "metadata": {},
       "output_type": "display_data",
       "text": [
        "PROGRESS: +-----------+----------+--------------+-------------------+---------------------+"
       ]
      }
     ],
     "prompt_number": 51
    },
    {
     "cell_type": "code",
     "collapsed": false,
     "input": [
      "linear_regression_followers = graphlab.linear_regression.create(train_data,\n",
      "                                                                target='likes',\n",
      "                                                                features=['followers'],\n",
      "                                                                validation_set=test_data)"
     ],
     "language": "python",
     "metadata": {},
     "outputs": [
      {
       "html": [
        "<pre>PROGRESS: Linear regression:</pre>"
       ],
       "metadata": {},
       "output_type": "display_data",
       "text": [
        "PROGRESS: Linear regression:"
       ]
      },
      {
       "html": [
        "<pre>PROGRESS: --------------------------------------------------------</pre>"
       ],
       "metadata": {},
       "output_type": "display_data",
       "text": [
        "PROGRESS: --------------------------------------------------------"
       ]
      },
      {
       "html": [
        "<pre>PROGRESS: Number of examples          : 18350</pre>"
       ],
       "metadata": {},
       "output_type": "display_data",
       "text": [
        "PROGRESS: Number of examples          : 18350"
       ]
      },
      {
       "html": [
        "<pre>PROGRESS: Number of features          : 1</pre>"
       ],
       "metadata": {},
       "output_type": "display_data",
       "text": [
        "PROGRESS: Number of features          : 1"
       ]
      },
      {
       "html": [
        "<pre>PROGRESS: Number of unpacked features : 1</pre>"
       ],
       "metadata": {},
       "output_type": "display_data",
       "text": [
        "PROGRESS: Number of unpacked features : 1"
       ]
      },
      {
       "html": [
        "<pre>PROGRESS: Number of coefficients    : 2</pre>"
       ],
       "metadata": {},
       "output_type": "display_data",
       "text": [
        "PROGRESS: Number of coefficients    : 2"
       ]
      },
      {
       "html": [
        "<pre>PROGRESS: Starting Newton Method</pre>"
       ],
       "metadata": {},
       "output_type": "display_data",
       "text": [
        "PROGRESS: Starting Newton Method"
       ]
      },
      {
       "html": [
        "<pre>PROGRESS: --------------------------------------------------------</pre>"
       ],
       "metadata": {},
       "output_type": "display_data",
       "text": [
        "PROGRESS: --------------------------------------------------------"
       ]
      },
      {
       "html": [
        "<pre>PROGRESS: +-----------+----------+--------------+--------------------+----------------------+---------------+-----------------+</pre>"
       ],
       "metadata": {},
       "output_type": "display_data",
       "text": [
        "PROGRESS: +-----------+----------+--------------+--------------------+----------------------+---------------+-----------------+"
       ]
      },
      {
       "html": [
        "<pre>PROGRESS: | Iteration | Passes   | Elapsed Time | Training-max_error | Validation-max_error | Training-rmse | Validation-rmse |</pre>"
       ],
       "metadata": {},
       "output_type": "display_data",
       "text": [
        "PROGRESS: | Iteration | Passes   | Elapsed Time | Training-max_error | Validation-max_error | Training-rmse | Validation-rmse |"
       ]
      },
      {
       "html": [
        "<pre>PROGRESS: +-----------+----------+--------------+--------------------+----------------------+---------------+-----------------+</pre>"
       ],
       "metadata": {},
       "output_type": "display_data",
       "text": [
        "PROGRESS: +-----------+----------+--------------+--------------------+----------------------+---------------+-----------------+"
       ]
      },
      {
       "html": [
        "<pre>PROGRESS: | 1         | 2        | 0.015079     | 2041.231850        | 2737.792605          | 78.185476     | 80.343578       |</pre>"
       ],
       "metadata": {},
       "output_type": "display_data",
       "text": [
        "PROGRESS: | 1         | 2        | 0.015079     | 2041.231850        | 2737.792605          | 78.185476     | 80.343578       |"
       ]
      },
      {
       "html": [
        "<pre>PROGRESS: +-----------+----------+--------------+--------------------+----------------------+---------------+-----------------+</pre>"
       ],
       "metadata": {},
       "output_type": "display_data",
       "text": [
        "PROGRESS: +-----------+----------+--------------+--------------------+----------------------+---------------+-----------------+"
       ]
      }
     ],
     "prompt_number": 43
    },
    {
     "cell_type": "code",
     "collapsed": false,
     "input": [
      "import matplotlib.pyplot as plt\n",
      "%matplotlib inline  "
     ],
     "language": "python",
     "metadata": {},
     "outputs": [],
     "prompt_number": 49
    },
    {
     "cell_type": "code",
     "collapsed": false,
     "input": [
      "plt.plot(test_data['followers'], test_data['likes'], '.',\n",
      "         test_data['followers'], linear_regression_followers.predict(test_data), '-')"
     ],
     "language": "python",
     "metadata": {},
     "outputs": [
      {
       "metadata": {},
       "output_type": "pyout",
       "prompt_number": 50,
       "text": [
        "[<matplotlib.lines.Line2D at 0x10cf45b50>,\n",
        " <matplotlib.lines.Line2D at 0x10cf45c50>]"
       ]
      },
      {
       "metadata": {},
       "output_type": "display_data",
       "png": "[encoded data removed]",
       "text": [
        "<matplotlib.figure.Figure at 0x10ce603d0>"
       ]
      }
     ],
     "prompt_number": 50
    },
    {
     "cell_type": "code",
     "collapsed": false,
     "input": [
      "another_simple_model = graphlab.logistic_classifier.create(train_data, \n",
      "                                                  target='likes_range', \n",
      "                                                  features=['hour_of_day', 'followers_range'],\n",
      "                                                  validation_set = test_data)"
     ],
     "language": "python",
     "metadata": {},
     "outputs": [
      {
       "html": [
        "<pre>PROGRESS: Logistic regression:</pre>"
       ],
       "metadata": {},
       "output_type": "display_data",
       "text": [
        "PROGRESS: Logistic regression:"
       ]
      },
      {
       "html": [
        "<pre>PROGRESS: --------------------------------------------------------</pre>"
       ],
       "metadata": {},
       "output_type": "display_data",
       "text": [
        "PROGRESS: --------------------------------------------------------"
       ]
      },
      {
       "html": [
        "<pre>PROGRESS: Number of examples          : 18350</pre>"
       ],
       "metadata": {},
       "output_type": "display_data",
       "text": [
        "PROGRESS: Number of examples          : 18350"
       ]
      },
      {
       "html": [
        "<pre>PROGRESS: Number of classes           : 5</pre>"
       ],
       "metadata": {},
       "output_type": "display_data",
       "text": [
        "PROGRESS: Number of classes           : 5"
       ]
      },
      {
       "html": [
        "<pre>PROGRESS: Number of feature columns   : 2</pre>"
       ],
       "metadata": {},
       "output_type": "display_data",
       "text": [
        "PROGRESS: Number of feature columns   : 2"
       ]
      },
      {
       "html": [
        "<pre>PROGRESS: Number of unpacked features : 2</pre>"
       ],
       "metadata": {},
       "output_type": "display_data",
       "text": [
        "PROGRESS: Number of unpacked features : 2"
       ]
      },
      {
       "html": [
        "<pre>PROGRESS: Number of coefficients    : 24</pre>"
       ],
       "metadata": {},
       "output_type": "display_data",
       "text": [
        "PROGRESS: Number of coefficients    : 24"
       ]
      },
      {
       "html": [
        "<pre>PROGRESS: Starting Newton Method</pre>"
       ],
       "metadata": {},
       "output_type": "display_data",
       "text": [
        "PROGRESS: Starting Newton Method"
       ]
      },
      {
       "html": [
        "<pre>PROGRESS: --------------------------------------------------------</pre>"
       ],
       "metadata": {},
       "output_type": "display_data",
       "text": [
        "PROGRESS: --------------------------------------------------------"
       ]
      },
      {
       "html": [
        "<pre>PROGRESS: +-----------+----------+--------------+-------------------+---------------------+</pre>"
       ],
       "metadata": {},
       "output_type": "display_data",
       "text": [
        "PROGRESS: +-----------+----------+--------------+-------------------+---------------------+"
       ]
      },
      {
       "html": [
        "<pre>PROGRESS: | Iteration | Passes   | Elapsed Time | Training-accuracy | Validation-accuracy |</pre>"
       ],
       "metadata": {},
       "output_type": "display_data",
       "text": [
        "PROGRESS: | Iteration | Passes   | Elapsed Time | Training-accuracy | Validation-accuracy |"
       ]
      },
      {
       "html": [
        "<pre>PROGRESS: +-----------+----------+--------------+-------------------+---------------------+</pre>"
       ],
       "metadata": {},
       "output_type": "display_data",
       "text": [
        "PROGRESS: +-----------+----------+--------------+-------------------+---------------------+"
       ]
      },
      {
       "html": [
        "<pre>PROGRESS: | 1         | 2        | 0.170999     | 0.407956          | 0.407084            |</pre>"
       ],
       "metadata": {},
       "output_type": "display_data",
       "text": [
        "PROGRESS: | 1         | 2        | 0.170999     | 0.407956          | 0.407084            |"
       ]
      },
      {
       "html": [
        "<pre>PROGRESS: | 2         | 3        | 0.298415     | 0.413842          | 0.414033            |</pre>"
       ],
       "metadata": {},
       "output_type": "display_data",
       "text": [
        "PROGRESS: | 2         | 3        | 0.298415     | 0.413842          | 0.414033            |"
       ]
      },
      {
       "html": [
        "<pre>PROGRESS: | 3         | 4        | 0.375582     | 0.409101          | 0.411791            |</pre>"
       ],
       "metadata": {},
       "output_type": "display_data",
       "text": [
        "PROGRESS: | 3         | 4        | 0.375582     | 0.409101          | 0.411791            |"
       ]
      },
      {
       "html": [
        "<pre>PROGRESS: | 4         | 5        | 0.445920     | 0.409101          | 0.411791            |</pre>"
       ],
       "metadata": {},
       "output_type": "display_data",
       "text": [
        "PROGRESS: | 4         | 5        | 0.445920     | 0.409101          | 0.411791            |"
       ]
      },
      {
       "html": [
        "<pre>PROGRESS: | 5         | 6        | 0.531035     | 0.409101          | 0.411791            |</pre>"
       ],
       "metadata": {},
       "output_type": "display_data",
       "text": [
        "PROGRESS: | 5         | 6        | 0.531035     | 0.409101          | 0.411791            |"
       ]
      },
      {
       "html": [
        "<pre>PROGRESS: | 6         | 7        | 0.604281     | 0.409101          | 0.411791            |</pre>"
       ],
       "metadata": {},
       "output_type": "display_data",
       "text": [
        "PROGRESS: | 6         | 7        | 0.604281     | 0.409101          | 0.411791            |"
       ]
      },
      {
       "html": [
        "<pre>PROGRESS: +-----------+----------+--------------+-------------------+---------------------+</pre>"
       ],
       "metadata": {},
       "output_type": "display_data",
       "text": [
        "PROGRESS: +-----------+----------+--------------+-------------------+---------------------+"
       ]
      }
     ],
     "prompt_number": 52
    },
    {
     "cell_type": "code",
     "collapsed": false,
     "input": [
      "another_simple_model2 = graphlab.logistic_classifier.create(train_data, \n",
      "                                                  target='likes_range', \n",
      "                                                  features=['hour_of_day'],\n",
      "                                                  validation_set = test_data)"
     ],
     "language": "python",
     "metadata": {},
     "outputs": [
      {
       "html": [
        "<pre>PROGRESS: Logistic regression:</pre>"
       ],
       "metadata": {},
       "output_type": "display_data",
       "text": [
        "PROGRESS: Logistic regression:"
       ]
      },
      {
       "html": [
        "<pre>PROGRESS: --------------------------------------------------------</pre>"
       ],
       "metadata": {},
       "output_type": "display_data",
       "text": [
        "PROGRESS: --------------------------------------------------------"
       ]
      },
      {
       "html": [
        "<pre>PROGRESS: Number of examples          : 18350</pre>"
       ],
       "metadata": {},
       "output_type": "display_data",
       "text": [
        "PROGRESS: Number of examples          : 18350"
       ]
      },
      {
       "html": [
        "<pre>PROGRESS: Number of classes           : 5</pre>"
       ],
       "metadata": {},
       "output_type": "display_data",
       "text": [
        "PROGRESS: Number of classes           : 5"
       ]
      },
      {
       "html": [
        "<pre>PROGRESS: Number of feature columns   : 1</pre>"
       ],
       "metadata": {},
       "output_type": "display_data",
       "text": [
        "PROGRESS: Number of feature columns   : 1"
       ]
      },
      {
       "html": [
        "<pre>PROGRESS: Number of unpacked features : 1</pre>"
       ],
       "metadata": {},
       "output_type": "display_data",
       "text": [
        "PROGRESS: Number of unpacked features : 1"
       ]
      },
      {
       "html": [
        "<pre>PROGRESS: Number of coefficients    : 8</pre>"
       ],
       "metadata": {},
       "output_type": "display_data",
       "text": [
        "PROGRESS: Number of coefficients    : 8"
       ]
      },
      {
       "html": [
        "<pre>PROGRESS: Starting Newton Method</pre>"
       ],
       "metadata": {},
       "output_type": "display_data",
       "text": [
        "PROGRESS: Starting Newton Method"
       ]
      },
      {
       "html": [
        "<pre>PROGRESS: --------------------------------------------------------</pre>"
       ],
       "metadata": {},
       "output_type": "display_data",
       "text": [
        "PROGRESS: --------------------------------------------------------"
       ]
      },
      {
       "html": [
        "<pre>PROGRESS: +-----------+----------+--------------+-------------------+---------------------+</pre>"
       ],
       "metadata": {},
       "output_type": "display_data",
       "text": [
        "PROGRESS: +-----------+----------+--------------+-------------------+---------------------+"
       ]
      },
      {
       "html": [
        "<pre>PROGRESS: | Iteration | Passes   | Elapsed Time | Training-accuracy | Validation-accuracy |</pre>"
       ],
       "metadata": {},
       "output_type": "display_data",
       "text": [
        "PROGRESS: | Iteration | Passes   | Elapsed Time | Training-accuracy | Validation-accuracy |"
       ]
      },
      {
       "html": [
        "<pre>PROGRESS: +-----------+----------+--------------+-------------------+---------------------+</pre>"
       ],
       "metadata": {},
       "output_type": "display_data",
       "text": [
        "PROGRESS: +-----------+----------+--------------+-------------------+---------------------+"
       ]
      },
      {
       "html": [
        "<pre>PROGRESS: | 1         | 2        | 0.092389     | 0.399019          | 0.392065            |</pre>"
       ],
       "metadata": {},
       "output_type": "display_data",
       "text": [
        "PROGRESS: | 1         | 2        | 0.092389     | 0.399019          | 0.392065            |"
       ]
      },
      {
       "html": [
        "<pre>PROGRESS: | 2         | 3        | 0.156603     | 0.399019          | 0.392065            |</pre>"
       ],
       "metadata": {},
       "output_type": "display_data",
       "text": [
        "PROGRESS: | 2         | 3        | 0.156603     | 0.399019          | 0.392065            |"
       ]
      },
      {
       "html": [
        "<pre>PROGRESS: | 3         | 4        | 0.207828     | 0.399019          | 0.392065            |</pre>"
       ],
       "metadata": {},
       "output_type": "display_data",
       "text": [
        "PROGRESS: | 3         | 4        | 0.207828     | 0.399019          | 0.392065            |"
       ]
      },
      {
       "html": [
        "<pre>PROGRESS: | 4         | 5        | 0.269667     | 0.399019          | 0.392065            |</pre>"
       ],
       "metadata": {},
       "output_type": "display_data",
       "text": [
        "PROGRESS: | 4         | 5        | 0.269667     | 0.399019          | 0.392065            |"
       ]
      },
      {
       "html": [
        "<pre>PROGRESS: | 5         | 6        | 0.335244     | 0.399019          | 0.392065            |</pre>"
       ],
       "metadata": {},
       "output_type": "display_data",
       "text": [
        "PROGRESS: | 5         | 6        | 0.335244     | 0.399019          | 0.392065            |"
       ]
      },
      {
       "html": [
        "<pre>PROGRESS: | 6         | 7        | 0.390247     | 0.399019          | 0.392065            |</pre>"
       ],
       "metadata": {},
       "output_type": "display_data",
       "text": [
        "PROGRESS: | 6         | 7        | 0.390247     | 0.399019          | 0.392065            |"
       ]
      },
      {
       "html": [
        "<pre>PROGRESS: +-----------+----------+--------------+-------------------+---------------------+</pre>"
       ],
       "metadata": {},
       "output_type": "display_data",
       "text": [
        "PROGRESS: +-----------+----------+--------------+-------------------+---------------------+"
       ]
      }
     ],
     "prompt_number": 17
    },
    {
     "cell_type": "code",
     "collapsed": false,
     "input": [],
     "language": "python",
     "metadata": {},
     "outputs": []
    },
    {
     "cell_type": "code",
     "collapsed": false,
     "input": [
      "simple_hashtag_model2 = graphlab.logistic_classifier.create(train_data, \n",
      "                                                  target='likes_range', \n",
      "                                                  features=['followers_range'] + my_hashtags,\n",
      "                                                  validation_set = test_data)"
     ],
     "language": "python",
     "metadata": {},
     "outputs": [
      {
       "html": [
        "<pre>PROGRESS: Logistic regression:</pre>"
       ],
       "metadata": {},
       "output_type": "display_data",
       "text": [
        "PROGRESS: Logistic regression:"
       ]
      },
      {
       "html": [
        "<pre>PROGRESS: --------------------------------------------------------</pre>"
       ],
       "metadata": {},
       "output_type": "display_data",
       "text": [
        "PROGRESS: --------------------------------------------------------"
       ]
      },
      {
       "html": [
        "<pre>PROGRESS: Number of examples          : 18350</pre>"
       ],
       "metadata": {},
       "output_type": "display_data",
       "text": [
        "PROGRESS: Number of examples          : 18350"
       ]
      },
      {
       "html": [
        "<pre>PROGRESS: Number of classes           : 5</pre>"
       ],
       "metadata": {},
       "output_type": "display_data",
       "text": [
        "PROGRESS: Number of classes           : 5"
       ]
      },
      {
       "html": [
        "<pre>PROGRESS: Number of feature columns   : 12</pre>"
       ],
       "metadata": {},
       "output_type": "display_data",
       "text": [
        "PROGRESS: Number of feature columns   : 12"
       ]
      },
      {
       "html": [
        "<pre>PROGRESS: Number of unpacked features : 12</pre>"
       ],
       "metadata": {},
       "output_type": "display_data",
       "text": [
        "PROGRESS: Number of unpacked features : 12"
       ]
      },
      {
       "html": [
        "<pre>PROGRESS: Number of coefficients    : 64</pre>"
       ],
       "metadata": {},
       "output_type": "display_data",
       "text": [
        "PROGRESS: Number of coefficients    : 64"
       ]
      },
      {
       "html": [
        "<pre>PROGRESS: Starting Newton Method</pre>"
       ],
       "metadata": {},
       "output_type": "display_data",
       "text": [
        "PROGRESS: Starting Newton Method"
       ]
      },
      {
       "html": [
        "<pre>PROGRESS: --------------------------------------------------------</pre>"
       ],
       "metadata": {},
       "output_type": "display_data",
       "text": [
        "PROGRESS: --------------------------------------------------------"
       ]
      },
      {
       "html": [
        "<pre>PROGRESS: +-----------+----------+--------------+-------------------+---------------------+</pre>"
       ],
       "metadata": {},
       "output_type": "display_data",
       "text": [
        "PROGRESS: +-----------+----------+--------------+-------------------+---------------------+"
       ]
      },
      {
       "html": [
        "<pre>PROGRESS: | Iteration | Passes   | Elapsed Time | Training-accuracy | Validation-accuracy |</pre>"
       ],
       "metadata": {},
       "output_type": "display_data",
       "text": [
        "PROGRESS: | Iteration | Passes   | Elapsed Time | Training-accuracy | Validation-accuracy |"
       ]
      },
      {
       "html": [
        "<pre>PROGRESS: +-----------+----------+--------------+-------------------+---------------------+</pre>"
       ],
       "metadata": {},
       "output_type": "display_data",
       "text": [
        "PROGRESS: +-----------+----------+--------------+-------------------+---------------------+"
       ]
      },
      {
       "html": [
        "<pre>PROGRESS: | 1         | 2        | 0.254289     | 0.454169          | 0.446088            |</pre>"
       ],
       "metadata": {},
       "output_type": "display_data",
       "text": [
        "PROGRESS: | 1         | 2        | 0.254289     | 0.454169          | 0.446088            |"
       ]
      },
      {
       "html": [
        "<pre>PROGRESS: | 2         | 3        | 0.403483     | 0.455804          | 0.447882            |</pre>"
       ],
       "metadata": {},
       "output_type": "display_data",
       "text": [
        "PROGRESS: | 2         | 3        | 0.403483     | 0.455804          | 0.447882            |"
       ]
      },
      {
       "html": [
        "<pre>PROGRESS: | 3         | 4        | 0.553533     | 0.455749          | 0.447882            |</pre>"
       ],
       "metadata": {},
       "output_type": "display_data",
       "text": [
        "PROGRESS: | 3         | 4        | 0.553533     | 0.455749          | 0.447882            |"
       ]
      },
      {
       "html": [
        "<pre>PROGRESS: | 4         | 5        | 0.698463     | 0.455804          | 0.447882            |</pre>"
       ],
       "metadata": {},
       "output_type": "display_data",
       "text": [
        "PROGRESS: | 4         | 5        | 0.698463     | 0.455804          | 0.447882            |"
       ]
      },
      {
       "html": [
        "<pre>PROGRESS: | 5         | 6        | 0.854066     | 0.455804          | 0.447882            |</pre>"
       ],
       "metadata": {},
       "output_type": "display_data",
       "text": [
        "PROGRESS: | 5         | 6        | 0.854066     | 0.455804          | 0.447882            |"
       ]
      },
      {
       "html": [
        "<pre>PROGRESS: | 6         | 7        | 0.979111     | 0.455804          | 0.447882            |</pre>"
       ],
       "metadata": {},
       "output_type": "display_data",
       "text": [
        "PROGRESS: | 6         | 7        | 0.979111     | 0.455804          | 0.447882            |"
       ]
      },
      {
       "html": [
        "<pre>PROGRESS: | 10        | 11       | 1.701027     | 0.455804          | 0.447882            |</pre>"
       ],
       "metadata": {},
       "output_type": "display_data",
       "text": [
        "PROGRESS: | 10        | 11       | 1.701027     | 0.455804          | 0.447882            |"
       ]
      },
      {
       "html": [
        "<pre>PROGRESS: +-----------+----------+--------------+-------------------+---------------------+</pre>"
       ],
       "metadata": {},
       "output_type": "display_data",
       "text": [
        "PROGRESS: +-----------+----------+--------------+-------------------+---------------------+"
       ]
      }
     ],
     "prompt_number": 62
    },
    {
     "cell_type": "code",
     "collapsed": false,
     "input": [
      "simple_hashtag_model3 = graphlab.logistic_classifier.create(train_data, \n",
      "                                                  target='likes_range', \n",
      "                                                  features=['hour_of_day'] + my_hashtags,\n",
      "                                                  validation_set = test_data)"
     ],
     "language": "python",
     "metadata": {},
     "outputs": [
      {
       "html": [
        "<pre>PROGRESS: Logistic regression:</pre>"
       ],
       "metadata": {},
       "output_type": "display_data",
       "text": [
        "PROGRESS: Logistic regression:"
       ]
      },
      {
       "html": [
        "<pre>PROGRESS: --------------------------------------------------------</pre>"
       ],
       "metadata": {},
       "output_type": "display_data",
       "text": [
        "PROGRESS: --------------------------------------------------------"
       ]
      },
      {
       "html": [
        "<pre>PROGRESS: Number of examples          : 18350</pre>"
       ],
       "metadata": {},
       "output_type": "display_data",
       "text": [
        "PROGRESS: Number of examples          : 18350"
       ]
      },
      {
       "html": [
        "<pre>PROGRESS: Number of classes           : 5</pre>"
       ],
       "metadata": {},
       "output_type": "display_data",
       "text": [
        "PROGRESS: Number of classes           : 5"
       ]
      },
      {
       "html": [
        "<pre>PROGRESS: Number of feature columns   : 12</pre>"
       ],
       "metadata": {},
       "output_type": "display_data",
       "text": [
        "PROGRESS: Number of feature columns   : 12"
       ]
      },
      {
       "html": [
        "<pre>PROGRESS: Number of unpacked features : 12</pre>"
       ],
       "metadata": {},
       "output_type": "display_data",
       "text": [
        "PROGRESS: Number of unpacked features : 12"
       ]
      },
      {
       "html": [
        "<pre>PROGRESS: Number of coefficients    : 52</pre>"
       ],
       "metadata": {},
       "output_type": "display_data",
       "text": [
        "PROGRESS: Number of coefficients    : 52"
       ]
      },
      {
       "html": [
        "<pre>PROGRESS: Starting Newton Method</pre>"
       ],
       "metadata": {},
       "output_type": "display_data",
       "text": [
        "PROGRESS: Starting Newton Method"
       ]
      },
      {
       "html": [
        "<pre>PROGRESS: --------------------------------------------------------</pre>"
       ],
       "metadata": {},
       "output_type": "display_data",
       "text": [
        "PROGRESS: --------------------------------------------------------"
       ]
      },
      {
       "html": [
        "<pre>PROGRESS: +-----------+----------+--------------+-------------------+---------------------+</pre>"
       ],
       "metadata": {},
       "output_type": "display_data",
       "text": [
        "PROGRESS: +-----------+----------+--------------+-------------------+---------------------+"
       ]
      },
      {
       "html": [
        "<pre>PROGRESS: | Iteration | Passes   | Elapsed Time | Training-accuracy | Validation-accuracy |</pre>"
       ],
       "metadata": {},
       "output_type": "display_data",
       "text": [
        "PROGRESS: | Iteration | Passes   | Elapsed Time | Training-accuracy | Validation-accuracy |"
       ]
      },
      {
       "html": [
        "<pre>PROGRESS: +-----------+----------+--------------+-------------------+---------------------+</pre>"
       ],
       "metadata": {},
       "output_type": "display_data",
       "text": [
        "PROGRESS: +-----------+----------+--------------+-------------------+---------------------+"
       ]
      },
      {
       "html": [
        "<pre>PROGRESS: | 1         | 2        | 0.355132     | 0.416948          | 0.419861            |</pre>"
       ],
       "metadata": {},
       "output_type": "display_data",
       "text": [
        "PROGRESS: | 1         | 2        | 0.355132     | 0.416948          | 0.419861            |"
       ]
      },
      {
       "html": [
        "<pre>PROGRESS: | 2         | 3        | 0.524554     | 0.415313          | 0.416274            |</pre>"
       ],
       "metadata": {},
       "output_type": "display_data",
       "text": [
        "PROGRESS: | 2         | 3        | 0.524554     | 0.415313          | 0.416274            |"
       ]
      },
      {
       "html": [
        "<pre>PROGRESS: | 3         | 4        | 0.639528     | 0.414605          | 0.415602            |</pre>"
       ],
       "metadata": {},
       "output_type": "display_data",
       "text": [
        "PROGRESS: | 3         | 4        | 0.639528     | 0.414605          | 0.415602            |"
       ]
      },
      {
       "html": [
        "<pre>PROGRESS: | 4         | 5        | 0.761189     | 0.414605          | 0.415602            |</pre>"
       ],
       "metadata": {},
       "output_type": "display_data",
       "text": [
        "PROGRESS: | 4         | 5        | 0.761189     | 0.414605          | 0.415602            |"
       ]
      },
      {
       "html": [
        "<pre>PROGRESS: | 5         | 6        | 0.869908     | 0.414605          | 0.415826            |</pre>"
       ],
       "metadata": {},
       "output_type": "display_data",
       "text": [
        "PROGRESS: | 5         | 6        | 0.869908     | 0.414605          | 0.415826            |"
       ]
      },
      {
       "html": [
        "<pre>PROGRESS: | 6         | 7        | 1.170472     | 0.414605          | 0.415826            |</pre>"
       ],
       "metadata": {},
       "output_type": "display_data",
       "text": [
        "PROGRESS: | 6         | 7        | 1.170472     | 0.414605          | 0.415826            |"
       ]
      },
      {
       "html": [
        "<pre>PROGRESS: | 10        | 11       | 1.682025     | 0.414605          | 0.415826            |</pre>"
       ],
       "metadata": {},
       "output_type": "display_data",
       "text": [
        "PROGRESS: | 10        | 11       | 1.682025     | 0.414605          | 0.415826            |"
       ]
      },
      {
       "html": [
        "<pre>PROGRESS: +-----------+----------+--------------+-------------------+---------------------+</pre>"
       ],
       "metadata": {},
       "output_type": "display_data",
       "text": [
        "PROGRESS: +-----------+----------+--------------+-------------------+---------------------+"
       ]
      }
     ],
     "prompt_number": 63
    },
    {
     "cell_type": "code",
     "collapsed": false,
     "input": [
      "simple_hashtag_model4 = graphlab.logistic_classifier.create(train_data, \n",
      "                                                  target='likes_range', \n",
      "                                                  features=['hour_of_day', 'followers_range'] + my_hashtags,\n",
      "                                                  validation_set = test_data)"
     ],
     "language": "python",
     "metadata": {},
     "outputs": [
      {
       "html": [
        "<pre>PROGRESS: Logistic regression:</pre>"
       ],
       "metadata": {},
       "output_type": "display_data",
       "text": [
        "PROGRESS: Logistic regression:"
       ]
      },
      {
       "html": [
        "<pre>PROGRESS: --------------------------------------------------------</pre>"
       ],
       "metadata": {},
       "output_type": "display_data",
       "text": [
        "PROGRESS: --------------------------------------------------------"
       ]
      },
      {
       "html": [
        "<pre>PROGRESS: Number of examples          : 18350</pre>"
       ],
       "metadata": {},
       "output_type": "display_data",
       "text": [
        "PROGRESS: Number of examples          : 18350"
       ]
      },
      {
       "html": [
        "<pre>PROGRESS: Number of classes           : 5</pre>"
       ],
       "metadata": {},
       "output_type": "display_data",
       "text": [
        "PROGRESS: Number of classes           : 5"
       ]
      },
      {
       "html": [
        "<pre>PROGRESS: Number of feature columns   : 13</pre>"
       ],
       "metadata": {},
       "output_type": "display_data",
       "text": [
        "PROGRESS: Number of feature columns   : 13"
       ]
      },
      {
       "html": [
        "<pre>PROGRESS: Number of unpacked features : 13</pre>"
       ],
       "metadata": {},
       "output_type": "display_data",
       "text": [
        "PROGRESS: Number of unpacked features : 13"
       ]
      },
      {
       "html": [
        "<pre>PROGRESS: Number of coefficients    : 68</pre>"
       ],
       "metadata": {},
       "output_type": "display_data",
       "text": [
        "PROGRESS: Number of coefficients    : 68"
       ]
      },
      {
       "html": [
        "<pre>PROGRESS: Starting Newton Method</pre>"
       ],
       "metadata": {},
       "output_type": "display_data",
       "text": [
        "PROGRESS: Starting Newton Method"
       ]
      },
      {
       "html": [
        "<pre>PROGRESS: --------------------------------------------------------</pre>"
       ],
       "metadata": {},
       "output_type": "display_data",
       "text": [
        "PROGRESS: --------------------------------------------------------"
       ]
      },
      {
       "html": [
        "<pre>PROGRESS: +-----------+----------+--------------+-------------------+---------------------+</pre>"
       ],
       "metadata": {},
       "output_type": "display_data",
       "text": [
        "PROGRESS: +-----------+----------+--------------+-------------------+---------------------+"
       ]
      },
      {
       "html": [
        "<pre>PROGRESS: | Iteration | Passes   | Elapsed Time | Training-accuracy | Validation-accuracy |</pre>"
       ],
       "metadata": {},
       "output_type": "display_data",
       "text": [
        "PROGRESS: | Iteration | Passes   | Elapsed Time | Training-accuracy | Validation-accuracy |"
       ]
      },
      {
       "html": [
        "<pre>PROGRESS: +-----------+----------+--------------+-------------------+---------------------+</pre>"
       ],
       "metadata": {},
       "output_type": "display_data",
       "text": [
        "PROGRESS: +-----------+----------+--------------+-------------------+---------------------+"
       ]
      },
      {
       "html": [
        "<pre>PROGRESS: | 1         | 2        | 0.284614     | 0.467629          | 0.471195            |</pre>"
       ],
       "metadata": {},
       "output_type": "display_data",
       "text": [
        "PROGRESS: | 1         | 2        | 0.284614     | 0.467629          | 0.471195            |"
       ]
      },
      {
       "html": [
        "<pre>PROGRESS: | 2         | 3        | 0.430513     | 0.469591          | 0.472540            |</pre>"
       ],
       "metadata": {},
       "output_type": "display_data",
       "text": [
        "PROGRESS: | 2         | 3        | 0.430513     | 0.469591          | 0.472540            |"
       ]
      },
      {
       "html": [
        "<pre>PROGRESS: | 3         | 4        | 0.585429     | 0.461635          | 0.460883            |</pre>"
       ],
       "metadata": {},
       "output_type": "display_data",
       "text": [
        "PROGRESS: | 3         | 4        | 0.585429     | 0.461635          | 0.460883            |"
       ]
      },
      {
       "html": [
        "<pre>PROGRESS: | 4         | 5        | 0.733512     | 0.461417          | 0.461107            |</pre>"
       ],
       "metadata": {},
       "output_type": "display_data",
       "text": [
        "PROGRESS: | 4         | 5        | 0.733512     | 0.461417          | 0.461107            |"
       ]
      },
      {
       "html": [
        "<pre>PROGRESS: | 5         | 6        | 0.888306     | 0.461308          | 0.461107            |</pre>"
       ],
       "metadata": {},
       "output_type": "display_data",
       "text": [
        "PROGRESS: | 5         | 6        | 0.888306     | 0.461308          | 0.461107            |"
       ]
      },
      {
       "html": [
        "<pre>PROGRESS: | 6         | 7        | 1.034292     | 0.461308          | 0.461107            |</pre>"
       ],
       "metadata": {},
       "output_type": "display_data",
       "text": [
        "PROGRESS: | 6         | 7        | 1.034292     | 0.461308          | 0.461107            |"
       ]
      },
      {
       "html": [
        "<pre>PROGRESS: | 10        | 11       | 1.577929     | 0.461308          | 0.461107            |</pre>"
       ],
       "metadata": {},
       "output_type": "display_data",
       "text": [
        "PROGRESS: | 10        | 11       | 1.577929     | 0.461308          | 0.461107            |"
       ]
      },
      {
       "html": [
        "<pre>PROGRESS: +-----------+----------+--------------+-------------------+---------------------+</pre>"
       ],
       "metadata": {},
       "output_type": "display_data",
       "text": [
        "PROGRESS: +-----------+----------+--------------+-------------------+---------------------+"
       ]
      }
     ],
     "prompt_number": 65
    },
    {
     "cell_type": "code",
     "collapsed": false,
     "input": [
      "simple_hashtag_model5 = graphlab.logistic_classifier.create(train_data, \n",
      "                                                  target='likes_range', \n",
      "                                                  features=['hour_of_day', 'followers_range', 'type'] + my_hashtags,\n",
      "                                                  validation_set = test_data)"
     ],
     "language": "python",
     "metadata": {},
     "outputs": [
      {
       "html": [
        "<pre>PROGRESS: Logistic regression:</pre>"
       ],
       "metadata": {},
       "output_type": "display_data",
       "text": [
        "PROGRESS: Logistic regression:"
       ]
      },
      {
       "html": [
        "<pre>PROGRESS: --------------------------------------------------------</pre>"
       ],
       "metadata": {},
       "output_type": "display_data",
       "text": [
        "PROGRESS: --------------------------------------------------------"
       ]
      },
      {
       "html": [
        "<pre>PROGRESS: Number of examples          : 18350</pre>"
       ],
       "metadata": {},
       "output_type": "display_data",
       "text": [
        "PROGRESS: Number of examples          : 18350"
       ]
      },
      {
       "html": [
        "<pre>PROGRESS: Number of classes           : 5</pre>"
       ],
       "metadata": {},
       "output_type": "display_data",
       "text": [
        "PROGRESS: Number of classes           : 5"
       ]
      },
      {
       "html": [
        "<pre>PROGRESS: Number of feature columns   : 14</pre>"
       ],
       "metadata": {},
       "output_type": "display_data",
       "text": [
        "PROGRESS: Number of feature columns   : 14"
       ]
      },
      {
       "html": [
        "<pre>PROGRESS: Number of unpacked features : 14</pre>"
       ],
       "metadata": {},
       "output_type": "display_data",
       "text": [
        "PROGRESS: Number of unpacked features : 14"
       ]
      },
      {
       "html": [
        "<pre>PROGRESS: Number of coefficients    : 72</pre>"
       ],
       "metadata": {},
       "output_type": "display_data",
       "text": [
        "PROGRESS: Number of coefficients    : 72"
       ]
      },
      {
       "html": [
        "<pre>PROGRESS: Starting Newton Method</pre>"
       ],
       "metadata": {},
       "output_type": "display_data",
       "text": [
        "PROGRESS: Starting Newton Method"
       ]
      },
      {
       "html": [
        "<pre>PROGRESS: --------------------------------------------------------</pre>"
       ],
       "metadata": {},
       "output_type": "display_data",
       "text": [
        "PROGRESS: --------------------------------------------------------"
       ]
      },
      {
       "html": [
        "<pre>PROGRESS: +-----------+----------+--------------+-------------------+---------------------+</pre>"
       ],
       "metadata": {},
       "output_type": "display_data",
       "text": [
        "PROGRESS: +-----------+----------+--------------+-------------------+---------------------+"
       ]
      },
      {
       "html": [
        "<pre>PROGRESS: | Iteration | Passes   | Elapsed Time | Training-accuracy | Validation-accuracy |</pre>"
       ],
       "metadata": {},
       "output_type": "display_data",
       "text": [
        "PROGRESS: | Iteration | Passes   | Elapsed Time | Training-accuracy | Validation-accuracy |"
       ]
      },
      {
       "html": [
        "<pre>PROGRESS: +-----------+----------+--------------+-------------------+---------------------+</pre>"
       ],
       "metadata": {},
       "output_type": "display_data",
       "text": [
        "PROGRESS: +-----------+----------+--------------+-------------------+---------------------+"
       ]
      },
      {
       "html": [
        "<pre>PROGRESS: | 1         | 2        | 0.346974     | 0.462888          | 0.469850            |</pre>"
       ],
       "metadata": {},
       "output_type": "display_data",
       "text": [
        "PROGRESS: | 1         | 2        | 0.346974     | 0.462888          | 0.469850            |"
       ]
      },
      {
       "html": [
        "<pre>PROGRESS: | 2         | 3        | 0.511702     | 0.460545          | 0.464470            |</pre>"
       ],
       "metadata": {},
       "output_type": "display_data",
       "text": [
        "PROGRESS: | 2         | 3        | 0.511702     | 0.460545          | 0.464470            |"
       ]
      },
      {
       "html": [
        "<pre>PROGRESS: | 3         | 4        | 0.660757     | 0.464796          | 0.464918            |</pre>"
       ],
       "metadata": {},
       "output_type": "display_data",
       "text": [
        "PROGRESS: | 3         | 4        | 0.660757     | 0.464796          | 0.464918            |"
       ]
      },
      {
       "html": [
        "<pre>PROGRESS: | 4         | 5        | 0.839394     | 0.470354          | 0.472091            |</pre>"
       ],
       "metadata": {},
       "output_type": "display_data",
       "text": [
        "PROGRESS: | 4         | 5        | 0.839394     | 0.470354          | 0.472091            |"
       ]
      },
      {
       "html": [
        "<pre>PROGRESS: | 5         | 6        | 0.993868     | 0.470300          | 0.472091            |</pre>"
       ],
       "metadata": {},
       "output_type": "display_data",
       "text": [
        "PROGRESS: | 5         | 6        | 0.993868     | 0.470300          | 0.472091            |"
       ]
      },
      {
       "html": [
        "<pre>PROGRESS: | 6         | 7        | 1.134646     | 0.470245          | 0.472091            |</pre>"
       ],
       "metadata": {},
       "output_type": "display_data",
       "text": [
        "PROGRESS: | 6         | 7        | 1.134646     | 0.470245          | 0.472091            |"
       ]
      },
      {
       "html": [
        "<pre>PROGRESS: | 10        | 11       | 1.691243     | 0.470300          | 0.472091            |</pre>"
       ],
       "metadata": {},
       "output_type": "display_data",
       "text": [
        "PROGRESS: | 10        | 11       | 1.691243     | 0.470300          | 0.472091            |"
       ]
      },
      {
       "html": [
        "<pre>PROGRESS: +-----------+----------+--------------+-------------------+---------------------+</pre>"
       ],
       "metadata": {},
       "output_type": "display_data",
       "text": [
        "PROGRESS: +-----------+----------+--------------+-------------------+---------------------+"
       ]
      }
     ],
     "prompt_number": 66
    },
    {
     "cell_type": "code",
     "collapsed": false,
     "input": [],
     "language": "python",
     "metadata": {},
     "outputs": []
    }
   ],
   "metadata": {}
  }
 ]
}